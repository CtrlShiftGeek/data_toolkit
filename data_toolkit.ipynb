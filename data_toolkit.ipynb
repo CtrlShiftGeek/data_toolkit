{
  "cells": [
    {
      "cell_type": "markdown",
      "id": "edd35fbf-780a-4d68-b6e1-e5fff72c6d3f",
      "metadata": {
        "id": "edd35fbf-780a-4d68-b6e1-e5fff72c6d3f"
      },
      "source": [
        "## import"
      ]
    },
    {
      "cell_type": "code",
      "execution_count": null,
      "id": "573041de-b48d-474e-8a04-442dd71932a0",
      "metadata": {
        "id": "573041de-b48d-474e-8a04-442dd71932a0"
      },
      "outputs": [],
      "source": [
        "import pandas as pd\n",
        "import numpy as np\n",
        "import matplotlib.pyplot as plt\n",
        "from scipy.stats import norm\n",
        "import seaborn as sns"
      ]
    },
    {
      "cell_type": "code",
      "execution_count": null,
      "id": "42cf85d9-8b16-4b5f-b9e7-01b63bd7ceb9",
      "metadata": {
        "id": "42cf85d9-8b16-4b5f-b9e7-01b63bd7ceb9"
      },
      "outputs": [],
      "source": [
        "data = pd.read_csv('People Data.csv')"
      ]
    },
    {
      "cell_type": "code",
      "execution_count": null,
      "id": "ffd2d21b-4dda-4cba-a173-13e3feb6695f",
      "metadata": {
        "id": "ffd2d21b-4dda-4cba-a173-13e3feb6695f",
        "outputId": "dd4679c8-52bc-474b-a5c0-c23e4b1cbc21"
      },
      "outputs": [
        {
          "data": {
            "text/html": [
              "<div>\n",
              "<style scoped>\n",
              "    .dataframe tbody tr th:only-of-type {\n",
              "        vertical-align: middle;\n",
              "    }\n",
              "\n",
              "    .dataframe tbody tr th {\n",
              "        vertical-align: top;\n",
              "    }\n",
              "\n",
              "    .dataframe thead th {\n",
              "        text-align: right;\n",
              "    }\n",
              "</style>\n",
              "<table border=\"1\" class=\"dataframe\">\n",
              "  <thead>\n",
              "    <tr style=\"text-align: right;\">\n",
              "      <th></th>\n",
              "      <th>Index</th>\n",
              "      <th>User Id</th>\n",
              "      <th>First Name</th>\n",
              "      <th>Last Name</th>\n",
              "      <th>Gender</th>\n",
              "      <th>Email</th>\n",
              "      <th>Phone</th>\n",
              "      <th>Date of birth</th>\n",
              "      <th>Job Title</th>\n",
              "      <th>Salary</th>\n",
              "    </tr>\n",
              "  </thead>\n",
              "  <tbody>\n",
              "    <tr>\n",
              "      <th>0</th>\n",
              "      <td>1</td>\n",
              "      <td>8717bbf45cCDbEe</td>\n",
              "      <td>Shelia</td>\n",
              "      <td>Mahoney</td>\n",
              "      <td>Male</td>\n",
              "      <td>pwarner@example.org</td>\n",
              "      <td>857.139.8239</td>\n",
              "      <td>27-01-2014</td>\n",
              "      <td>Probation officer</td>\n",
              "      <td>90000</td>\n",
              "    </tr>\n",
              "    <tr>\n",
              "      <th>1</th>\n",
              "      <td>2</td>\n",
              "      <td>3d5AD30A4cD38ed</td>\n",
              "      <td>Jo</td>\n",
              "      <td>Rivers</td>\n",
              "      <td>Female</td>\n",
              "      <td>fergusonkatherine@example.net</td>\n",
              "      <td>NaN</td>\n",
              "      <td>26-07-1931</td>\n",
              "      <td>Dancer</td>\n",
              "      <td>80000</td>\n",
              "    </tr>\n",
              "    <tr>\n",
              "      <th>2</th>\n",
              "      <td>3</td>\n",
              "      <td>810Ce0F276Badec</td>\n",
              "      <td>Sheryl</td>\n",
              "      <td>Lowery</td>\n",
              "      <td>Female</td>\n",
              "      <td>fhoward@example.org</td>\n",
              "      <td>(599)782-0605</td>\n",
              "      <td>25-11-2013</td>\n",
              "      <td>Copy</td>\n",
              "      <td>50000</td>\n",
              "    </tr>\n",
              "    <tr>\n",
              "      <th>3</th>\n",
              "      <td>4</td>\n",
              "      <td>BF2a889C00f0cE1</td>\n",
              "      <td>Whitney</td>\n",
              "      <td>Hooper</td>\n",
              "      <td>Male</td>\n",
              "      <td>zjohnston@example.com</td>\n",
              "      <td>NaN</td>\n",
              "      <td>17-11-2012</td>\n",
              "      <td>Counselling psychologist</td>\n",
              "      <td>65000</td>\n",
              "    </tr>\n",
              "    <tr>\n",
              "      <th>4</th>\n",
              "      <td>5</td>\n",
              "      <td>9afFEafAe1CBBB9</td>\n",
              "      <td>Lindsey</td>\n",
              "      <td>Rice</td>\n",
              "      <td>Female</td>\n",
              "      <td>elin@example.net</td>\n",
              "      <td>(390)417-1635x3010</td>\n",
              "      <td>15-04-1923</td>\n",
              "      <td>Biomedical engineer</td>\n",
              "      <td>100000</td>\n",
              "    </tr>\n",
              "    <tr>\n",
              "      <th>...</th>\n",
              "      <td>...</td>\n",
              "      <td>...</td>\n",
              "      <td>...</td>\n",
              "      <td>...</td>\n",
              "      <td>...</td>\n",
              "      <td>...</td>\n",
              "      <td>...</td>\n",
              "      <td>...</td>\n",
              "      <td>...</td>\n",
              "      <td>...</td>\n",
              "    </tr>\n",
              "    <tr>\n",
              "      <th>995</th>\n",
              "      <td>996</td>\n",
              "      <td>fedF4c7Fd9e7cFa</td>\n",
              "      <td>Kurt</td>\n",
              "      <td>Bryant</td>\n",
              "      <td>Female</td>\n",
              "      <td>lyonsdaisy@example.net</td>\n",
              "      <td>021.775.2933</td>\n",
              "      <td>05-01-1959</td>\n",
              "      <td>Personnel officer</td>\n",
              "      <td>90000</td>\n",
              "    </tr>\n",
              "    <tr>\n",
              "      <th>996</th>\n",
              "      <td>997</td>\n",
              "      <td>ECddaFEDdEc4FAB</td>\n",
              "      <td>Donna</td>\n",
              "      <td>Barry</td>\n",
              "      <td>Female</td>\n",
              "      <td>dariusbryan@example.com</td>\n",
              "      <td>001-149-710-7799x721</td>\n",
              "      <td>06-10-2001</td>\n",
              "      <td>Education administrator</td>\n",
              "      <td>50000</td>\n",
              "    </tr>\n",
              "    <tr>\n",
              "      <th>997</th>\n",
              "      <td>998</td>\n",
              "      <td>2adde51d8B8979E</td>\n",
              "      <td>Cathy</td>\n",
              "      <td>Mckinney</td>\n",
              "      <td>Female</td>\n",
              "      <td>georgechan@example.org</td>\n",
              "      <td>+1-750-774-4128x33265</td>\n",
              "      <td>13-05-1918</td>\n",
              "      <td>Commercial/residential surveyor</td>\n",
              "      <td>60000</td>\n",
              "    </tr>\n",
              "    <tr>\n",
              "      <th>998</th>\n",
              "      <td>999</td>\n",
              "      <td>Fb2FE369D1E171A</td>\n",
              "      <td>Jermaine</td>\n",
              "      <td>Phelps</td>\n",
              "      <td>Male</td>\n",
              "      <td>wanda04@example.net</td>\n",
              "      <td>(915)292-2254</td>\n",
              "      <td>31-08-1971</td>\n",
              "      <td>Ambulance person</td>\n",
              "      <td>100000</td>\n",
              "    </tr>\n",
              "    <tr>\n",
              "      <th>999</th>\n",
              "      <td>1000</td>\n",
              "      <td>8b756f6231DDC6e</td>\n",
              "      <td>Lee</td>\n",
              "      <td>Tran</td>\n",
              "      <td>Female</td>\n",
              "      <td>deannablack@example.org</td>\n",
              "      <td>079.752.5424x67259</td>\n",
              "      <td>24-01-1947</td>\n",
              "      <td>Nurse, learning disability</td>\n",
              "      <td>90000</td>\n",
              "    </tr>\n",
              "  </tbody>\n",
              "</table>\n",
              "<p>1000 rows × 10 columns</p>\n",
              "</div>"
            ],
            "text/plain": [
              "     Index          User Id First Name Last Name  Gender  \\\n",
              "0        1  8717bbf45cCDbEe     Shelia   Mahoney    Male   \n",
              "1        2  3d5AD30A4cD38ed         Jo    Rivers  Female   \n",
              "2        3  810Ce0F276Badec     Sheryl    Lowery  Female   \n",
              "3        4  BF2a889C00f0cE1    Whitney    Hooper    Male   \n",
              "4        5  9afFEafAe1CBBB9    Lindsey      Rice  Female   \n",
              "..     ...              ...        ...       ...     ...   \n",
              "995    996  fedF4c7Fd9e7cFa       Kurt    Bryant  Female   \n",
              "996    997  ECddaFEDdEc4FAB      Donna     Barry  Female   \n",
              "997    998  2adde51d8B8979E      Cathy  Mckinney  Female   \n",
              "998    999  Fb2FE369D1E171A   Jermaine    Phelps    Male   \n",
              "999   1000  8b756f6231DDC6e        Lee      Tran  Female   \n",
              "\n",
              "                             Email                  Phone Date of birth  \\\n",
              "0              pwarner@example.org           857.139.8239    27-01-2014   \n",
              "1    fergusonkatherine@example.net                    NaN    26-07-1931   \n",
              "2              fhoward@example.org          (599)782-0605    25-11-2013   \n",
              "3            zjohnston@example.com                    NaN    17-11-2012   \n",
              "4                 elin@example.net     (390)417-1635x3010    15-04-1923   \n",
              "..                             ...                    ...           ...   \n",
              "995         lyonsdaisy@example.net           021.775.2933    05-01-1959   \n",
              "996        dariusbryan@example.com   001-149-710-7799x721    06-10-2001   \n",
              "997         georgechan@example.org  +1-750-774-4128x33265    13-05-1918   \n",
              "998            wanda04@example.net          (915)292-2254    31-08-1971   \n",
              "999        deannablack@example.org     079.752.5424x67259    24-01-1947   \n",
              "\n",
              "                           Job Title  Salary  \n",
              "0                  Probation officer   90000  \n",
              "1                             Dancer   80000  \n",
              "2                               Copy   50000  \n",
              "3           Counselling psychologist   65000  \n",
              "4                Biomedical engineer  100000  \n",
              "..                               ...     ...  \n",
              "995                Personnel officer   90000  \n",
              "996          Education administrator   50000  \n",
              "997  Commercial/residential surveyor   60000  \n",
              "998                 Ambulance person  100000  \n",
              "999       Nurse, learning disability   90000  \n",
              "\n",
              "[1000 rows x 10 columns]"
            ]
          },
          "execution_count": 3,
          "metadata": {},
          "output_type": "execute_result"
        }
      ],
      "source": [
        "data"
      ]
    },
    {
      "cell_type": "code",
      "execution_count": null,
      "id": "3b37ef04-220c-49cf-99b7-e22e2cd307a5",
      "metadata": {
        "id": "3b37ef04-220c-49cf-99b7-e22e2cd307a5",
        "outputId": "0e27ce91-285b-4945-cbf8-92e8b0708445"
      },
      "outputs": [
        {
          "data": {
            "text/plain": [
              "Index             0\n",
              "User Id           0\n",
              "First Name        0\n",
              "Last Name         0\n",
              "Gender            0\n",
              "Email             0\n",
              "Phone            21\n",
              "Date of birth     0\n",
              "Job Title         0\n",
              "Salary            0\n",
              "dtype: int64"
            ]
          },
          "execution_count": 4,
          "metadata": {},
          "output_type": "execute_result"
        }
      ],
      "source": [
        "data.isnull().sum()"
      ]
    },
    {
      "cell_type": "markdown",
      "id": "05042072-2114-409f-8708-76d394320d93",
      "metadata": {
        "id": "05042072-2114-409f-8708-76d394320d93"
      },
      "source": [
        "# q1\n",
        "Demonstrate three different methods for creating identical 2D arrays in NumPy Provide the code for each\n",
        "method and the final output after each method"
      ]
    },
    {
      "cell_type": "code",
      "execution_count": null,
      "id": "3828c3d0-5bca-4063-8b74-095554825983",
      "metadata": {
        "id": "3828c3d0-5bca-4063-8b74-095554825983"
      },
      "outputs": [],
      "source": [
        "list_2d = [[1,2,3],\n",
        "          [4,5,6]\n",
        "          ]"
      ]
    },
    {
      "cell_type": "code",
      "execution_count": null,
      "id": "c2d203fe-c1ea-4f10-9b95-8ce970a8de3d",
      "metadata": {
        "id": "c2d203fe-c1ea-4f10-9b95-8ce970a8de3d",
        "outputId": "c5302437-4a6f-4ca9-e22a-777161885188"
      },
      "outputs": [
        {
          "data": {
            "text/plain": [
              "[[1, 2, 3], [4, 5, 6]]"
            ]
          },
          "execution_count": 6,
          "metadata": {},
          "output_type": "execute_result"
        }
      ],
      "source": [
        "list_2d"
      ]
    },
    {
      "cell_type": "markdown",
      "id": "9f3fa2e0-6432-4331-8a61-b7db1a105bcf",
      "metadata": {
        "id": "9f3fa2e0-6432-4331-8a61-b7db1a105bcf"
      },
      "source": [
        "## method 1"
      ]
    },
    {
      "cell_type": "code",
      "execution_count": null,
      "id": "5e274bd9-36a3-4860-9c2d-98b6419cc189",
      "metadata": {
        "id": "5e274bd9-36a3-4860-9c2d-98b6419cc189",
        "outputId": "7fd9723d-b87d-44ff-9e91-7f695c0aaae8"
      },
      "outputs": [
        {
          "data": {
            "text/plain": [
              "array([[1, 2, 3],\n",
              "       [4, 5, 6]])"
            ]
          },
          "execution_count": 7,
          "metadata": {},
          "output_type": "execute_result"
        }
      ],
      "source": [
        "#type 1\n",
        "np.array(list_2d)"
      ]
    },
    {
      "cell_type": "markdown",
      "id": "fab537db-dcb0-4550-a8c0-06ab80cc01ce",
      "metadata": {
        "id": "fab537db-dcb0-4550-a8c0-06ab80cc01ce"
      },
      "source": [
        "## method 2"
      ]
    },
    {
      "cell_type": "code",
      "execution_count": null,
      "id": "1ca4c029-88c9-4c45-87ca-2e335db13d4d",
      "metadata": {
        "id": "1ca4c029-88c9-4c45-87ca-2e335db13d4d",
        "outputId": "5786cc9f-5e3b-4f87-854e-94b8d693b951"
      },
      "outputs": [
        {
          "data": {
            "text/plain": [
              "array([[5, 5, 5],\n",
              "       [5, 5, 5]])"
            ]
          },
          "execution_count": 8,
          "metadata": {},
          "output_type": "execute_result"
        }
      ],
      "source": [
        "#type 2\n",
        "\n",
        "np.full((2,3),5)\n",
        "# dtype is int"
      ]
    },
    {
      "cell_type": "markdown",
      "id": "293fb9c7-1ef3-46be-8173-1daa765f3123",
      "metadata": {
        "id": "293fb9c7-1ef3-46be-8173-1daa765f3123"
      },
      "source": [
        "## method 3"
      ]
    },
    {
      "cell_type": "code",
      "execution_count": null,
      "id": "65e60a4e-baf3-4967-9646-642680046944",
      "metadata": {
        "id": "65e60a4e-baf3-4967-9646-642680046944",
        "outputId": "a6f3e6c8-22e2-4f5c-c5a3-28746ce0e6d8"
      },
      "outputs": [
        {
          "data": {
            "text/plain": [
              "array([[1., 1., 1., 1.],\n",
              "       [1., 1., 1., 1.],\n",
              "       [1., 1., 1., 1.]])"
            ]
          },
          "execution_count": 9,
          "metadata": {},
          "output_type": "execute_result"
        }
      ],
      "source": [
        "#broadcasting\n",
        "np.ones((3,4))\n",
        "#dtype is float"
      ]
    },
    {
      "cell_type": "code",
      "execution_count": null,
      "id": "6548446c-af5d-4e6e-a529-80996bedd6d8",
      "metadata": {
        "id": "6548446c-af5d-4e6e-a529-80996bedd6d8",
        "outputId": "9b5d302e-8fb7-4500-9015-a18fc3260e01"
      },
      "outputs": [
        {
          "data": {
            "text/plain": [
              "array([[0., 0., 0., 0.],\n",
              "       [0., 0., 0., 0.],\n",
              "       [0., 0., 0., 0.]])"
            ]
          },
          "execution_count": 10,
          "metadata": {},
          "output_type": "execute_result"
        }
      ],
      "source": [
        "np.zeros((3,4))"
      ]
    },
    {
      "cell_type": "markdown",
      "id": "34d04767-b478-4bbe-9bcb-cb9d36006ecf",
      "metadata": {
        "id": "34d04767-b478-4bbe-9bcb-cb9d36006ecf"
      },
      "source": [
        "# q2\n",
        " Using the Numpy function, generate an array of 100 evenly spaced numbers between 1 and 10 and\n",
        "Reshape that 1D array into a 2D array"
      ]
    },
    {
      "cell_type": "code",
      "execution_count": null,
      "id": "b7321bba-2125-4845-9ffb-e59d9f1d7eb2",
      "metadata": {
        "id": "b7321bba-2125-4845-9ffb-e59d9f1d7eb2",
        "outputId": "fe1ba3de-1d51-4162-8762-ccdc2454eb7a"
      },
      "outputs": [
        {
          "data": {
            "text/plain": [
              "array([ 1.        ,  1.09090909,  1.18181818,  1.27272727,  1.36363636,\n",
              "        1.45454545,  1.54545455,  1.63636364,  1.72727273,  1.81818182,\n",
              "        1.90909091,  2.        ,  2.09090909,  2.18181818,  2.27272727,\n",
              "        2.36363636,  2.45454545,  2.54545455,  2.63636364,  2.72727273,\n",
              "        2.81818182,  2.90909091,  3.        ,  3.09090909,  3.18181818,\n",
              "        3.27272727,  3.36363636,  3.45454545,  3.54545455,  3.63636364,\n",
              "        3.72727273,  3.81818182,  3.90909091,  4.        ,  4.09090909,\n",
              "        4.18181818,  4.27272727,  4.36363636,  4.45454545,  4.54545455,\n",
              "        4.63636364,  4.72727273,  4.81818182,  4.90909091,  5.        ,\n",
              "        5.09090909,  5.18181818,  5.27272727,  5.36363636,  5.45454545,\n",
              "        5.54545455,  5.63636364,  5.72727273,  5.81818182,  5.90909091,\n",
              "        6.        ,  6.09090909,  6.18181818,  6.27272727,  6.36363636,\n",
              "        6.45454545,  6.54545455,  6.63636364,  6.72727273,  6.81818182,\n",
              "        6.90909091,  7.        ,  7.09090909,  7.18181818,  7.27272727,\n",
              "        7.36363636,  7.45454545,  7.54545455,  7.63636364,  7.72727273,\n",
              "        7.81818182,  7.90909091,  8.        ,  8.09090909,  8.18181818,\n",
              "        8.27272727,  8.36363636,  8.45454545,  8.54545455,  8.63636364,\n",
              "        8.72727273,  8.81818182,  8.90909091,  9.        ,  9.09090909,\n",
              "        9.18181818,  9.27272727,  9.36363636,  9.45454545,  9.54545455,\n",
              "        9.63636364,  9.72727273,  9.81818182,  9.90909091, 10.        ])"
            ]
          },
          "execution_count": 11,
          "metadata": {},
          "output_type": "execute_result"
        }
      ],
      "source": [
        "np.linspace(1,10,100) # not evenly space"
      ]
    },
    {
      "cell_type": "markdown",
      "id": "3c9f1248-bfe8-4507-8e48-bedab1158231",
      "metadata": {
        "id": "3c9f1248-bfe8-4507-8e48-bedab1158231"
      },
      "source": [
        "# q3\n",
        "Explain the following terms:\n",
        " - The difference in np.array, np.asarray and np.asanyarray\n",
        " - The difference between Deep copy and shallow copy"
      ]
    },
    {
      "cell_type": "markdown",
      "id": "c3444886-bc4a-4362-94c4-e3c7aadb9c92",
      "metadata": {
        "id": "c3444886-bc4a-4362-94c4-e3c7aadb9c92"
      },
      "source": [
        "np.array this function creates a new NumPy array from any object that exposes the array interface\n",
        "It always makes a copy of the data unless explicitly instructed not to using the copy parameter.\n",
        "\n",
        "np.asarray This function converts the input into a NumPy array, but it does not create a new copy if the input is already a NumPy array. Instead, it returns the same array without making a copy.\n",
        "\n",
        "np.asanarray This function also converts the input to a NumPy array but preserves any subclass information of np.ndarray, such as np.matrix. This function is used when you want to maintain the subclass type information.\n"
      ]
    },
    {
      "cell_type": "markdown",
      "id": "d8751142-b183-4c43-8ad0-e6882b60b3c4",
      "metadata": {
        "id": "d8751142-b183-4c43-8ad0-e6882b60b3c4"
      },
      "source": [
        "# q4\n",
        "Generate a 3x3 array with random floating-point numbers between 5 and 20 and then round each number in\n",
        "the array to 2 decimal places"
      ]
    },
    {
      "cell_type": "code",
      "execution_count": null,
      "id": "4fd6ee8d-5779-4616-af95-bb189d479b25",
      "metadata": {
        "id": "4fd6ee8d-5779-4616-af95-bb189d479b25"
      },
      "outputs": [],
      "source": [
        " arr = np.random.uniform(5,20,(3,3)) #20 not included"
      ]
    },
    {
      "cell_type": "code",
      "execution_count": null,
      "id": "1ec38b21-b0de-4372-82ef-6624d0971a82",
      "metadata": {
        "id": "1ec38b21-b0de-4372-82ef-6624d0971a82",
        "outputId": "f2c1d809-06e2-4a99-eaec-b3e3236d8bee"
      },
      "outputs": [
        {
          "data": {
            "text/plain": [
              "array([[ 7.93, 16.48, 13.19],\n",
              "       [12.36, 16.34,  9.86],\n",
              "       [19.41, 10.2 , 19.41]])"
            ]
          },
          "execution_count": 13,
          "metadata": {},
          "output_type": "execute_result"
        }
      ],
      "source": [
        "arr.round(2)"
      ]
    },
    {
      "cell_type": "code",
      "execution_count": null,
      "id": "7bf934b2-e413-4b68-8a34-853e48069ce7",
      "metadata": {
        "id": "7bf934b2-e413-4b68-8a34-853e48069ce7",
        "outputId": "82858172-6633-42e4-fa0b-deb1ad6d7058"
      },
      "outputs": [
        {
          "data": {
            "text/plain": [
              "array([[13,  5,  6],\n",
              "       [ 9, 10, 10],\n",
              "       [ 6, 17,  5]])"
            ]
          },
          "execution_count": 14,
          "metadata": {},
          "output_type": "execute_result"
        }
      ],
      "source": [
        "np.random.randint(5,20,(3,3))"
      ]
    },
    {
      "cell_type": "markdown",
      "id": "04b682a6-ad2e-47a0-b46a-3e276f1cade0",
      "metadata": {
        "id": "04b682a6-ad2e-47a0-b46a-3e276f1cade0"
      },
      "source": [
        "# q5\n",
        "Create a NumPy array with random integers Petween 1 and 10 of shape (5,6 ) After creating the array\n",
        "perform the following operations:\n",
        "\n",
        " a)Extract all even integers from array.\n",
        "\n",
        " b)Extract all odd integers from array"
      ]
    },
    {
      "cell_type": "code",
      "execution_count": null,
      "id": "f4443c0a-cb7d-4f2a-aaf7-f54494e7397c",
      "metadata": {
        "id": "f4443c0a-cb7d-4f2a-aaf7-f54494e7397c"
      },
      "outputs": [],
      "source": [
        "arr = np.random.randint(1,11,(5,6))"
      ]
    },
    {
      "cell_type": "code",
      "execution_count": null,
      "id": "c6250c1c-24cf-48fe-9de7-432ca1465c5c",
      "metadata": {
        "id": "c6250c1c-24cf-48fe-9de7-432ca1465c5c",
        "outputId": "27fc2fcd-d059-4231-a34f-029ab7331430"
      },
      "outputs": [
        {
          "data": {
            "text/plain": [
              "array([[ 5,  1,  5,  6,  8,  6],\n",
              "       [ 6,  2, 10,  7,  3,  6],\n",
              "       [ 4,  3,  2,  9,  4,  3],\n",
              "       [ 4,  2,  4,  6,  3,  1],\n",
              "       [ 5,  7,  2,  8,  4,  4]])"
            ]
          },
          "execution_count": 16,
          "metadata": {},
          "output_type": "execute_result"
        }
      ],
      "source": [
        "arr"
      ]
    },
    {
      "cell_type": "code",
      "execution_count": null,
      "id": "7df25b87-602d-4b63-add1-7ed35d10bdf0",
      "metadata": {
        "id": "7df25b87-602d-4b63-add1-7ed35d10bdf0",
        "outputId": "5cc2ec32-26b3-4986-ee02-9842c8a497f0"
      },
      "outputs": [
        {
          "data": {
            "text/plain": [
              "array([ 6,  8,  6,  6,  2, 10,  6,  4,  2,  4,  4,  2,  4,  6,  2,  8,  4,\n",
              "        4])"
            ]
          },
          "execution_count": 17,
          "metadata": {},
          "output_type": "execute_result"
        }
      ],
      "source": [
        "#Extract all even integers from array.\n",
        "\n",
        "arr[arr%2==0]"
      ]
    },
    {
      "cell_type": "code",
      "execution_count": null,
      "id": "dc70a5fb-bacc-474d-ba31-c41cfb6f0daf",
      "metadata": {
        "id": "dc70a5fb-bacc-474d-ba31-c41cfb6f0daf",
        "outputId": "4021174e-d772-405b-f8ac-e4c75e4befd9"
      },
      "outputs": [
        {
          "data": {
            "text/plain": [
              "array([5, 1, 5, 7, 3, 3, 9, 3, 3, 1, 5, 7])"
            ]
          },
          "execution_count": 18,
          "metadata": {},
          "output_type": "execute_result"
        }
      ],
      "source": [
        "# Extract all odd integers from array\n",
        "\n",
        "arr[arr%2!=0]"
      ]
    },
    {
      "cell_type": "markdown",
      "id": "7b561d33-2181-4b8f-b031-03485eac1dc8",
      "metadata": {
        "id": "7b561d33-2181-4b8f-b031-03485eac1dc8"
      },
      "source": [
        "# q6\n",
        "Create a 3D NumPy array of shape (3,3,3) containing random integers Petween 1 and 10, Perform the\n",
        "following operations:\n",
        "\n",
        " a) Find the indices of the maximum values along each depth level (third axis).\n",
        "\n",
        " b) Perform element wise multiplication of between both array"
      ]
    },
    {
      "cell_type": "code",
      "execution_count": null,
      "id": "b90c9b46-928b-4830-8243-767825107243",
      "metadata": {
        "id": "b90c9b46-928b-4830-8243-767825107243"
      },
      "outputs": [],
      "source": [
        "arr_3d = np.random.randint(1,10,(3,3,3))"
      ]
    },
    {
      "cell_type": "code",
      "execution_count": null,
      "id": "76990ff2-e06f-4c5c-b93f-ca5b531c8744",
      "metadata": {
        "id": "76990ff2-e06f-4c5c-b93f-ca5b531c8744",
        "outputId": "f6739734-64e3-4be1-a2ec-e3eda5f99d21"
      },
      "outputs": [
        {
          "data": {
            "text/plain": [
              "array([[[4, 6, 5],\n",
              "        [4, 8, 7],\n",
              "        [6, 9, 1]],\n",
              "\n",
              "       [[8, 4, 5],\n",
              "        [1, 1, 3],\n",
              "        [2, 8, 1]],\n",
              "\n",
              "       [[9, 9, 2],\n",
              "        [4, 4, 9],\n",
              "        [6, 6, 1]]])"
            ]
          },
          "execution_count": 20,
          "metadata": {},
          "output_type": "execute_result"
        }
      ],
      "source": [
        "arr_3d"
      ]
    },
    {
      "cell_type": "code",
      "execution_count": null,
      "id": "bc52c0c6-b60d-4b0d-920a-ec4245c3057f",
      "metadata": {
        "id": "bc52c0c6-b60d-4b0d-920a-ec4245c3057f",
        "outputId": "ef4b8202-2f8c-47a4-866e-78508636006c"
      },
      "outputs": [
        {
          "data": {
            "text/plain": [
              "array([[2, 2, 1],\n",
              "       [0, 2, 0],\n",
              "       [0, 0, 1]])"
            ]
          },
          "execution_count": 21,
          "metadata": {},
          "output_type": "execute_result"
        }
      ],
      "source": [
        "# argmax() --\n",
        "# max()\n",
        "res = np.argmax(arr_3d ,axis =1)\n",
        "res"
      ]
    },
    {
      "cell_type": "code",
      "execution_count": null,
      "id": "ce4fa0ca-8765-48b8-9bb2-60f58ac7a59e",
      "metadata": {
        "id": "ce4fa0ca-8765-48b8-9bb2-60f58ac7a59e",
        "outputId": "bdc57379-6062-4347-905c-88f56154e040"
      },
      "outputs": [
        {
          "data": {
            "text/plain": [
              "array([[[ 8, 12,  5],\n",
              "        [ 0, 16,  0],\n",
              "        [ 0,  0,  1]],\n",
              "\n",
              "       [[16,  8,  5],\n",
              "        [ 0,  2,  0],\n",
              "        [ 0,  0,  1]],\n",
              "\n",
              "       [[18, 18,  2],\n",
              "        [ 0,  8,  0],\n",
              "        [ 0,  0,  1]]])"
            ]
          },
          "execution_count": 22,
          "metadata": {},
          "output_type": "execute_result"
        }
      ],
      "source": [
        "# Perform element wise multiplication of between both array\n",
        "arr_3d* res"
      ]
    },
    {
      "cell_type": "code",
      "execution_count": null,
      "id": "26d92218-d98e-4be9-bbe0-75480ea49b4f",
      "metadata": {
        "id": "26d92218-d98e-4be9-bbe0-75480ea49b4f",
        "outputId": "2ca47399-68bb-4b79-c96f-2dbcaca036c9"
      },
      "outputs": [
        {
          "data": {
            "text/plain": [
              "array([[[ 8, 20,  9],\n",
              "        [ 8, 24, 11],\n",
              "        [12, 30,  7]],\n",
              "\n",
              "       [[16, 24, 13],\n",
              "        [ 2,  4,  4],\n",
              "        [ 4, 20,  3]],\n",
              "\n",
              "       [[18, 36, 11],\n",
              "        [ 8, 16, 13],\n",
              "        [12, 24,  7]]])"
            ]
          },
          "execution_count": 23,
          "metadata": {},
          "output_type": "execute_result"
        }
      ],
      "source": [
        "np.matmul(arr_3d,res)"
      ]
    },
    {
      "cell_type": "markdown",
      "id": "e6990a12-34e9-49d6-a46b-a06fcd32ca4b",
      "metadata": {
        "id": "e6990a12-34e9-49d6-a46b-a06fcd32ca4b"
      },
      "source": [
        "# q7\n",
        "Clean and transform the 'Phone' column in the sample dataset to remove non-numeric characters and\n",
        "convert it to a numeric data type Also display the taPle attriPutes and data types of each column"
      ]
    },
    {
      "cell_type": "code",
      "execution_count": null,
      "id": "58f7f3ba-5aa3-4774-bf5b-e5a0460f9ae3",
      "metadata": {
        "id": "58f7f3ba-5aa3-4774-bf5b-e5a0460f9ae3",
        "outputId": "8fc05fc2-5d89-4340-d09f-3e9f761fdae1"
      },
      "outputs": [
        {
          "data": {
            "text/plain": [
              "Index             int64\n",
              "User Id          object\n",
              "First Name       object\n",
              "Last Name        object\n",
              "Gender           object\n",
              "Email            object\n",
              "Phone            object\n",
              "Date of birth    object\n",
              "Job Title        object\n",
              "Salary            int64\n",
              "dtype: object"
            ]
          },
          "execution_count": 24,
          "metadata": {},
          "output_type": "execute_result"
        }
      ],
      "source": [
        "data.dtypes"
      ]
    },
    {
      "cell_type": "code",
      "execution_count": null,
      "id": "df7c5fe8-2686-443e-ad5a-31a0953f3f1a",
      "metadata": {
        "id": "df7c5fe8-2686-443e-ad5a-31a0953f3f1a"
      },
      "outputs": [],
      "source": [
        "data['Phone'] = data['Phone'].replace('NaN', np.nan)"
      ]
    },
    {
      "cell_type": "code",
      "execution_count": null,
      "id": "5825db23-93dd-4c0a-8589-28f9daa791fd",
      "metadata": {
        "id": "5825db23-93dd-4c0a-8589-28f9daa791fd"
      },
      "outputs": [],
      "source": [
        "data['Phone'] = data['Phone'].astype(str)"
      ]
    },
    {
      "cell_type": "code",
      "execution_count": null,
      "id": "0a49231a-9e06-4c94-b280-1e4a9ee4b290",
      "metadata": {
        "id": "0a49231a-9e06-4c94-b280-1e4a9ee4b290"
      },
      "outputs": [],
      "source": [
        "data['Phone'] = data['Phone'].str.extract('(\\d+)')"
      ]
    },
    {
      "cell_type": "code",
      "execution_count": null,
      "id": "1f46a4f9-eb18-4ffa-bc5d-b0eabef5765f",
      "metadata": {
        "id": "1f46a4f9-eb18-4ffa-bc5d-b0eabef5765f"
      },
      "outputs": [],
      "source": [
        "data['Phone'] = data['Phone'].astype(float)"
      ]
    },
    {
      "cell_type": "code",
      "execution_count": null,
      "id": "9a696f4a-e6ab-4c5d-a62c-df2cada78e2a",
      "metadata": {
        "id": "9a696f4a-e6ab-4c5d-a62c-df2cada78e2a",
        "outputId": "93fe2637-10bd-4422-9f15-b3d5271ec70a"
      },
      "outputs": [
        {
          "data": {
            "text/plain": [
              "Index              int64\n",
              "User Id           object\n",
              "First Name        object\n",
              "Last Name         object\n",
              "Gender            object\n",
              "Email             object\n",
              "Phone            float64\n",
              "Date of birth     object\n",
              "Job Title         object\n",
              "Salary             int64\n",
              "dtype: object"
            ]
          },
          "execution_count": 29,
          "metadata": {},
          "output_type": "execute_result"
        }
      ],
      "source": [
        "data.dtypes"
      ]
    },
    {
      "cell_type": "markdown",
      "id": "641b6730-093d-4af0-ba6b-0b74772374a0",
      "metadata": {
        "id": "641b6730-093d-4af0-ba6b-0b74772374a0"
      },
      "source": [
        "# q8\n",
        "Perform the following tas\\s using people dataset:\n",
        "\n",
        " a) Read the 'data.csv' file using pandas, skipping the first 50 rows.\n",
        "\n",
        " b) Only read the columns: 'Last Name', ‘Gender’,’Email’,‘Phone’ and ‘Salary’ from the file.\n",
        "\n",
        " c) Display the first 10 rows of the filtered dataset.\n",
        "\n",
        " d) Extract the ‘Salary’' column as a Series and display its last 5 values."
      ]
    },
    {
      "cell_type": "code",
      "execution_count": null,
      "id": "291ce675-17b3-45bb-b738-d9db4fa290eb",
      "metadata": {
        "id": "291ce675-17b3-45bb-b738-d9db4fa290eb"
      },
      "outputs": [],
      "source": [
        "df = pd.read_csv('People Data.csv', skiprows=range(1, 51) , usecols= ['Last Name', 'Gender', 'Email','Phone' ,'Salary'])"
      ]
    },
    {
      "cell_type": "code",
      "execution_count": null,
      "id": "d487d2e4-4c8c-4f01-9645-d7bb408ac1e4",
      "metadata": {
        "id": "d487d2e4-4c8c-4f01-9645-d7bb408ac1e4",
        "outputId": "f5760ef2-a321-4cf4-b5ca-153a81fdeeb6"
      },
      "outputs": [
        {
          "data": {
            "text/html": [
              "<div>\n",
              "<style scoped>\n",
              "    .dataframe tbody tr th:only-of-type {\n",
              "        vertical-align: middle;\n",
              "    }\n",
              "\n",
              "    .dataframe tbody tr th {\n",
              "        vertical-align: top;\n",
              "    }\n",
              "\n",
              "    .dataframe thead th {\n",
              "        text-align: right;\n",
              "    }\n",
              "</style>\n",
              "<table border=\"1\" class=\"dataframe\">\n",
              "  <thead>\n",
              "    <tr style=\"text-align: right;\">\n",
              "      <th></th>\n",
              "      <th>Last Name</th>\n",
              "      <th>Gender</th>\n",
              "      <th>Email</th>\n",
              "      <th>Phone</th>\n",
              "      <th>Salary</th>\n",
              "    </tr>\n",
              "  </thead>\n",
              "  <tbody>\n",
              "    <tr>\n",
              "      <th>0</th>\n",
              "      <td>Zavala</td>\n",
              "      <td>Male</td>\n",
              "      <td>pamela64@example.net</td>\n",
              "      <td>001-859-448-9935x54536</td>\n",
              "      <td>80000</td>\n",
              "    </tr>\n",
              "    <tr>\n",
              "      <th>1</th>\n",
              "      <td>Carey</td>\n",
              "      <td>Female</td>\n",
              "      <td>dianashepherd@example.net</td>\n",
              "      <td>001-274-739-8470x814</td>\n",
              "      <td>70000</td>\n",
              "    </tr>\n",
              "    <tr>\n",
              "      <th>2</th>\n",
              "      <td>Hobbs</td>\n",
              "      <td>Female</td>\n",
              "      <td>ingramtiffany@example.org</td>\n",
              "      <td>241.179.9509x498</td>\n",
              "      <td>60000</td>\n",
              "    </tr>\n",
              "    <tr>\n",
              "      <th>3</th>\n",
              "      <td>Reilly</td>\n",
              "      <td>Male</td>\n",
              "      <td>carriecrawford@example.org</td>\n",
              "      <td>207.797.8345x6177</td>\n",
              "      <td>100000</td>\n",
              "    </tr>\n",
              "    <tr>\n",
              "      <th>4</th>\n",
              "      <td>Conrad</td>\n",
              "      <td>Male</td>\n",
              "      <td>fuentesclaudia@example.net</td>\n",
              "      <td>001-599-042-7428x143</td>\n",
              "      <td>50000</td>\n",
              "    </tr>\n",
              "    <tr>\n",
              "      <th>5</th>\n",
              "      <td>Cole</td>\n",
              "      <td>Male</td>\n",
              "      <td>kaneaudrey@example.org</td>\n",
              "      <td>663-280-5834</td>\n",
              "      <td>85000</td>\n",
              "    </tr>\n",
              "    <tr>\n",
              "      <th>6</th>\n",
              "      <td>Donovan</td>\n",
              "      <td>Male</td>\n",
              "      <td>rebekahsantos@example.net</td>\n",
              "      <td>NaN</td>\n",
              "      <td>65000</td>\n",
              "    </tr>\n",
              "    <tr>\n",
              "      <th>7</th>\n",
              "      <td>Little</td>\n",
              "      <td>Female</td>\n",
              "      <td>craig28@example.com</td>\n",
              "      <td>125.219.3673x0076</td>\n",
              "      <td>60000</td>\n",
              "    </tr>\n",
              "    <tr>\n",
              "      <th>8</th>\n",
              "      <td>Dawson</td>\n",
              "      <td>Female</td>\n",
              "      <td>connercourtney@example.net</td>\n",
              "      <td>650-748-3069x64529</td>\n",
              "      <td>60000</td>\n",
              "    </tr>\n",
              "    <tr>\n",
              "      <th>9</th>\n",
              "      <td>Page</td>\n",
              "      <td>Male</td>\n",
              "      <td>harrygallagher@example.com</td>\n",
              "      <td>849.500.6331x717</td>\n",
              "      <td>60000</td>\n",
              "    </tr>\n",
              "  </tbody>\n",
              "</table>\n",
              "</div>"
            ],
            "text/plain": [
              "  Last Name  Gender                       Email                   Phone  \\\n",
              "0    Zavala    Male        pamela64@example.net  001-859-448-9935x54536   \n",
              "1     Carey  Female   dianashepherd@example.net    001-274-739-8470x814   \n",
              "2     Hobbs  Female   ingramtiffany@example.org        241.179.9509x498   \n",
              "3    Reilly    Male  carriecrawford@example.org       207.797.8345x6177   \n",
              "4    Conrad    Male  fuentesclaudia@example.net    001-599-042-7428x143   \n",
              "5      Cole    Male      kaneaudrey@example.org            663-280-5834   \n",
              "6   Donovan    Male   rebekahsantos@example.net                     NaN   \n",
              "7    Little  Female         craig28@example.com       125.219.3673x0076   \n",
              "8    Dawson  Female  connercourtney@example.net      650-748-3069x64529   \n",
              "9      Page    Male  harrygallagher@example.com        849.500.6331x717   \n",
              "\n",
              "   Salary  \n",
              "0   80000  \n",
              "1   70000  \n",
              "2   60000  \n",
              "3  100000  \n",
              "4   50000  \n",
              "5   85000  \n",
              "6   65000  \n",
              "7   60000  \n",
              "8   60000  \n",
              "9   60000  "
            ]
          },
          "execution_count": 31,
          "metadata": {},
          "output_type": "execute_result"
        }
      ],
      "source": [
        "df.head(10)"
      ]
    },
    {
      "cell_type": "code",
      "execution_count": null,
      "id": "3014d049-2e65-495a-b7ac-0acab398921c",
      "metadata": {
        "id": "3014d049-2e65-495a-b7ac-0acab398921c",
        "outputId": "32ea2b79-eaea-4f9d-b40b-f7de99e38cd9"
      },
      "outputs": [
        {
          "data": {
            "text/html": [
              "<div>\n",
              "<style scoped>\n",
              "    .dataframe tbody tr th:only-of-type {\n",
              "        vertical-align: middle;\n",
              "    }\n",
              "\n",
              "    .dataframe tbody tr th {\n",
              "        vertical-align: top;\n",
              "    }\n",
              "\n",
              "    .dataframe thead th {\n",
              "        text-align: right;\n",
              "    }\n",
              "</style>\n",
              "<table border=\"1\" class=\"dataframe\">\n",
              "  <thead>\n",
              "    <tr style=\"text-align: right;\">\n",
              "      <th></th>\n",
              "      <th>Index</th>\n",
              "      <th>User Id</th>\n",
              "      <th>First Name</th>\n",
              "      <th>Last Name</th>\n",
              "      <th>Gender</th>\n",
              "      <th>Email</th>\n",
              "      <th>Phone</th>\n",
              "      <th>Date of birth</th>\n",
              "      <th>Job Title</th>\n",
              "      <th>Salary</th>\n",
              "    </tr>\n",
              "  </thead>\n",
              "  <tbody>\n",
              "    <tr>\n",
              "      <th>50</th>\n",
              "      <td>51</td>\n",
              "      <td>CccE5DAb6E288e5</td>\n",
              "      <td>Jo</td>\n",
              "      <td>Zavala</td>\n",
              "      <td>Male</td>\n",
              "      <td>pamela64@example.net</td>\n",
              "      <td>1.0</td>\n",
              "      <td>23-11-1992</td>\n",
              "      <td>Nurse, adult</td>\n",
              "      <td>80000</td>\n",
              "    </tr>\n",
              "  </tbody>\n",
              "</table>\n",
              "</div>"
            ],
            "text/plain": [
              "    Index          User Id First Name Last Name Gender                 Email  \\\n",
              "50     51  CccE5DAb6E288e5         Jo    Zavala   Male  pamela64@example.net   \n",
              "\n",
              "    Phone Date of birth     Job Title  Salary  \n",
              "50    1.0    23-11-1992  Nurse, adult   80000  "
            ]
          },
          "execution_count": 32,
          "metadata": {},
          "output_type": "execute_result"
        }
      ],
      "source": [
        "data[data['Index']==51]"
      ]
    },
    {
      "cell_type": "code",
      "execution_count": null,
      "id": "bb43bb51-0a42-446b-8855-2f35567acaa2",
      "metadata": {
        "id": "bb43bb51-0a42-446b-8855-2f35567acaa2"
      },
      "outputs": [],
      "source": [
        "salary_series = df['Salary']"
      ]
    },
    {
      "cell_type": "code",
      "execution_count": null,
      "id": "899066a4-41ad-45c5-aefd-35aadefea38a",
      "metadata": {
        "id": "899066a4-41ad-45c5-aefd-35aadefea38a",
        "outputId": "e4e0e06b-bd3a-4349-a036-9f1781b7d53f"
      },
      "outputs": [
        {
          "data": {
            "text/plain": [
              "945     90000\n",
              "946     50000\n",
              "947     60000\n",
              "948    100000\n",
              "949     90000\n",
              "Name: Salary, dtype: int64"
            ]
          },
          "execution_count": 34,
          "metadata": {},
          "output_type": "execute_result"
        }
      ],
      "source": [
        "salary_series.tail(5)"
      ]
    },
    {
      "cell_type": "markdown",
      "id": "2cbb5220-98f5-4ec6-8400-3db2d2d7faf0",
      "metadata": {
        "id": "2cbb5220-98f5-4ec6-8400-3db2d2d7faf0"
      },
      "source": [
        "# q9\n",
        "Filter and select rows from the People_Dataset, where the “Last Name' column contains the name 'Duke',\n",
        "'Gender' column contains the word Female and ‘salary’ should Pe less than 85000"
      ]
    },
    {
      "cell_type": "code",
      "execution_count": null,
      "id": "326d5bc9-8fce-40c5-bac4-0623f34b8da7",
      "metadata": {
        "id": "326d5bc9-8fce-40c5-bac4-0623f34b8da7"
      },
      "outputs": [],
      "source": [
        "df = data[(data['Last Name']=='Duke') & (data['Gender']=='Female') & (data['Salary']<85000)]"
      ]
    },
    {
      "cell_type": "code",
      "execution_count": null,
      "id": "0fdd986c-3914-45e7-875b-2520a8c422a8",
      "metadata": {
        "id": "0fdd986c-3914-45e7-875b-2520a8c422a8",
        "outputId": "947b4dab-71a0-4b40-c7a7-601e8b706695"
      },
      "outputs": [
        {
          "data": {
            "text/html": [
              "<div>\n",
              "<style scoped>\n",
              "    .dataframe tbody tr th:only-of-type {\n",
              "        vertical-align: middle;\n",
              "    }\n",
              "\n",
              "    .dataframe tbody tr th {\n",
              "        vertical-align: top;\n",
              "    }\n",
              "\n",
              "    .dataframe thead th {\n",
              "        text-align: right;\n",
              "    }\n",
              "</style>\n",
              "<table border=\"1\" class=\"dataframe\">\n",
              "  <thead>\n",
              "    <tr style=\"text-align: right;\">\n",
              "      <th></th>\n",
              "      <th>Index</th>\n",
              "      <th>User Id</th>\n",
              "      <th>First Name</th>\n",
              "      <th>Last Name</th>\n",
              "      <th>Gender</th>\n",
              "      <th>Email</th>\n",
              "      <th>Phone</th>\n",
              "      <th>Date of birth</th>\n",
              "      <th>Job Title</th>\n",
              "      <th>Salary</th>\n",
              "    </tr>\n",
              "  </thead>\n",
              "  <tbody>\n",
              "    <tr>\n",
              "      <th>45</th>\n",
              "      <td>46</td>\n",
              "      <td>99A502C175C4EBd</td>\n",
              "      <td>Olivia</td>\n",
              "      <td>Duke</td>\n",
              "      <td>Female</td>\n",
              "      <td>diana26@example.net</td>\n",
              "      <td>1.0</td>\n",
              "      <td>13-10-1934</td>\n",
              "      <td>Dentist</td>\n",
              "      <td>60000</td>\n",
              "    </tr>\n",
              "    <tr>\n",
              "      <th>210</th>\n",
              "      <td>211</td>\n",
              "      <td>DF17975CC0a0373</td>\n",
              "      <td>Katrina</td>\n",
              "      <td>Duke</td>\n",
              "      <td>Female</td>\n",
              "      <td>robin78@example.com</td>\n",
              "      <td>740.0</td>\n",
              "      <td>21-09-1935</td>\n",
              "      <td>Producer, radio</td>\n",
              "      <td>50000</td>\n",
              "    </tr>\n",
              "    <tr>\n",
              "      <th>457</th>\n",
              "      <td>458</td>\n",
              "      <td>dcE1B7DE83c1076</td>\n",
              "      <td>Traci</td>\n",
              "      <td>Duke</td>\n",
              "      <td>Female</td>\n",
              "      <td>perryhoffman@example.org</td>\n",
              "      <td>1.0</td>\n",
              "      <td>11-02-1997</td>\n",
              "      <td>Herbalist</td>\n",
              "      <td>50000</td>\n",
              "    </tr>\n",
              "    <tr>\n",
              "      <th>729</th>\n",
              "      <td>730</td>\n",
              "      <td>c9b482D7aa3e682</td>\n",
              "      <td>Lonnie</td>\n",
              "      <td>Duke</td>\n",
              "      <td>Female</td>\n",
              "      <td>kevinkramer@example.net</td>\n",
              "      <td>982.0</td>\n",
              "      <td>12-05-2015</td>\n",
              "      <td>Nurse, adult</td>\n",
              "      <td>70000</td>\n",
              "    </tr>\n",
              "  </tbody>\n",
              "</table>\n",
              "</div>"
            ],
            "text/plain": [
              "     Index          User Id First Name Last Name  Gender  \\\n",
              "45      46  99A502C175C4EBd     Olivia      Duke  Female   \n",
              "210    211  DF17975CC0a0373    Katrina      Duke  Female   \n",
              "457    458  dcE1B7DE83c1076      Traci      Duke  Female   \n",
              "729    730  c9b482D7aa3e682     Lonnie      Duke  Female   \n",
              "\n",
              "                        Email  Phone Date of birth        Job Title  Salary  \n",
              "45        diana26@example.net    1.0    13-10-1934          Dentist   60000  \n",
              "210       robin78@example.com  740.0    21-09-1935  Producer, radio   50000  \n",
              "457  perryhoffman@example.org    1.0    11-02-1997        Herbalist   50000  \n",
              "729   kevinkramer@example.net  982.0    12-05-2015     Nurse, adult   70000  "
            ]
          },
          "execution_count": 36,
          "metadata": {},
          "output_type": "execute_result"
        }
      ],
      "source": [
        "df"
      ]
    },
    {
      "cell_type": "markdown",
      "id": "34e78fde-4d15-4ad2-8a20-90bfb02d4992",
      "metadata": {
        "id": "34e78fde-4d15-4ad2-8a20-90bfb02d4992"
      },
      "source": [
        "# q10\n",
        "Create a 7*5 Dataframe in Pandas using a series generated from 35 random integers Petween 1 to 6?"
      ]
    },
    {
      "cell_type": "code",
      "execution_count": null,
      "id": "b8af9ff0-90ed-4da2-8dce-7ffb05755c92",
      "metadata": {
        "id": "b8af9ff0-90ed-4da2-8dce-7ffb05755c92",
        "outputId": "7714ef28-cb26-4deb-bbec-fdfda1b65ca2"
      },
      "outputs": [
        {
          "data": {
            "text/plain": [
              "array([4, 5, 3, 2, 5, 1, 5, 1, 1, 2, 5, 6, 1, 5, 1, 6, 5, 4, 1, 3, 5, 6,\n",
              "       6, 4, 4, 3, 1, 2, 6, 4, 2, 6, 4, 4, 4])"
            ]
          },
          "execution_count": 37,
          "metadata": {},
          "output_type": "execute_result"
        }
      ],
      "source": [
        "random_integers = np.random.randint(1, 7, size=35)\n",
        "random_integers"
      ]
    },
    {
      "cell_type": "code",
      "execution_count": null,
      "id": "2290e3a3-28a8-477b-9efb-c07ddb3121ca",
      "metadata": {
        "id": "2290e3a3-28a8-477b-9efb-c07ddb3121ca"
      },
      "outputs": [],
      "source": [
        "df = pd.DataFrame(random_integers.reshape(7, 5))"
      ]
    },
    {
      "cell_type": "code",
      "execution_count": null,
      "id": "649e8280-61fd-48cd-b471-49d14ea2b73c",
      "metadata": {
        "id": "649e8280-61fd-48cd-b471-49d14ea2b73c",
        "outputId": "a3c0144d-0690-4059-ab81-349bc30a3ee0"
      },
      "outputs": [
        {
          "data": {
            "text/html": [
              "<div>\n",
              "<style scoped>\n",
              "    .dataframe tbody tr th:only-of-type {\n",
              "        vertical-align: middle;\n",
              "    }\n",
              "\n",
              "    .dataframe tbody tr th {\n",
              "        vertical-align: top;\n",
              "    }\n",
              "\n",
              "    .dataframe thead th {\n",
              "        text-align: right;\n",
              "    }\n",
              "</style>\n",
              "<table border=\"1\" class=\"dataframe\">\n",
              "  <thead>\n",
              "    <tr style=\"text-align: right;\">\n",
              "      <th></th>\n",
              "      <th>0</th>\n",
              "      <th>1</th>\n",
              "      <th>2</th>\n",
              "      <th>3</th>\n",
              "      <th>4</th>\n",
              "    </tr>\n",
              "  </thead>\n",
              "  <tbody>\n",
              "    <tr>\n",
              "      <th>0</th>\n",
              "      <td>4</td>\n",
              "      <td>5</td>\n",
              "      <td>3</td>\n",
              "      <td>2</td>\n",
              "      <td>5</td>\n",
              "    </tr>\n",
              "    <tr>\n",
              "      <th>1</th>\n",
              "      <td>1</td>\n",
              "      <td>5</td>\n",
              "      <td>1</td>\n",
              "      <td>1</td>\n",
              "      <td>2</td>\n",
              "    </tr>\n",
              "    <tr>\n",
              "      <th>2</th>\n",
              "      <td>5</td>\n",
              "      <td>6</td>\n",
              "      <td>1</td>\n",
              "      <td>5</td>\n",
              "      <td>1</td>\n",
              "    </tr>\n",
              "    <tr>\n",
              "      <th>3</th>\n",
              "      <td>6</td>\n",
              "      <td>5</td>\n",
              "      <td>4</td>\n",
              "      <td>1</td>\n",
              "      <td>3</td>\n",
              "    </tr>\n",
              "    <tr>\n",
              "      <th>4</th>\n",
              "      <td>5</td>\n",
              "      <td>6</td>\n",
              "      <td>6</td>\n",
              "      <td>4</td>\n",
              "      <td>4</td>\n",
              "    </tr>\n",
              "    <tr>\n",
              "      <th>5</th>\n",
              "      <td>3</td>\n",
              "      <td>1</td>\n",
              "      <td>2</td>\n",
              "      <td>6</td>\n",
              "      <td>4</td>\n",
              "    </tr>\n",
              "    <tr>\n",
              "      <th>6</th>\n",
              "      <td>2</td>\n",
              "      <td>6</td>\n",
              "      <td>4</td>\n",
              "      <td>4</td>\n",
              "      <td>4</td>\n",
              "    </tr>\n",
              "  </tbody>\n",
              "</table>\n",
              "</div>"
            ],
            "text/plain": [
              "   0  1  2  3  4\n",
              "0  4  5  3  2  5\n",
              "1  1  5  1  1  2\n",
              "2  5  6  1  5  1\n",
              "3  6  5  4  1  3\n",
              "4  5  6  6  4  4\n",
              "5  3  1  2  6  4\n",
              "6  2  6  4  4  4"
            ]
          },
          "execution_count": 39,
          "metadata": {},
          "output_type": "execute_result"
        }
      ],
      "source": [
        "df"
      ]
    },
    {
      "cell_type": "markdown",
      "id": "85aa367b-1edf-4776-b372-ec2e64da96f0",
      "metadata": {
        "id": "85aa367b-1edf-4776-b372-ec2e64da96f0"
      },
      "source": [
        "# q11\n",
        "Create two different Series, each of length 50, with the following criteria:\n",
        "\n",
        "a) The first Series should contain random numbers ranging from 10 to 50.\n",
        "\n",
        "b) The second Series should contain random numbers ranging from 100 to 1000.\n",
        "\n",
        "c) Create a DataFrame by yoining these Series by column, and, change the names of the columns to 'col1', 'col2',\n",
        "etc"
      ]
    },
    {
      "cell_type": "code",
      "execution_count": null,
      "id": "6c42035f-1a92-4635-951d-165649c753f0",
      "metadata": {
        "id": "6c42035f-1a92-4635-951d-165649c753f0"
      },
      "outputs": [],
      "source": [
        "ser1 = np.random.randint(10,51,size= 50)\n",
        "ser2 = np.random.randint(100,10001, size= 50)"
      ]
    },
    {
      "cell_type": "code",
      "execution_count": null,
      "id": "cf4aabf6-8455-4fc2-8401-84ccfe6c3f4c",
      "metadata": {
        "id": "cf4aabf6-8455-4fc2-8401-84ccfe6c3f4c",
        "outputId": "18a39df8-f54d-4584-d5f8-6fa344307b26"
      },
      "outputs": [
        {
          "name": "stdout",
          "output_type": "stream",
          "text": [
            "[21 11 41 44 45 13 14 32 28 49 31 43 42 21 13 10 29 42 45 33 39 19 22 35\n",
            " 31 32 33 50 43 49 44 18 45 33 36 21 50 26 39 34 49 34 45 19 28 46 10 39\n",
            " 28 34]\n",
            "[ 978 9145 9245 8367 3786 1311 8753 6814 2295 6660 3162 6384 3549 2750\n",
            " 3862  705 8385 3150  263 8032  537 6960 7903 1443 8413 3353 6261 7576\n",
            " 6001 9382 9620 6959 9219 1001 3516  340  528 9533 4798 3269 9598 4251\n",
            " 8231 8577 8011 8247  770  150 9344 1034]\n"
          ]
        }
      ],
      "source": [
        "print(ser1)\n",
        "print(ser2)\n"
      ]
    },
    {
      "cell_type": "code",
      "execution_count": null,
      "id": "2df091b2-ed40-47ea-be40-3f3e121d83b0",
      "metadata": {
        "id": "2df091b2-ed40-47ea-be40-3f3e121d83b0"
      },
      "outputs": [],
      "source": [
        "df = pd.DataFrame({'col1':ser1,'col2':ser2})"
      ]
    },
    {
      "cell_type": "code",
      "execution_count": null,
      "id": "2bceada1-074f-4b20-86c0-fef62e0e5fe2",
      "metadata": {
        "id": "2bceada1-074f-4b20-86c0-fef62e0e5fe2",
        "outputId": "ad26fdb4-1b07-45c4-a976-641673319696"
      },
      "outputs": [
        {
          "data": {
            "text/html": [
              "<div>\n",
              "<style scoped>\n",
              "    .dataframe tbody tr th:only-of-type {\n",
              "        vertical-align: middle;\n",
              "    }\n",
              "\n",
              "    .dataframe tbody tr th {\n",
              "        vertical-align: top;\n",
              "    }\n",
              "\n",
              "    .dataframe thead th {\n",
              "        text-align: right;\n",
              "    }\n",
              "</style>\n",
              "<table border=\"1\" class=\"dataframe\">\n",
              "  <thead>\n",
              "    <tr style=\"text-align: right;\">\n",
              "      <th></th>\n",
              "      <th>col1</th>\n",
              "      <th>col2</th>\n",
              "    </tr>\n",
              "  </thead>\n",
              "  <tbody>\n",
              "    <tr>\n",
              "      <th>0</th>\n",
              "      <td>21</td>\n",
              "      <td>978</td>\n",
              "    </tr>\n",
              "    <tr>\n",
              "      <th>1</th>\n",
              "      <td>11</td>\n",
              "      <td>9145</td>\n",
              "    </tr>\n",
              "    <tr>\n",
              "      <th>2</th>\n",
              "      <td>41</td>\n",
              "      <td>9245</td>\n",
              "    </tr>\n",
              "    <tr>\n",
              "      <th>3</th>\n",
              "      <td>44</td>\n",
              "      <td>8367</td>\n",
              "    </tr>\n",
              "    <tr>\n",
              "      <th>4</th>\n",
              "      <td>45</td>\n",
              "      <td>3786</td>\n",
              "    </tr>\n",
              "    <tr>\n",
              "      <th>5</th>\n",
              "      <td>13</td>\n",
              "      <td>1311</td>\n",
              "    </tr>\n",
              "    <tr>\n",
              "      <th>6</th>\n",
              "      <td>14</td>\n",
              "      <td>8753</td>\n",
              "    </tr>\n",
              "    <tr>\n",
              "      <th>7</th>\n",
              "      <td>32</td>\n",
              "      <td>6814</td>\n",
              "    </tr>\n",
              "    <tr>\n",
              "      <th>8</th>\n",
              "      <td>28</td>\n",
              "      <td>2295</td>\n",
              "    </tr>\n",
              "    <tr>\n",
              "      <th>9</th>\n",
              "      <td>49</td>\n",
              "      <td>6660</td>\n",
              "    </tr>\n",
              "    <tr>\n",
              "      <th>10</th>\n",
              "      <td>31</td>\n",
              "      <td>3162</td>\n",
              "    </tr>\n",
              "    <tr>\n",
              "      <th>11</th>\n",
              "      <td>43</td>\n",
              "      <td>6384</td>\n",
              "    </tr>\n",
              "    <tr>\n",
              "      <th>12</th>\n",
              "      <td>42</td>\n",
              "      <td>3549</td>\n",
              "    </tr>\n",
              "    <tr>\n",
              "      <th>13</th>\n",
              "      <td>21</td>\n",
              "      <td>2750</td>\n",
              "    </tr>\n",
              "    <tr>\n",
              "      <th>14</th>\n",
              "      <td>13</td>\n",
              "      <td>3862</td>\n",
              "    </tr>\n",
              "    <tr>\n",
              "      <th>15</th>\n",
              "      <td>10</td>\n",
              "      <td>705</td>\n",
              "    </tr>\n",
              "    <tr>\n",
              "      <th>16</th>\n",
              "      <td>29</td>\n",
              "      <td>8385</td>\n",
              "    </tr>\n",
              "    <tr>\n",
              "      <th>17</th>\n",
              "      <td>42</td>\n",
              "      <td>3150</td>\n",
              "    </tr>\n",
              "    <tr>\n",
              "      <th>18</th>\n",
              "      <td>45</td>\n",
              "      <td>263</td>\n",
              "    </tr>\n",
              "    <tr>\n",
              "      <th>19</th>\n",
              "      <td>33</td>\n",
              "      <td>8032</td>\n",
              "    </tr>\n",
              "    <tr>\n",
              "      <th>20</th>\n",
              "      <td>39</td>\n",
              "      <td>537</td>\n",
              "    </tr>\n",
              "    <tr>\n",
              "      <th>21</th>\n",
              "      <td>19</td>\n",
              "      <td>6960</td>\n",
              "    </tr>\n",
              "    <tr>\n",
              "      <th>22</th>\n",
              "      <td>22</td>\n",
              "      <td>7903</td>\n",
              "    </tr>\n",
              "    <tr>\n",
              "      <th>23</th>\n",
              "      <td>35</td>\n",
              "      <td>1443</td>\n",
              "    </tr>\n",
              "    <tr>\n",
              "      <th>24</th>\n",
              "      <td>31</td>\n",
              "      <td>8413</td>\n",
              "    </tr>\n",
              "    <tr>\n",
              "      <th>25</th>\n",
              "      <td>32</td>\n",
              "      <td>3353</td>\n",
              "    </tr>\n",
              "    <tr>\n",
              "      <th>26</th>\n",
              "      <td>33</td>\n",
              "      <td>6261</td>\n",
              "    </tr>\n",
              "    <tr>\n",
              "      <th>27</th>\n",
              "      <td>50</td>\n",
              "      <td>7576</td>\n",
              "    </tr>\n",
              "    <tr>\n",
              "      <th>28</th>\n",
              "      <td>43</td>\n",
              "      <td>6001</td>\n",
              "    </tr>\n",
              "    <tr>\n",
              "      <th>29</th>\n",
              "      <td>49</td>\n",
              "      <td>9382</td>\n",
              "    </tr>\n",
              "    <tr>\n",
              "      <th>30</th>\n",
              "      <td>44</td>\n",
              "      <td>9620</td>\n",
              "    </tr>\n",
              "    <tr>\n",
              "      <th>31</th>\n",
              "      <td>18</td>\n",
              "      <td>6959</td>\n",
              "    </tr>\n",
              "    <tr>\n",
              "      <th>32</th>\n",
              "      <td>45</td>\n",
              "      <td>9219</td>\n",
              "    </tr>\n",
              "    <tr>\n",
              "      <th>33</th>\n",
              "      <td>33</td>\n",
              "      <td>1001</td>\n",
              "    </tr>\n",
              "    <tr>\n",
              "      <th>34</th>\n",
              "      <td>36</td>\n",
              "      <td>3516</td>\n",
              "    </tr>\n",
              "    <tr>\n",
              "      <th>35</th>\n",
              "      <td>21</td>\n",
              "      <td>340</td>\n",
              "    </tr>\n",
              "    <tr>\n",
              "      <th>36</th>\n",
              "      <td>50</td>\n",
              "      <td>528</td>\n",
              "    </tr>\n",
              "    <tr>\n",
              "      <th>37</th>\n",
              "      <td>26</td>\n",
              "      <td>9533</td>\n",
              "    </tr>\n",
              "    <tr>\n",
              "      <th>38</th>\n",
              "      <td>39</td>\n",
              "      <td>4798</td>\n",
              "    </tr>\n",
              "    <tr>\n",
              "      <th>39</th>\n",
              "      <td>34</td>\n",
              "      <td>3269</td>\n",
              "    </tr>\n",
              "    <tr>\n",
              "      <th>40</th>\n",
              "      <td>49</td>\n",
              "      <td>9598</td>\n",
              "    </tr>\n",
              "    <tr>\n",
              "      <th>41</th>\n",
              "      <td>34</td>\n",
              "      <td>4251</td>\n",
              "    </tr>\n",
              "    <tr>\n",
              "      <th>42</th>\n",
              "      <td>45</td>\n",
              "      <td>8231</td>\n",
              "    </tr>\n",
              "    <tr>\n",
              "      <th>43</th>\n",
              "      <td>19</td>\n",
              "      <td>8577</td>\n",
              "    </tr>\n",
              "    <tr>\n",
              "      <th>44</th>\n",
              "      <td>28</td>\n",
              "      <td>8011</td>\n",
              "    </tr>\n",
              "    <tr>\n",
              "      <th>45</th>\n",
              "      <td>46</td>\n",
              "      <td>8247</td>\n",
              "    </tr>\n",
              "    <tr>\n",
              "      <th>46</th>\n",
              "      <td>10</td>\n",
              "      <td>770</td>\n",
              "    </tr>\n",
              "    <tr>\n",
              "      <th>47</th>\n",
              "      <td>39</td>\n",
              "      <td>150</td>\n",
              "    </tr>\n",
              "    <tr>\n",
              "      <th>48</th>\n",
              "      <td>28</td>\n",
              "      <td>9344</td>\n",
              "    </tr>\n",
              "    <tr>\n",
              "      <th>49</th>\n",
              "      <td>34</td>\n",
              "      <td>1034</td>\n",
              "    </tr>\n",
              "  </tbody>\n",
              "</table>\n",
              "</div>"
            ],
            "text/plain": [
              "    col1  col2\n",
              "0     21   978\n",
              "1     11  9145\n",
              "2     41  9245\n",
              "3     44  8367\n",
              "4     45  3786\n",
              "5     13  1311\n",
              "6     14  8753\n",
              "7     32  6814\n",
              "8     28  2295\n",
              "9     49  6660\n",
              "10    31  3162\n",
              "11    43  6384\n",
              "12    42  3549\n",
              "13    21  2750\n",
              "14    13  3862\n",
              "15    10   705\n",
              "16    29  8385\n",
              "17    42  3150\n",
              "18    45   263\n",
              "19    33  8032\n",
              "20    39   537\n",
              "21    19  6960\n",
              "22    22  7903\n",
              "23    35  1443\n",
              "24    31  8413\n",
              "25    32  3353\n",
              "26    33  6261\n",
              "27    50  7576\n",
              "28    43  6001\n",
              "29    49  9382\n",
              "30    44  9620\n",
              "31    18  6959\n",
              "32    45  9219\n",
              "33    33  1001\n",
              "34    36  3516\n",
              "35    21   340\n",
              "36    50   528\n",
              "37    26  9533\n",
              "38    39  4798\n",
              "39    34  3269\n",
              "40    49  9598\n",
              "41    34  4251\n",
              "42    45  8231\n",
              "43    19  8577\n",
              "44    28  8011\n",
              "45    46  8247\n",
              "46    10   770\n",
              "47    39   150\n",
              "48    28  9344\n",
              "49    34  1034"
            ]
          },
          "execution_count": 43,
          "metadata": {},
          "output_type": "execute_result"
        }
      ],
      "source": [
        "df"
      ]
    },
    {
      "cell_type": "markdown",
      "id": "3c77991b-b27f-4e10-9358-d22a12f7fef6",
      "metadata": {
        "id": "3c77991b-b27f-4e10-9358-d22a12f7fef6"
      },
      "source": [
        "# q12\n",
        "Perform the following operations using people data set:\n",
        "\n",
        "a) Delete the 'Email', 'Phone', and 'Date of birth' columns from the dataset.\n",
        "\n",
        "b) Delete the rows containing any missing values.\n",
        "\n",
        "d) Print the final output also"
      ]
    },
    {
      "cell_type": "code",
      "execution_count": null,
      "id": "4a39f251-cc31-4545-a45b-dc10281d1e6a",
      "metadata": {
        "id": "4a39f251-cc31-4545-a45b-dc10281d1e6a"
      },
      "outputs": [],
      "source": [
        "data = pd.read_csv('People Data.csv')"
      ]
    },
    {
      "cell_type": "code",
      "execution_count": null,
      "id": "18219e46-861f-4324-9294-6f8cd9d74aa4",
      "metadata": {
        "id": "18219e46-861f-4324-9294-6f8cd9d74aa4"
      },
      "outputs": [],
      "source": [
        "df = data.drop(columns=['Email', 'Phone' ,'Date of birth'])"
      ]
    },
    {
      "cell_type": "code",
      "execution_count": null,
      "id": "533d4078-e32c-4c23-990e-be04a59a14a0",
      "metadata": {
        "id": "533d4078-e32c-4c23-990e-be04a59a14a0",
        "outputId": "7544c5e9-9d83-4cf2-cf46-052e650e3ff2"
      },
      "outputs": [
        {
          "data": {
            "text/html": [
              "<div>\n",
              "<style scoped>\n",
              "    .dataframe tbody tr th:only-of-type {\n",
              "        vertical-align: middle;\n",
              "    }\n",
              "\n",
              "    .dataframe tbody tr th {\n",
              "        vertical-align: top;\n",
              "    }\n",
              "\n",
              "    .dataframe thead th {\n",
              "        text-align: right;\n",
              "    }\n",
              "</style>\n",
              "<table border=\"1\" class=\"dataframe\">\n",
              "  <thead>\n",
              "    <tr style=\"text-align: right;\">\n",
              "      <th></th>\n",
              "      <th>Index</th>\n",
              "      <th>User Id</th>\n",
              "      <th>First Name</th>\n",
              "      <th>Last Name</th>\n",
              "      <th>Gender</th>\n",
              "      <th>Job Title</th>\n",
              "      <th>Salary</th>\n",
              "    </tr>\n",
              "  </thead>\n",
              "  <tbody>\n",
              "    <tr>\n",
              "      <th>0</th>\n",
              "      <td>1</td>\n",
              "      <td>8717bbf45cCDbEe</td>\n",
              "      <td>Shelia</td>\n",
              "      <td>Mahoney</td>\n",
              "      <td>Male</td>\n",
              "      <td>Probation officer</td>\n",
              "      <td>90000</td>\n",
              "    </tr>\n",
              "    <tr>\n",
              "      <th>1</th>\n",
              "      <td>2</td>\n",
              "      <td>3d5AD30A4cD38ed</td>\n",
              "      <td>Jo</td>\n",
              "      <td>Rivers</td>\n",
              "      <td>Female</td>\n",
              "      <td>Dancer</td>\n",
              "      <td>80000</td>\n",
              "    </tr>\n",
              "    <tr>\n",
              "      <th>2</th>\n",
              "      <td>3</td>\n",
              "      <td>810Ce0F276Badec</td>\n",
              "      <td>Sheryl</td>\n",
              "      <td>Lowery</td>\n",
              "      <td>Female</td>\n",
              "      <td>Copy</td>\n",
              "      <td>50000</td>\n",
              "    </tr>\n",
              "    <tr>\n",
              "      <th>3</th>\n",
              "      <td>4</td>\n",
              "      <td>BF2a889C00f0cE1</td>\n",
              "      <td>Whitney</td>\n",
              "      <td>Hooper</td>\n",
              "      <td>Male</td>\n",
              "      <td>Counselling psychologist</td>\n",
              "      <td>65000</td>\n",
              "    </tr>\n",
              "    <tr>\n",
              "      <th>4</th>\n",
              "      <td>5</td>\n",
              "      <td>9afFEafAe1CBBB9</td>\n",
              "      <td>Lindsey</td>\n",
              "      <td>Rice</td>\n",
              "      <td>Female</td>\n",
              "      <td>Biomedical engineer</td>\n",
              "      <td>100000</td>\n",
              "    </tr>\n",
              "    <tr>\n",
              "      <th>...</th>\n",
              "      <td>...</td>\n",
              "      <td>...</td>\n",
              "      <td>...</td>\n",
              "      <td>...</td>\n",
              "      <td>...</td>\n",
              "      <td>...</td>\n",
              "      <td>...</td>\n",
              "    </tr>\n",
              "    <tr>\n",
              "      <th>995</th>\n",
              "      <td>996</td>\n",
              "      <td>fedF4c7Fd9e7cFa</td>\n",
              "      <td>Kurt</td>\n",
              "      <td>Bryant</td>\n",
              "      <td>Female</td>\n",
              "      <td>Personnel officer</td>\n",
              "      <td>90000</td>\n",
              "    </tr>\n",
              "    <tr>\n",
              "      <th>996</th>\n",
              "      <td>997</td>\n",
              "      <td>ECddaFEDdEc4FAB</td>\n",
              "      <td>Donna</td>\n",
              "      <td>Barry</td>\n",
              "      <td>Female</td>\n",
              "      <td>Education administrator</td>\n",
              "      <td>50000</td>\n",
              "    </tr>\n",
              "    <tr>\n",
              "      <th>997</th>\n",
              "      <td>998</td>\n",
              "      <td>2adde51d8B8979E</td>\n",
              "      <td>Cathy</td>\n",
              "      <td>Mckinney</td>\n",
              "      <td>Female</td>\n",
              "      <td>Commercial/residential surveyor</td>\n",
              "      <td>60000</td>\n",
              "    </tr>\n",
              "    <tr>\n",
              "      <th>998</th>\n",
              "      <td>999</td>\n",
              "      <td>Fb2FE369D1E171A</td>\n",
              "      <td>Jermaine</td>\n",
              "      <td>Phelps</td>\n",
              "      <td>Male</td>\n",
              "      <td>Ambulance person</td>\n",
              "      <td>100000</td>\n",
              "    </tr>\n",
              "    <tr>\n",
              "      <th>999</th>\n",
              "      <td>1000</td>\n",
              "      <td>8b756f6231DDC6e</td>\n",
              "      <td>Lee</td>\n",
              "      <td>Tran</td>\n",
              "      <td>Female</td>\n",
              "      <td>Nurse, learning disability</td>\n",
              "      <td>90000</td>\n",
              "    </tr>\n",
              "  </tbody>\n",
              "</table>\n",
              "<p>1000 rows × 7 columns</p>\n",
              "</div>"
            ],
            "text/plain": [
              "     Index          User Id First Name Last Name  Gender  \\\n",
              "0        1  8717bbf45cCDbEe     Shelia   Mahoney    Male   \n",
              "1        2  3d5AD30A4cD38ed         Jo    Rivers  Female   \n",
              "2        3  810Ce0F276Badec     Sheryl    Lowery  Female   \n",
              "3        4  BF2a889C00f0cE1    Whitney    Hooper    Male   \n",
              "4        5  9afFEafAe1CBBB9    Lindsey      Rice  Female   \n",
              "..     ...              ...        ...       ...     ...   \n",
              "995    996  fedF4c7Fd9e7cFa       Kurt    Bryant  Female   \n",
              "996    997  ECddaFEDdEc4FAB      Donna     Barry  Female   \n",
              "997    998  2adde51d8B8979E      Cathy  Mckinney  Female   \n",
              "998    999  Fb2FE369D1E171A   Jermaine    Phelps    Male   \n",
              "999   1000  8b756f6231DDC6e        Lee      Tran  Female   \n",
              "\n",
              "                           Job Title  Salary  \n",
              "0                  Probation officer   90000  \n",
              "1                             Dancer   80000  \n",
              "2                               Copy   50000  \n",
              "3           Counselling psychologist   65000  \n",
              "4                Biomedical engineer  100000  \n",
              "..                               ...     ...  \n",
              "995                Personnel officer   90000  \n",
              "996          Education administrator   50000  \n",
              "997  Commercial/residential surveyor   60000  \n",
              "998                 Ambulance person  100000  \n",
              "999       Nurse, learning disability   90000  \n",
              "\n",
              "[1000 rows x 7 columns]"
            ]
          },
          "execution_count": 46,
          "metadata": {},
          "output_type": "execute_result"
        }
      ],
      "source": [
        "df.dropna()"
      ]
    },
    {
      "cell_type": "markdown",
      "id": "75dadcec-2cb7-486d-998c-f8f255fc9b22",
      "metadata": {
        "id": "75dadcec-2cb7-486d-998c-f8f255fc9b22"
      },
      "source": [
        "# q13\n",
        "Create two NumPy arrays, x and y, each containing 100 random float values between 0 and 1. Perform the\n",
        "following tasks using Matplotlib and NumPy:\n",
        "\n",
        "a) Create a scatter plot using x and y, setting the color of the points to red and the marker style to 'o'.\n",
        "\n",
        "b) Add a horizontal line at y = 0.5 using a dashed line style and label it as 'y = 0.5'.\n",
        "\n",
        "c) Add a vertical line at x = 0.5 using a dotted line style and label it as 'x = 0.5'.\n",
        "\n",
        "d) Label the x-axis as 'X-axis' and the y-axis as 'Y-axis'.\n",
        "\n",
        "e) Set the title of the plot as 'Advanced Scatter Plot of Random Values'.\n",
        "\n",
        "f) Display a legend for the scatter plot, the horizontal line, and the vertical line"
      ]
    },
    {
      "cell_type": "code",
      "execution_count": null,
      "id": "e1b673db-a92e-4ae3-bc31-e5b7b0b7699c",
      "metadata": {
        "id": "e1b673db-a92e-4ae3-bc31-e5b7b0b7699c"
      },
      "outputs": [],
      "source": [
        "x = np.random.rand(100)\n",
        "y = np.random.rand(100)"
      ]
    },
    {
      "cell_type": "code",
      "execution_count": null,
      "id": "594e4c7e-1d18-4bc3-b43d-436a83c28c53",
      "metadata": {
        "id": "594e4c7e-1d18-4bc3-b43d-436a83c28c53",
        "outputId": "b3d5040f-f87e-4548-c7e1-08f1cf66acde"
      },
      "outputs": [
        {
          "data": {
            "text/plain": [
              "<matplotlib.legend.Legend at 0x724530539fc0>"
            ]
          },
          "execution_count": 48,
          "metadata": {},
          "output_type": "execute_result"
        },
        {
          "data": {
            "image/png": "[encoded data removed]",
            "text/plain": [
              "<Figure size 640x480 with 1 Axes>"
            ]
          },
          "metadata": {},
          "output_type": "display_data"
        }
      ],
      "source": [
        "plt.scatter(x,y, color ='red', marker='o')\n",
        "plt.axhline(y =0.5, linestyle='--', label='y = 0.5')\n",
        "plt.axvline(x =0.5, linestyle=':' , label='x = 0.5')\n",
        "plt.xlabel('X-axis')\n",
        "plt.ylabel('Y-axis')\n",
        "plt.title('Advanced Scatter Plot of Random Values')\n",
        "plt.legend()"
      ]
    },
    {
      "cell_type": "markdown",
      "id": "37b2bd09-88b2-4906-a9aa-8df1ae4bdf6d",
      "metadata": {
        "id": "37b2bd09-88b2-4906-a9aa-8df1ae4bdf6d"
      },
      "source": [
        "# q14\n",
        "Create a time-series dataset in a Pandas DataFrame with columns: 'Date', 'Temperature', 'Humidity' and\n",
        "Perform the following tasks using Matplotlib:\n",
        "\n",
        "a) Plot the 'Temperature' and 'Humidity' on the same plot with different y-axes (left y-axis for 'Temperature' and\n",
        "right y-axis for 'Humidity').\n",
        "\n",
        "b) Label the x-axis as 'Date'.\n",
        "\n",
        "c) Set the title of the plot as 'Temperature and Humidity Over Time'."
      ]
    },
    {
      "cell_type": "code",
      "execution_count": null,
      "id": "82df852b-161f-4fe3-a2ac-f9ab01af0c78",
      "metadata": {
        "id": "82df852b-161f-4fe3-a2ac-f9ab01af0c78"
      },
      "outputs": [],
      "source": [
        "dates = pd.date_range(start='2024-01-01', periods=100, freq='D')\n",
        "temperature = np.random.uniform(low=20, high=30, size=100)\n",
        "humidity = np.random.uniform(low=30, high=80, size=100)"
      ]
    },
    {
      "cell_type": "code",
      "execution_count": null,
      "id": "6335785e-00bb-4995-b568-e5e05a585c7e",
      "metadata": {
        "id": "6335785e-00bb-4995-b568-e5e05a585c7e"
      },
      "outputs": [],
      "source": [
        "df = pd.DataFrame({\n",
        "    'Date': dates,\n",
        "    'Temperature': temperature,\n",
        "    'Humidity': humidity\n",
        "})"
      ]
    },
    {
      "cell_type": "code",
      "execution_count": null,
      "id": "ed1a22be-8cd0-4d45-b992-9d5d9903df1f",
      "metadata": {
        "id": "ed1a22be-8cd0-4d45-b992-9d5d9903df1f",
        "outputId": "6cde200a-de36-4b30-b673-79767ff8f2e3"
      },
      "outputs": [
        {
          "data": {
            "text/html": [
              "<div>\n",
              "<style scoped>\n",
              "    .dataframe tbody tr th:only-of-type {\n",
              "        vertical-align: middle;\n",
              "    }\n",
              "\n",
              "    .dataframe tbody tr th {\n",
              "        vertical-align: top;\n",
              "    }\n",
              "\n",
              "    .dataframe thead th {\n",
              "        text-align: right;\n",
              "    }\n",
              "</style>\n",
              "<table border=\"1\" class=\"dataframe\">\n",
              "  <thead>\n",
              "    <tr style=\"text-align: right;\">\n",
              "      <th></th>\n",
              "      <th>Date</th>\n",
              "      <th>Temperature</th>\n",
              "      <th>Humidity</th>\n",
              "    </tr>\n",
              "  </thead>\n",
              "  <tbody>\n",
              "    <tr>\n",
              "      <th>0</th>\n",
              "      <td>2024-01-01</td>\n",
              "      <td>23.757506</td>\n",
              "      <td>48.093106</td>\n",
              "    </tr>\n",
              "    <tr>\n",
              "      <th>1</th>\n",
              "      <td>2024-01-02</td>\n",
              "      <td>27.190374</td>\n",
              "      <td>75.596057</td>\n",
              "    </tr>\n",
              "    <tr>\n",
              "      <th>2</th>\n",
              "      <td>2024-01-03</td>\n",
              "      <td>26.222427</td>\n",
              "      <td>40.582794</td>\n",
              "    </tr>\n",
              "    <tr>\n",
              "      <th>3</th>\n",
              "      <td>2024-01-04</td>\n",
              "      <td>25.169633</td>\n",
              "      <td>55.596290</td>\n",
              "    </tr>\n",
              "    <tr>\n",
              "      <th>4</th>\n",
              "      <td>2024-01-05</td>\n",
              "      <td>25.907545</td>\n",
              "      <td>40.643564</td>\n",
              "    </tr>\n",
              "    <tr>\n",
              "      <th>...</th>\n",
              "      <td>...</td>\n",
              "      <td>...</td>\n",
              "      <td>...</td>\n",
              "    </tr>\n",
              "    <tr>\n",
              "      <th>95</th>\n",
              "      <td>2024-04-05</td>\n",
              "      <td>28.522564</td>\n",
              "      <td>69.868203</td>\n",
              "    </tr>\n",
              "    <tr>\n",
              "      <th>96</th>\n",
              "      <td>2024-04-06</td>\n",
              "      <td>25.520010</td>\n",
              "      <td>68.051359</td>\n",
              "    </tr>\n",
              "    <tr>\n",
              "      <th>97</th>\n",
              "      <td>2024-04-07</td>\n",
              "      <td>29.168474</td>\n",
              "      <td>78.367137</td>\n",
              "    </tr>\n",
              "    <tr>\n",
              "      <th>98</th>\n",
              "      <td>2024-04-08</td>\n",
              "      <td>23.594381</td>\n",
              "      <td>71.814579</td>\n",
              "    </tr>\n",
              "    <tr>\n",
              "      <th>99</th>\n",
              "      <td>2024-04-09</td>\n",
              "      <td>26.059737</td>\n",
              "      <td>68.620428</td>\n",
              "    </tr>\n",
              "  </tbody>\n",
              "</table>\n",
              "<p>100 rows × 3 columns</p>\n",
              "</div>"
            ],
            "text/plain": [
              "         Date  Temperature   Humidity\n",
              "0  2024-01-01    23.757506  48.093106\n",
              "1  2024-01-02    27.190374  75.596057\n",
              "2  2024-01-03    26.222427  40.582794\n",
              "3  2024-01-04    25.169633  55.596290\n",
              "4  2024-01-05    25.907545  40.643564\n",
              "..        ...          ...        ...\n",
              "95 2024-04-05    28.522564  69.868203\n",
              "96 2024-04-06    25.520010  68.051359\n",
              "97 2024-04-07    29.168474  78.367137\n",
              "98 2024-04-08    23.594381  71.814579\n",
              "99 2024-04-09    26.059737  68.620428\n",
              "\n",
              "[100 rows x 3 columns]"
            ]
          },
          "execution_count": 51,
          "metadata": {},
          "output_type": "execute_result"
        }
      ],
      "source": [
        "df"
      ]
    },
    {
      "cell_type": "code",
      "execution_count": null,
      "id": "53da004a-1f03-4cd1-9f92-5859d00e8898",
      "metadata": {
        "id": "53da004a-1f03-4cd1-9f92-5859d00e8898",
        "outputId": "9d4fa46e-1d6c-45d9-cde6-f6a0e26e13a8"
      },
      "outputs": [
        {
          "data": {
            "text/plain": [
              "Text(0.5, 1.0, 'Temperature and Humidity Over Time')"
            ]
          },
          "execution_count": 52,
          "metadata": {},
          "output_type": "execute_result"
        },
        {
          "data": {
            "image/png": "[encoded data removed]",
            "text/plain": [
              "<Figure size 640x480 with 2 Axes>"
            ]
          },
          "metadata": {},
          "output_type": "display_data"
        }
      ],
      "source": [
        "pfig, ax1 = plt.subplots()\n",
        "\n",
        "# Plot Temperature on the left y-axis\n",
        "ax1.plot(df['Date'], df['Temperature'], 'r-', label='Temperature')\n",
        "ax1.set_xlabel('Date')\n",
        "ax1.set_ylabel('Temperature (°C)', color='r')\n",
        "ax1.tick_params(axis='y', labelcolor='r')\n",
        "\n",
        "# Create a second y-axis for Humidity\n",
        "ax2 = ax1.twinx()\n",
        "ax2.plot(df['Date'], df['Humidity'], 'b-', label='Humidity')\n",
        "ax2.set_ylabel('Humidity (%)', color='b')\n",
        "ax2.tick_params(axis='y', labelcolor='b')\n",
        "\n",
        "plt.title('Temperature and Humidity Over Time')"
      ]
    },
    {
      "cell_type": "markdown",
      "id": "f947dbc2-dcc3-44a4-8b28-58eab10d9201",
      "metadata": {
        "id": "f947dbc2-dcc3-44a4-8b28-58eab10d9201"
      },
      "source": [
        "# q15\n",
        "Create a NumPy array data containing 1000 samples from a normal distribution. Perform the following\n",
        "tasks using Matplotlib:\n",
        "\n",
        "a) Plot a histogram of the data with 30 bins.\n",
        "\n",
        "b) Overlay a line plot representing the normal distribution's probability density function (PDF).\n",
        "\n",
        "c) Label the x-axis as 'Value' and the y-axis as 'Frequency/Probability'.\n",
        "\n",
        "d) Set the title of the plot as 'Histogram with PDF Overlay'."
      ]
    },
    {
      "cell_type": "code",
      "execution_count": null,
      "id": "2490ea5b-0c36-4b4a-b5ce-ca0f2f0b6cad",
      "metadata": {
        "id": "2490ea5b-0c36-4b4a-b5ce-ca0f2f0b6cad"
      },
      "outputs": [],
      "source": [
        "data = np.random.normal(loc=0, scale=1, size=1000)"
      ]
    },
    {
      "cell_type": "code",
      "execution_count": null,
      "id": "a1450fc1-7d89-49fc-bc3c-a14d39fee687",
      "metadata": {
        "id": "a1450fc1-7d89-49fc-bc3c-a14d39fee687",
        "outputId": "3de20c92-8404-4bf7-bf74-48e3169a46bc"
      },
      "outputs": [
        {
          "data": {
            "text/plain": [
              "Text(0.5, 1.0, 'Histogram with PDF Overlay')"
            ]
          },
          "execution_count": 54,
          "metadata": {},
          "output_type": "execute_result"
        },
        {
          "data": {
            "image/png": "[encoded data removed]",
            "text/plain": [
              "<Figure size 1000x600 with 1 Axes>"
            ]
          },
          "metadata": {},
          "output_type": "display_data"
        }
      ],
      "source": [
        "fig, ax = plt.subplots(figsize=(10, 6))\n",
        "\n",
        "# a) Plot a histogram of the data with 30 bins\n",
        "ax.hist(data, bins=30, density=True, edgecolor='black', alpha=0.6, label='Histogram')\n",
        "\n",
        "# Define the range for the PDF\n",
        "xmin, xmax = min(data), max(data)\n",
        "x = np.linspace(xmin, xmax, 100)\n",
        "# Calculate the PDF values for the range\n",
        "p = norm.pdf(x, loc=np.mean(data), scale=np.std(data))\n",
        "ax.plot(x, p, 'k-', linewidth=2, label='Normal Distribution PDF')\n",
        "\n",
        "ax.set_xlabel('Value')\n",
        "ax.set_ylabel('Frequency/Probability')\n",
        "\n",
        "ax.set_title('Histogram with PDF Overlay')\n"
      ]
    },
    {
      "cell_type": "markdown",
      "id": "964855e7-fb56-485f-b8b6-bdbe1932e594",
      "metadata": {
        "id": "964855e7-fb56-485f-b8b6-bdbe1932e594"
      },
      "source": [
        "# q16\n",
        "Set the title of the plot as 'Histogram with PDF Overlay'."
      ]
    },
    {
      "cell_type": "code",
      "execution_count": null,
      "id": "7d390ec0-95e6-431f-beb0-ec678e12e468",
      "metadata": {
        "id": "7d390ec0-95e6-431f-beb0-ec678e12e468",
        "outputId": "d8018ff3-72a2-48f5-9906-254b344c1034"
      },
      "outputs": [
        {
          "data": {
            "text/plain": [
              "Text(0.5, 1.0, 'Histogram with PDF Overlay')"
            ]
          },
          "execution_count": 55,
          "metadata": {},
          "output_type": "execute_result"
        }
      ],
      "source": [
        "ax.set_title('Histogram with PDF Overlay')"
      ]
    },
    {
      "cell_type": "markdown",
      "id": "5408aee7-6020-4265-9e9a-acd0368ff779",
      "metadata": {
        "id": "5408aee7-6020-4265-9e9a-acd0368ff779"
      },
      "source": [
        "# q17\n",
        "Create a Seaborn scatter plot of two random arrays, color points based on their position relative to the\n",
        "origin (quadrants), add a legend, label the axes, and set the title as 'Quadrant-wise Scatter Plot'.\n"
      ]
    },
    {
      "cell_type": "code",
      "execution_count": null,
      "id": "e48f7690-ca0f-45a9-b8ed-b25ed8f0fd68",
      "metadata": {
        "id": "e48f7690-ca0f-45a9-b8ed-b25ed8f0fd68"
      },
      "outputs": [],
      "source": [
        "x = np.random.randn(100)\n",
        "y = np.random.randn(100)"
      ]
    },
    {
      "cell_type": "code",
      "execution_count": null,
      "id": "479b6893-553e-40f1-9c2a-22919f2d107b",
      "metadata": {
        "id": "479b6893-553e-40f1-9c2a-22919f2d107b"
      },
      "outputs": [],
      "source": [
        "def determine_quadrant(x, y):\n",
        "    if x >= 0 and y >= 0:\n",
        "        return 'Quadrant 1'\n",
        "    elif x < 0 and y >= 0:\n",
        "        return 'Quadrant 2'\n",
        "    elif x < 0 and y < 0:\n",
        "        return 'Quadrant 3'\n",
        "    elif x >= 0 and y < 0:\n",
        "        return 'Quadrant 4'"
      ]
    },
    {
      "cell_type": "code",
      "execution_count": null,
      "id": "1d575f8b-9ffc-4a9b-99a3-decacb6befb6",
      "metadata": {
        "id": "1d575f8b-9ffc-4a9b-99a3-decacb6befb6"
      },
      "outputs": [],
      "source": [
        "quadrants = np.array([determine_quadrant(xi, yi) for xi, yi in zip(x, y)])\n"
      ]
    },
    {
      "cell_type": "code",
      "execution_count": null,
      "id": "d4ca599e-468c-4b0c-9510-657d75b80771",
      "metadata": {
        "id": "d4ca599e-468c-4b0c-9510-657d75b80771"
      },
      "outputs": [],
      "source": [
        "df = pd.DataFrame({\n",
        "    'x': x,\n",
        "    'y': y,\n",
        "    'Quadrant': quadrants\n",
        "})"
      ]
    },
    {
      "cell_type": "code",
      "execution_count": null,
      "id": "a9d9bf79-a3d0-4c0c-a027-d0c22ec5288f",
      "metadata": {
        "id": "a9d9bf79-a3d0-4c0c-a027-d0c22ec5288f",
        "outputId": "de27b89d-91bf-442c-c32f-da142994c6c7"
      },
      "outputs": [
        {
          "data": {
            "text/html": [
              "<div>\n",
              "<style scoped>\n",
              "    .dataframe tbody tr th:only-of-type {\n",
              "        vertical-align: middle;\n",
              "    }\n",
              "\n",
              "    .dataframe tbody tr th {\n",
              "        vertical-align: top;\n",
              "    }\n",
              "\n",
              "    .dataframe thead th {\n",
              "        text-align: right;\n",
              "    }\n",
              "</style>\n",
              "<table border=\"1\" class=\"dataframe\">\n",
              "  <thead>\n",
              "    <tr style=\"text-align: right;\">\n",
              "      <th></th>\n",
              "      <th>x</th>\n",
              "      <th>y</th>\n",
              "      <th>Quadrant</th>\n",
              "    </tr>\n",
              "  </thead>\n",
              "  <tbody>\n",
              "    <tr>\n",
              "      <th>0</th>\n",
              "      <td>-0.181871</td>\n",
              "      <td>1.428886</td>\n",
              "      <td>Quadrant 2</td>\n",
              "    </tr>\n",
              "    <tr>\n",
              "      <th>1</th>\n",
              "      <td>1.138305</td>\n",
              "      <td>-1.870185</td>\n",
              "      <td>Quadrant 4</td>\n",
              "    </tr>\n",
              "    <tr>\n",
              "      <th>2</th>\n",
              "      <td>1.095182</td>\n",
              "      <td>0.932820</td>\n",
              "      <td>Quadrant 1</td>\n",
              "    </tr>\n",
              "    <tr>\n",
              "      <th>3</th>\n",
              "      <td>0.171925</td>\n",
              "      <td>0.508361</td>\n",
              "      <td>Quadrant 1</td>\n",
              "    </tr>\n",
              "    <tr>\n",
              "      <th>4</th>\n",
              "      <td>-0.963328</td>\n",
              "      <td>-0.359210</td>\n",
              "      <td>Quadrant 3</td>\n",
              "    </tr>\n",
              "    <tr>\n",
              "      <th>...</th>\n",
              "      <td>...</td>\n",
              "      <td>...</td>\n",
              "      <td>...</td>\n",
              "    </tr>\n",
              "    <tr>\n",
              "      <th>95</th>\n",
              "      <td>1.219810</td>\n",
              "      <td>-0.503200</td>\n",
              "      <td>Quadrant 4</td>\n",
              "    </tr>\n",
              "    <tr>\n",
              "      <th>96</th>\n",
              "      <td>-0.532027</td>\n",
              "      <td>3.028021</td>\n",
              "      <td>Quadrant 2</td>\n",
              "    </tr>\n",
              "    <tr>\n",
              "      <th>97</th>\n",
              "      <td>0.203145</td>\n",
              "      <td>-1.650570</td>\n",
              "      <td>Quadrant 4</td>\n",
              "    </tr>\n",
              "    <tr>\n",
              "      <th>98</th>\n",
              "      <td>-1.478562</td>\n",
              "      <td>-0.564638</td>\n",
              "      <td>Quadrant 3</td>\n",
              "    </tr>\n",
              "    <tr>\n",
              "      <th>99</th>\n",
              "      <td>0.809912</td>\n",
              "      <td>1.547379</td>\n",
              "      <td>Quadrant 1</td>\n",
              "    </tr>\n",
              "  </tbody>\n",
              "</table>\n",
              "<p>100 rows × 3 columns</p>\n",
              "</div>"
            ],
            "text/plain": [
              "           x         y    Quadrant\n",
              "0  -0.181871  1.428886  Quadrant 2\n",
              "1   1.138305 -1.870185  Quadrant 4\n",
              "2   1.095182  0.932820  Quadrant 1\n",
              "3   0.171925  0.508361  Quadrant 1\n",
              "4  -0.963328 -0.359210  Quadrant 3\n",
              "..       ...       ...         ...\n",
              "95  1.219810 -0.503200  Quadrant 4\n",
              "96 -0.532027  3.028021  Quadrant 2\n",
              "97  0.203145 -1.650570  Quadrant 4\n",
              "98 -1.478562 -0.564638  Quadrant 3\n",
              "99  0.809912  1.547379  Quadrant 1\n",
              "\n",
              "[100 rows x 3 columns]"
            ]
          },
          "execution_count": 60,
          "metadata": {},
          "output_type": "execute_result"
        }
      ],
      "source": [
        "df"
      ]
    },
    {
      "cell_type": "code",
      "execution_count": null,
      "id": "f293134e-f666-4276-b24d-810926b9a05d",
      "metadata": {
        "id": "f293134e-f666-4276-b24d-810926b9a05d",
        "outputId": "25a76d43-d71b-459a-92ef-f5e68ef04d8d"
      },
      "outputs": [
        {
          "data": {
            "text/plain": [
              "<matplotlib.legend.Legend at 0x72453019e050>"
            ]
          },
          "execution_count": 61,
          "metadata": {},
          "output_type": "execute_result"
        },
        {
          "data": {
            "image/png": "[encoded data removed]",
            "text/plain": [
              "<Figure size 640x480 with 1 Axes>"
            ]
          },
          "metadata": {},
          "output_type": "display_data"
        }
      ],
      "source": [
        "scatter_plot = sns.scatterplot(data=df, x='x', y='y', hue='Quadrant', palette='Set1')\n",
        "\n",
        "scatter_plot.set_xlabel('X-axis')\n",
        "scatter_plot.set_ylabel('Y-axis')\n",
        "scatter_plot.set_title('Quadrant-wise Scatter Plot')\n",
        "\n",
        "plt.legend(title='Quadrants')\n"
      ]
    },
    {
      "cell_type": "markdown",
      "id": "9cbe9505-753d-4ed8-9c17-a61e7aec0765",
      "metadata": {
        "id": "9cbe9505-753d-4ed8-9c17-a61e7aec0765"
      },
      "source": [
        "# q18\n",
        "With Bokeh, plot a line chart of a sine wave function, add grid lines, label the axes, and set the title as 'Sine\n",
        "Wave Function'"
      ]
    },
    {
      "cell_type": "code",
      "execution_count": null,
      "id": "c6e7d2ad-60ca-4c31-a442-47625b8be330",
      "metadata": {
        "id": "c6e7d2ad-60ca-4c31-a442-47625b8be330",
        "outputId": "35879d36-a32f-42d1-b2ed-0b8b9d12bd1e"
      },
      "outputs": [
        {
          "data": {
            "text/html": [
              "<style>\n",
              "        .bk-notebook-logo {\n",
              "            display: block;\n",
              "            width: 20px;\n",
              "            height: 20px;\n",
              "            background-image: url(data:image/png;base64,iVBORw0KGgoAAAANSUhEUgAAABQAAAAUCAYAAACNiR0NAAAABHNCSVQICAgIfAhkiAAAAAlwSFlzAAALEgAACxIB0t1+/AAAABx0RVh0U29mdHdhcmUAQWRvYmUgRmlyZXdvcmtzIENTNui8sowAAAOkSURBVDiNjZRtaJVlGMd/1/08zzln5zjP1LWcU9N0NkN8m2CYjpgQYQXqSs0I84OLIC0hkEKoPtiH3gmKoiJDU7QpLgoLjLIQCpEsNJ1vqUOdO7ppbuec5+V+rj4ctwzd8IIbbi6u+8f1539dt3A78eXC7QizUF7gyV1fD1Yqg4JWz84yffhm0qkFqBogB9rM8tZdtwVsPUhWhGcFJngGeWrPzHm5oaMmkfEg1usvLFyc8jLRqDOMru7AyC8saQr7GG7f5fvDeH7Ej8CM66nIF+8yngt6HWaKh7k49Soy9nXurCi1o3qUbS3zWfrYeQDTB/Qj6kX6Ybhw4B+bOYoLKCC9H3Nu/leUTZ1JdRWkkn2ldcCamzrcf47KKXdAJllSlxAOkRgyHsGC/zRday5Qld9DyoM4/q/rUoy/CXh3jzOu3bHUVZeU+DEn8FInkPBFlu3+nW3Nw0mk6vCDiWg8CeJaxEwuHS3+z5RgY+YBR6V1Z1nxSOfoaPa4LASWxxdNp+VWTk7+4vzaou8v8PN+xo+KY2xsw6une2frhw05CTYOmQvsEhjhWjn0bmXPjpE1+kplmmkP3suftwTubK9Vq22qKmrBhpY4jvd5afdRA3wGjFAgcnTK2s4hY0/GPNIb0nErGMCRxWOOX64Z8RAC4oCXdklmEvcL8o0BfkNK4lUg9HTl+oPlQxdNo3Mg4Nv175e/1LDGzZen30MEjRUtmXSfiTVu1kK8W4txyV6BMKlbgk3lMwYCiusNy9fVfvvwMxv8Ynl6vxoByANLTWplvuj/nF9m2+PDtt1eiHPBr1oIfhCChQMBw6Aw0UulqTKZdfVvfG7VcfIqLG9bcldL/+pdWTLxLUy8Qq38heUIjh4XlzZxzQm19lLFlr8vdQ97rjZVOLf8nclzckbcD4wxXMidpX30sFd37Fv/GtwwhzhxGVAprjbg0gCAEeIgwCZyTV2Z1REEW8O4py0wsjeloKoMr6iCY6dP92H6Vw/oTyICIthibxjm/DfN9lVz8IqtqKYLUXfoKVMVQVVJOElGjrnnUt9T9wbgp8AyYKaGlqingHZU/uG2NTZSVqwHQTWkx9hxjkpWDaCg6Ckj5qebgBVbT3V3NNXMSiWSDdGV3hrtzla7J+duwPOToIg42ChPQOQjspnSlp1V+Gjdged7+8UN5CRAV7a5EdFNwCjEaBR27b3W890TE7g24NAP/mMDXRWrGoFPQI9ls/MWO2dWFAar/xcOIImbbpA3zgAAAABJRU5ErkJggg==);\n",
              "        }\n",
              "    </style>\n",
              "    <div>\n",
              "        <a href=\"https://bokeh.org\" target=\"_blank\" class=\"bk-notebook-logo\"></a>\n",
              "        <span id=\"p1001\">Loading BokehJS ...</span>\n",
              "    </div>\n"
            ]
          },
          "metadata": {},
          "output_type": "display_data"
        },
        {
          "data": {
            "application/javascript": [
              "(function(root) {\n",
              "  function now() {\n",
              "    return new Date();\n",
              "  }\n",
              "\n",
              "  const force = true;\n",
              "\n",
              "  if (typeof root._bokeh_onload_callbacks === \"undefined\" || force === true) {\n",
              "    root._bokeh_onload_callbacks = [];\n",
              "    root._bokeh_is_loading = undefined;\n",
              "  }\n",
              "\n",
              "const JS_MIME_TYPE = 'application/javascript';\n",
              "  const HTML_MIME_TYPE = 'text/html';\n",
              "  const EXEC_MIME_TYPE = 'application/vnd.bokehjs_exec.v0+json';\n",
              "  const CLASS_NAME = 'output_bokeh rendered_html';\n",
              "\n",
              "  /**\n",
              "   * Render data to the DOM node\n",
              "   */\n",
              "  function render(props, node) {\n",
              "    const script = document.createElement(\"script\");\n",
              "    node.appendChild(script);\n",
              "  }\n",
              "\n",
              "  /**\n",
              "   * Handle when an output is cleared or removed\n",
              "   */\n",
              "  function handleClearOutput(event, handle) {\n",
              "    const cell = handle.cell;\n",
              "\n",
              "    const id = cell.output_area._bokeh_element_id;\n",
              "    const server_id = cell.output_area._bokeh_server_id;\n",
              "    // Clean up Bokeh references\n",
              "    if (id != null && id in Bokeh.index) {\n",
              "      Bokeh.index[id].model.document.clear();\n",
              "      delete Bokeh.index[id];\n",
              "    }\n",
              "\n",
              "    if (server_id !== undefined) {\n",
              "      // Clean up Bokeh references\n",
              "      const cmd_clean = \"from bokeh.io.state import curstate; print(curstate().uuid_to_server['\" + server_id + \"'].get_sessions()[0].document.roots[0]._id)\";\n",
              "      cell.notebook.kernel.execute(cmd_clean, {\n",
              "        iopub: {\n",
              "          output: function(msg) {\n",
              "            const id = msg.content.text.trim();\n",
              "            if (id in Bokeh.index) {\n",
              "              Bokeh.index[id].model.document.clear();\n",
              "              delete Bokeh.index[id];\n",
              "            }\n",
              "          }\n",
              "        }\n",
              "      });\n",
              "      // Destroy server and session\n",
              "      const cmd_destroy = \"import bokeh.io.notebook as ion; ion.destroy_server('\" + server_id + \"')\";\n",
              "      cell.notebook.kernel.execute(cmd_destroy);\n",
              "    }\n",
              "  }\n",
              "\n",
              "  /**\n",
              "   * Handle when a new output is added\n",
              "   */\n",
              "  function handleAddOutput(event, handle) {\n",
              "    const output_area = handle.output_area;\n",
              "    const output = handle.output;\n",
              "\n",
              "    // limit handleAddOutput to display_data with EXEC_MIME_TYPE content only\n",
              "    if ((output.output_type != \"display_data\") || (!Object.prototype.hasOwnProperty.call(output.data, EXEC_MIME_TYPE))) {\n",
              "      return\n",
              "    }\n",
              "\n",
              "    const toinsert = output_area.element.find(\".\" + CLASS_NAME.split(' ')[0]);\n",
              "\n",
              "    if (output.metadata[EXEC_MIME_TYPE][\"id\"] !== undefined) {\n",
              "      toinsert[toinsert.length - 1].firstChild.textContent = output.data[JS_MIME_TYPE];\n",
              "      // store reference to embed id on output_area\n",
              "      output_area._bokeh_element_id = output.metadata[EXEC_MIME_TYPE][\"id\"];\n",
              "    }\n",
              "    if (output.metadata[EXEC_MIME_TYPE][\"server_id\"] !== undefined) {\n",
              "      const bk_div = document.createElement(\"div\");\n",
              "      bk_div.innerHTML = output.data[HTML_MIME_TYPE];\n",
              "      const script_attrs = bk_div.children[0].attributes;\n",
              "      for (let i = 0; i < script_attrs.length; i++) {\n",
              "        toinsert[toinsert.length - 1].firstChild.setAttribute(script_attrs[i].name, script_attrs[i].value);\n",
              "        toinsert[toinsert.length - 1].firstChild.textContent = bk_div.children[0].textContent\n",
              "      }\n",
              "      // store reference to server id on output_area\n",
              "      output_area._bokeh_server_id = output.metadata[EXEC_MIME_TYPE][\"server_id\"];\n",
              "    }\n",
              "  }\n",
              "\n",
              "  function register_renderer(events, OutputArea) {\n",
              "\n",
              "    function append_mime(data, metadata, element) {\n",
              "      // create a DOM node to render to\n",
              "      const toinsert = this.create_output_subarea(\n",
              "        metadata,\n",
              "        CLASS_NAME,\n",
              "        EXEC_MIME_TYPE\n",
              "      );\n",
              "      this.keyboard_manager.register_events(toinsert);\n",
              "      // Render to node\n",
              "      const props = {data: data, metadata: metadata[EXEC_MIME_TYPE]};\n",
              "      render(props, toinsert[toinsert.length - 1]);\n",
              "      element.append(toinsert);\n",
              "      return toinsert\n",
              "    }\n",
              "\n",
              "    /* Handle when an output is cleared or removed */\n",
              "    events.on('clear_output.CodeCell', handleClearOutput);\n",
              "    events.on('delete.Cell', handleClearOutput);\n",
              "\n",
              "    /* Handle when a new output is added */\n",
              "    events.on('output_added.OutputArea', handleAddOutput);\n",
              "\n",
              "    /**\n",
              "     * Register the mime type and append_mime function with output_area\n",
              "     */\n",
              "    OutputArea.prototype.register_mime_type(EXEC_MIME_TYPE, append_mime, {\n",
              "      /* Is output safe? */\n",
              "      safe: true,\n",
              "      /* Index of renderer in `output_area.display_order` */\n",
              "      index: 0\n",
              "    });\n",
              "  }\n",
              "\n",
              "  // register the mime type if in Jupyter Notebook environment and previously unregistered\n",
              "  if (root.Jupyter !== undefined) {\n",
              "    const events = require('base/js/events');\n",
              "    const OutputArea = require('notebook/js/outputarea').OutputArea;\n",
              "\n",
              "    if (OutputArea.prototype.mime_types().indexOf(EXEC_MIME_TYPE) == -1) {\n",
              "      register_renderer(events, OutputArea);\n",
              "    }\n",
              "  }\n",
              "  if (typeof (root._bokeh_timeout) === \"undefined\" || force === true) {\n",
              "    root._bokeh_timeout = Date.now() + 5000;\n",
              "    root._bokeh_failed_load = false;\n",
              "  }\n",
              "\n",
              "  const NB_LOAD_WARNING = {'data': {'text/html':\n",
              "     \"<div style='background-color: #fdd'>\\n\"+\n",
              "     \"<p>\\n\"+\n",
              "     \"BokehJS does not appear to have successfully loaded. If loading BokehJS from CDN, this \\n\"+\n",
              "     \"may be due to a slow or bad network connection. Possible fixes:\\n\"+\n",
              "     \"</p>\\n\"+\n",
              "     \"<ul>\\n\"+\n",
              "     \"<li>re-rerun `output_notebook()` to attempt to load from CDN again, or</li>\\n\"+\n",
              "     \"<li>use INLINE resources instead, as so:</li>\\n\"+\n",
              "     \"</ul>\\n\"+\n",
              "     \"<code>\\n\"+\n",
              "     \"from bokeh.resources import INLINE\\n\"+\n",
              "     \"output_notebook(resources=INLINE)\\n\"+\n",
              "     \"</code>\\n\"+\n",
              "     \"</div>\"}};\n",
              "\n",
              "  function display_loaded() {\n",
              "    const el = document.getElementById(\"p1001\");\n",
              "    if (el != null) {\n",
              "      el.textContent = \"BokehJS is loading...\";\n",
              "    }\n",
              "    if (root.Bokeh !== undefined) {\n",
              "      if (el != null) {\n",
              "        el.textContent = \"BokehJS \" + root.Bokeh.version + \" successfully loaded.\";\n",
              "      }\n",
              "    } else if (Date.now() < root._bokeh_timeout) {\n",
              "      setTimeout(display_loaded, 100)\n",
              "    }\n",
              "  }\n",
              "\n",
              "  function run_callbacks() {\n",
              "    try {\n",
              "      root._bokeh_onload_callbacks.forEach(function(callback) {\n",
              "        if (callback != null)\n",
              "          callback();\n",
              "      });\n",
              "    } finally {\n",
              "      delete root._bokeh_onload_callbacks\n",
              "    }\n",
              "    console.debug(\"Bokeh: all callbacks have finished\");\n",
              "  }\n",
              "\n",
              "  function load_libs(css_urls, js_urls, callback) {\n",
              "    if (css_urls == null) css_urls = [];\n",
              "    if (js_urls == null) js_urls = [];\n",
              "\n",
              "    root._bokeh_onload_callbacks.push(callback);\n",
              "    if (root._bokeh_is_loading > 0) {\n",
              "      console.debug(\"Bokeh: BokehJS is being loaded, scheduling callback at\", now());\n",
              "      return null;\n",
              "    }\n",
              "    if (js_urls == null || js_urls.length === 0) {\n",
              "      run_callbacks();\n",
              "      return null;\n",
              "    }\n",
              "    console.debug(\"Bokeh: BokehJS not loaded, scheduling load and callback at\", now());\n",
              "    root._bokeh_is_loading = css_urls.length + js_urls.length;\n",
              "\n",
              "    function on_load() {\n",
              "      root._bokeh_is_loading--;\n",
              "      if (root._bokeh_is_loading === 0) {\n",
              "        console.debug(\"Bokeh: all BokehJS libraries/stylesheets loaded\");\n",
              "        run_callbacks()\n",
              "      }\n",
              "    }\n",
              "\n",
              "    function on_error(url) {\n",
              "      console.error(\"failed to load \" + url);\n",
              "    }\n",
              "\n",
              "    for (let i = 0; i < css_urls.length; i++) {\n",
              "      const url = css_urls[i];\n",
              "      const element = document.createElement(\"link\");\n",
              "      element.onload = on_load;\n",
              "      element.onerror = on_error.bind(null, url);\n",
              "      element.rel = \"stylesheet\";\n",
              "      element.type = \"text/css\";\n",
              "      element.href = url;\n",
              "      console.debug(\"Bokeh: injecting link tag for BokehJS stylesheet: \", url);\n",
              "      document.body.appendChild(element);\n",
              "    }\n",
              "\n",
              "    for (let i = 0; i < js_urls.length; i++) {\n",
              "      const url = js_urls[i];\n",
              "      const element = document.createElement('script');\n",
              "      element.onload = on_load;\n",
              "      element.onerror = on_error.bind(null, url);\n",
              "      element.async = false;\n",
              "      element.src = url;\n",
              "      console.debug(\"Bokeh: injecting script tag for BokehJS library: \", url);\n",
              "      document.head.appendChild(element);\n",
              "    }\n",
              "  };\n",
              "\n",
              "  function inject_raw_css(css) {\n",
              "    const element = document.createElement(\"style\");\n",
              "    element.appendChild(document.createTextNode(css));\n",
              "    document.body.appendChild(element);\n",
              "  }\n",
              "\n",
              "  const js_urls = [\"https://cdn.bokeh.org/bokeh/release/bokeh-3.0.3.min.js\", \"https://cdn.bokeh.org/bokeh/release/bokeh-gl-3.0.3.min.js\", \"https://cdn.bokeh.org/bokeh/release/bokeh-widgets-3.0.3.min.js\", \"https://cdn.bokeh.org/bokeh/release/bokeh-tables-3.0.3.min.js\", \"https://cdn.bokeh.org/bokeh/release/bokeh-mathjax-3.0.3.min.js\"];\n",
              "  const css_urls = [];\n",
              "\n",
              "  const inline_js = [    function(Bokeh) {\n",
              "      Bokeh.set_log_level(\"info\");\n",
              "    },\n",
              "function(Bokeh) {\n",
              "    }\n",
              "  ];\n",
              "\n",
              "  function run_inline_js() {\n",
              "    if (root.Bokeh !== undefined || force === true) {\n",
              "          for (let i = 0; i < inline_js.length; i++) {\n",
              "      inline_js[i].call(root, root.Bokeh);\n",
              "    }\n",
              "if (force === true) {\n",
              "        display_loaded();\n",
              "      }} else if (Date.now() < root._bokeh_timeout) {\n",
              "      setTimeout(run_inline_js, 100);\n",
              "    } else if (!root._bokeh_failed_load) {\n",
              "      console.log(\"Bokeh: BokehJS failed to load within specified timeout.\");\n",
              "      root._bokeh_failed_load = true;\n",
              "    } else if (force !== true) {\n",
              "      const cell = $(document.getElementById(\"p1001\")).parents('.cell').data().cell;\n",
              "      cell.output_area.append_execute_result(NB_LOAD_WARNING)\n",
              "    }\n",
              "  }\n",
              "\n",
              "  if (root._bokeh_is_loading === 0) {\n",
              "    console.debug(\"Bokeh: BokehJS loaded, going straight to plotting\");\n",
              "    run_inline_js();\n",
              "  } else {\n",
              "    load_libs(css_urls, js_urls, function() {\n",
              "      console.debug(\"Bokeh: BokehJS plotting callback run at\", now());\n",
              "      run_inline_js();\n",
              "    });\n",
              "  }\n",
              "}(window));"
            ],
            "application/vnd.bokehjs_load.v0+json": "(function(root) {\n  function now() {\n    return new Date();\n  }\n\n  const force = true;\n\n  if (typeof root._bokeh_onload_callbacks === \"undefined\" || force === true) {\n    root._bokeh_onload_callbacks = [];\n    root._bokeh_is_loading = undefined;\n  }\n\n\n  if (typeof (root._bokeh_timeout) === \"undefined\" || force === true) {\n    root._bokeh_timeout = Date.now() + 5000;\n    root._bokeh_failed_load = false;\n  }\n\n  const NB_LOAD_WARNING = {'data': {'text/html':\n     \"<div style='background-color: #fdd'>\\n\"+\n     \"<p>\\n\"+\n     \"BokehJS does not appear to have successfully loaded. If loading BokehJS from CDN, this \\n\"+\n     \"may be due to a slow or bad network connection. Possible fixes:\\n\"+\n     \"</p>\\n\"+\n     \"<ul>\\n\"+\n     \"<li>re-rerun `output_notebook()` to attempt to load from CDN again, or</li>\\n\"+\n     \"<li>use INLINE resources instead, as so:</li>\\n\"+\n     \"</ul>\\n\"+\n     \"<code>\\n\"+\n     \"from bokeh.resources import INLINE\\n\"+\n     \"output_notebook(resources=INLINE)\\n\"+\n     \"</code>\\n\"+\n     \"</div>\"}};\n\n  function display_loaded() {\n    const el = document.getElementById(\"p1001\");\n    if (el != null) {\n      el.textContent = \"BokehJS is loading...\";\n    }\n    if (root.Bokeh !== undefined) {\n      if (el != null) {\n        el.textContent = \"BokehJS \" + root.Bokeh.version + \" successfully loaded.\";\n      }\n    } else if (Date.now() < root._bokeh_timeout) {\n      setTimeout(display_loaded, 100)\n    }\n  }\n\n  function run_callbacks() {\n    try {\n      root._bokeh_onload_callbacks.forEach(function(callback) {\n        if (callback != null)\n          callback();\n      });\n    } finally {\n      delete root._bokeh_onload_callbacks\n    }\n    console.debug(\"Bokeh: all callbacks have finished\");\n  }\n\n  function load_libs(css_urls, js_urls, callback) {\n    if (css_urls == null) css_urls = [];\n    if (js_urls == null) js_urls = [];\n\n    root._bokeh_onload_callbacks.push(callback);\n    if (root._bokeh_is_loading > 0) {\n      console.debug(\"Bokeh: BokehJS is being loaded, scheduling callback at\", now());\n      return null;\n    }\n    if (js_urls == null || js_urls.length === 0) {\n      run_callbacks();\n      return null;\n    }\n    console.debug(\"Bokeh: BokehJS not loaded, scheduling load and callback at\", now());\n    root._bokeh_is_loading = css_urls.length + js_urls.length;\n\n    function on_load() {\n      root._bokeh_is_loading--;\n      if (root._bokeh_is_loading === 0) {\n        console.debug(\"Bokeh: all BokehJS libraries/stylesheets loaded\");\n        run_callbacks()\n      }\n    }\n\n    function on_error(url) {\n      console.error(\"failed to load \" + url);\n    }\n\n    for (let i = 0; i < css_urls.length; i++) {\n      const url = css_urls[i];\n      const element = document.createElement(\"link\");\n      element.onload = on_load;\n      element.onerror = on_error.bind(null, url);\n      element.rel = \"stylesheet\";\n      element.type = \"text/css\";\n      element.href = url;\n      console.debug(\"Bokeh: injecting link tag for BokehJS stylesheet: \", url);\n      document.body.appendChild(element);\n    }\n\n    for (let i = 0; i < js_urls.length; i++) {\n      const url = js_urls[i];\n      const element = document.createElement('script');\n      element.onload = on_load;\n      element.onerror = on_error.bind(null, url);\n      element.async = false;\n      element.src = url;\n      console.debug(\"Bokeh: injecting script tag for BokehJS library: \", url);\n      document.head.appendChild(element);\n    }\n  };\n\n  function inject_raw_css(css) {\n    const element = document.createElement(\"style\");\n    element.appendChild(document.createTextNode(css));\n    document.body.appendChild(element);\n  }\n\n  const js_urls = [\"https://cdn.bokeh.org/bokeh/release/bokeh-3.0.3.min.js\", \"https://cdn.bokeh.org/bokeh/release/bokeh-gl-3.0.3.min.js\", \"https://cdn.bokeh.org/bokeh/release/bokeh-widgets-3.0.3.min.js\", \"https://cdn.bokeh.org/bokeh/release/bokeh-tables-3.0.3.min.js\", \"https://cdn.bokeh.org/bokeh/release/bokeh-mathjax-3.0.3.min.js\"];\n  const css_urls = [];\n\n  const inline_js = [    function(Bokeh) {\n      Bokeh.set_log_level(\"info\");\n    },\nfunction(Bokeh) {\n    }\n  ];\n\n  function run_inline_js() {\n    if (root.Bokeh !== undefined || force === true) {\n          for (let i = 0; i < inline_js.length; i++) {\n      inline_js[i].call(root, root.Bokeh);\n    }\nif (force === true) {\n        display_loaded();\n      }} else if (Date.now() < root._bokeh_timeout) {\n      setTimeout(run_inline_js, 100);\n    } else if (!root._bokeh_failed_load) {\n      console.log(\"Bokeh: BokehJS failed to load within specified timeout.\");\n      root._bokeh_failed_load = true;\n    } else if (force !== true) {\n      const cell = $(document.getElementById(\"p1001\")).parents('.cell').data().cell;\n      cell.output_area.append_execute_result(NB_LOAD_WARNING)\n    }\n  }\n\n  if (root._bokeh_is_loading === 0) {\n    console.debug(\"Bokeh: BokehJS loaded, going straight to plotting\");\n    run_inline_js();\n  } else {\n    load_libs(css_urls, js_urls, function() {\n      console.debug(\"Bokeh: BokehJS plotting callback run at\", now());\n      run_inline_js();\n    });\n  }\n}(window));"
          },
          "metadata": {},
          "output_type": "display_data"
        },
        {
          "data": {
            "text/html": [
              "\n",
              "  <div id=\"b51773b9-d83a-4c98-9965-b0d1c3c597a1\" data-root-id=\"p1002\" style=\"display: contents;\"></div>\n"
            ]
          },
          "metadata": {},
          "output_type": "display_data"
        },
        {
          "data": {
            "application/javascript": [
              "(function(root) {\n",
              "  function embed_document(root) {\n",
              "  const docs_json = {\"d7a4dc49-ef19-4ea5-b75b-6c86179a3e71\":{\"version\":\"3.0.3\",\"title\":\"Bokeh Application\",\"defs\":[],\"roots\":[{\"type\":\"object\",\"name\":\"Figure\",\"id\":\"p1002\",\"attributes\":{\"x_range\":{\"type\":\"object\",\"name\":\"DataRange1d\",\"id\":\"p1003\"},\"y_range\":{\"type\":\"object\",\"name\":\"DataRange1d\",\"id\":\"p1004\"},\"x_scale\":{\"type\":\"object\",\"name\":\"LinearScale\",\"id\":\"p1016\"},\"y_scale\":{\"type\":\"object\",\"name\":\"LinearScale\",\"id\":\"p1018\"},\"title\":{\"type\":\"object\",\"name\":\"Title\",\"id\":\"p1005\",\"attributes\":{\"text\":\"Sine Wave Function\"}},\"renderers\":[{\"type\":\"object\",\"name\":\"GlyphRenderer\",\"id\":\"p1055\",\"attributes\":{\"data_source\":{\"type\":\"object\",\"name\":\"ColumnDataSource\",\"id\":\"p1049\",\"attributes\":{\"selected\":{\"type\":\"object\",\"name\":\"Selection\",\"id\":\"p1051\",\"attributes\":{\"indices\":[],\"line_indices\":[]}},\"selection_policy\":{\"type\":\"object\",\"name\":\"UnionRenderers\",\"id\":\"p1050\"},\"data\":{\"type\":\"map\",\"entries\":[[\"x\",{\"type\":\"ndarray\",\"array\":{\"type\":\"bytes\",\"data\":\"AAAAAAAAAACRGkt8Vz+wP5EaS3xXP8A/2qdwOgNfyD+RGkt8Vz/QPzXhXVstT9Q/2qdwOgNf2D9+boMZ2W7cP5EaS3xXP+A/433Ua0JH4j814V1bLU/kP4dE50oYV+Y/2qdwOgNf6D8sC/op7mbqP35ugxnZbuw/0NEMCcR27j+RGkt8Vz/wPzrMD/RMQ/E/433Ua0JH8j+ML5njN0vzPzXhXVstT/Q/3pIi0yJT9T+HROdKGFf2PzD2q8INW/c/2qdwOgNf+D+DWTWy+GL5PywL+inuZvo/1by+oeNq+z9+boMZ2W78PycgSJHOcv0/0NEMCcR2/j95g9GAuXr/P5EaS3xXPwBAZnMtOFLBAEA6zA/0TEMBQA8l8q9HxQFA433Ua0JHAkC41rYnPckCQIwvmeM3SwNAYYh7nzLNA0A14V1bLU8EQAo6QBco0QRA3pIi0yJTBUCz6wSPHdUFQIdE50oYVwZAXJ3JBhPZBkAw9qvCDVsHQAVPjn4I3QdA2qdwOgNfCECuAFP2/eAIQINZNbL4YglAV7IXbvPkCUAsC/op7mYKQABk3OXo6ApA1by+oeNqC0CpFaFd3uwLQH5ugxnZbgxAUsdl1dPwDEAnIEiRznINQPt4Kk3J9A1A0NEMCcR2DkCkKu/EvvgOQHmD0YC5eg9ATdyzPLT8D0CRGkt8Vz8QQPtGPNpUgBBAZnMtOFLBEEDQnx6WTwIRQDrMD/RMQxFApPgAUkqEEUAPJfKvR8URQHlR4w1FBhJA433Ua0JHEkBNqsXJP4gSQLjWtic9yRJAIgOohToKE0CML5njN0sTQPZbikE1jBNAYYh7nzLNE0DLtGz9Lw4UQDXhXVstTxRAoA1PuSqQFEAKOkAXKNEUQHRmMXUlEhVA3pIi0yJTFUBJvxMxIJQVQLPrBI8d1RVAHRj27BoWFkCHROdKGFcWQPJw2KgVmBZAXJ3JBhPZFkDGybpkEBoXQDD2q8INWxdAmyKdIAucF0AFT45+CN0XQG97f9wFHhhA2qdwOgNfGEBE1GGYAKAYQK4AU/b94BhAGC1EVPshGUA=\"},\"shape\":[100],\"dtype\":\"float64\",\"order\":\"little\"}],[\"y\",{\"type\":\"ndarray\",\"array\":{\"type\":\"bytes\",\"data\":\"AAAAAAAAAAADhrXMjDywP/CDAnguNMA/kayggGI5yD+aiNkBzxLQP9ofIiFb+NM/+5MNU1HJ1z+CQNqEwoHbPxlNPurYHd8/C1i7+O1M4T9GhZoMGvniPxwWPFK3keQ/ABg/lCAV5j+GGZN4xoHnP4hAIRwx1ug/lkFFlgER6j93zoZi8zDrPzKcHq/dNOw/EyzujrQb7T/B8a4NiuTtP/0jPCWPju4/3176khQZ7z8XHIGMi4PvPzTGy1KGze8/g6xao7j27z/vOc8G+P7vP2Zmsvw75u8/70I4BJ6s7z+/l/eBWVLvPwOssILL1+4/xVNiW3I97j+TIxAn7YPtP1EHwCL7q+w/qUxY6Hq26z+RVimJaaTqP5aCD4nhduk/oSg6uxkv6D+158MBZM7mP9OHZvErVuU/8XixWvXH4z8mRkW6WiXiP2ITsJELcOA/8qg+VZVT3T/agWKM2KjZP/gLinSo49U/v412/ecH0j/lKaSyIjPMP+bENsZjOcQ/3FNHxZdVuD+s23zJpD6gP8nbfMmkPqC/6lNHxZdVuL/txDbGYznEv9wppLIiM8y/wo12/ecH0r/0C4p0qOPVv92BYozYqNm/7qg+VZVT3b9jE7CRC3DgvyRGRbpaJeK/83ixWvXH47/Rh2bxK1blv7fnwwFkzua/oCg6uxkv6L+Xgg+J4Xbpv5BWKYlppOq/rExY6Hq2679SB8Ai+6vsv5MjECftg+2/xFNiW3I97r8ErLCCy9fuv7+X94FZUu+/70I4BJ6s779lZrL8O+bvv+85zwb4/u+/g6xao7j27780xstShs3vvxgcgYyLg++/3176khQZ77/9Izwlj47uv8Lxrg2K5O2/EizujrQb7b8xnB6v3TTsv3fOhmLzMOu/l0FFlgER6r+GQCEcMdbov4UZk3jGgee/ABg/lCAV5r8fFjxSt5Hkv0SFmgwa+eK/Cli7+O1M4b8bTT7q2B3fv4dA2oTCgdu/9ZMNU1HJ17/ZHyIhW/jTv52I2QHPEtC/gKyggGI5yL/ogwJ4LjTAvwSGtcyMPLC/B1wUMyamsbw=\"},\"shape\":[100],\"dtype\":\"float64\",\"order\":\"little\"}]]}}},\"view\":{\"type\":\"object\",\"name\":\"CDSView\",\"id\":\"p1056\",\"attributes\":{\"filter\":{\"type\":\"object\",\"name\":\"AllIndices\",\"id\":\"p1057\"}}},\"glyph\":{\"type\":\"object\",\"name\":\"Line\",\"id\":\"p1052\",\"attributes\":{\"x\":{\"type\":\"field\",\"field\":\"x\"},\"y\":{\"type\":\"field\",\"field\":\"y\"},\"line_color\":\"#1f77b4\",\"line_width\":2}},\"nonselection_glyph\":{\"type\":\"object\",\"name\":\"Line\",\"id\":\"p1053\",\"attributes\":{\"x\":{\"type\":\"field\",\"field\":\"x\"},\"y\":{\"type\":\"field\",\"field\":\"y\"},\"line_color\":\"#1f77b4\",\"line_alpha\":0.1,\"line_width\":2}},\"muted_glyph\":{\"type\":\"object\",\"name\":\"Line\",\"id\":\"p1054\",\"attributes\":{\"x\":{\"type\":\"field\",\"field\":\"x\"},\"y\":{\"type\":\"field\",\"field\":\"y\"},\"line_color\":\"#1f77b4\",\"line_alpha\":0.2,\"line_width\":2}}}}],\"toolbar\":{\"type\":\"object\",\"name\":\"Toolbar\",\"id\":\"p1010\",\"attributes\":{\"tools\":[{\"type\":\"object\",\"name\":\"PanTool\",\"id\":\"p1034\"},{\"type\":\"object\",\"name\":\"WheelZoomTool\",\"id\":\"p1035\"},{\"type\":\"object\",\"name\":\"BoxZoomTool\",\"id\":\"p1036\",\"attributes\":{\"overlay\":{\"type\":\"object\",\"name\":\"BoxAnnotation\",\"id\":\"p1037\",\"attributes\":{\"syncable\":false,\"level\":\"overlay\",\"visible\":false,\"left_units\":\"canvas\",\"right_units\":\"canvas\",\"bottom_units\":\"canvas\",\"top_units\":\"canvas\",\"line_color\":\"black\",\"line_alpha\":1.0,\"line_width\":2,\"line_dash\":[4,4],\"fill_color\":\"lightgrey\",\"fill_alpha\":0.5}}}},{\"type\":\"object\",\"name\":\"SaveTool\",\"id\":\"p1038\"},{\"type\":\"object\",\"name\":\"ResetTool\",\"id\":\"p1039\"},{\"type\":\"object\",\"name\":\"HelpTool\",\"id\":\"p1040\"}]}},\"left\":[{\"type\":\"object\",\"name\":\"LinearAxis\",\"id\":\"p1027\",\"attributes\":{\"ticker\":{\"type\":\"object\",\"name\":\"BasicTicker\",\"id\":\"p1029\",\"attributes\":{\"mantissas\":[1,2,5]}},\"formatter\":{\"type\":\"object\",\"name\":\"BasicTickFormatter\",\"id\":\"p1030\"},\"axis_label\":\"sin(x)\",\"major_label_policy\":{\"type\":\"object\",\"name\":\"AllLabels\",\"id\":\"p1028\"}}}],\"below\":[{\"type\":\"object\",\"name\":\"LinearAxis\",\"id\":\"p1020\",\"attributes\":{\"ticker\":{\"type\":\"object\",\"name\":\"BasicTicker\",\"id\":\"p1022\",\"attributes\":{\"mantissas\":[1,2,5]}},\"formatter\":{\"type\":\"object\",\"name\":\"BasicTickFormatter\",\"id\":\"p1023\"},\"axis_label\":\"x\",\"major_label_policy\":{\"type\":\"object\",\"name\":\"AllLabels\",\"id\":\"p1021\"}}}],\"center\":[{\"type\":\"object\",\"name\":\"Grid\",\"id\":\"p1026\",\"attributes\":{\"axis\":{\"id\":\"p1020\"}}},{\"type\":\"object\",\"name\":\"Grid\",\"id\":\"p1033\",\"attributes\":{\"dimension\":1,\"axis\":{\"id\":\"p1027\"}}},{\"type\":\"object\",\"name\":\"Legend\",\"id\":\"p1071\",\"attributes\":{\"items\":[{\"type\":\"object\",\"name\":\"LegendItem\",\"id\":\"p1072\",\"attributes\":{\"label\":{\"type\":\"value\",\"value\":\"Sine Wave\"},\"renderers\":[{\"id\":\"p1055\"}]}}]}}]}}]}};\n",
              "  const render_items = [{\"docid\":\"d7a4dc49-ef19-4ea5-b75b-6c86179a3e71\",\"roots\":{\"p1002\":\"b51773b9-d83a-4c98-9965-b0d1c3c597a1\"},\"root_ids\":[\"p1002\"]}];\n",
              "  root.Bokeh.embed.embed_items_notebook(docs_json, render_items);\n",
              "  }\n",
              "  if (root.Bokeh !== undefined) {\n",
              "    embed_document(root);\n",
              "  } else {\n",
              "    let attempts = 0;\n",
              "    const timer = setInterval(function(root) {\n",
              "      if (root.Bokeh !== undefined) {\n",
              "        clearInterval(timer);\n",
              "        embed_document(root);\n",
              "      } else {\n",
              "        attempts++;\n",
              "        if (attempts > 100) {\n",
              "          clearInterval(timer);\n",
              "          console.log(\"Bokeh: ERROR: Unable to run BokehJS code because BokehJS library is missing\");\n",
              "        }\n",
              "      }\n",
              "    }, 10, root)\n",
              "  }\n",
              "})(window);"
            ],
            "application/vnd.bokehjs_exec.v0+json": ""
          },
          "metadata": {
            "application/vnd.bokehjs_exec.v0+json": {
              "id": "p1002"
            }
          },
          "output_type": "display_data"
        }
      ],
      "source": [
        "from bokeh.plotting import figure, show, output_notebook, output_file\n",
        "import numpy as np\n",
        "\n",
        "# Prepare the data\n",
        "x = np.linspace(0, 2 * np.pi, 100)  # Generate 100 points from 0 to 2π\n",
        "y = np.sin(x)  # Compute the sine of each x value\n",
        "\n",
        "# Set up the output to display in a Jupyter notebook (comment out this line if not using a notebook)\n",
        "output_notebook()\n",
        "# output_file('sine_wave.html')\n",
        "\n",
        "# Create a new plot with title and axis labels\n",
        "p = figure(title=\"Sine Wave Function\", x_axis_label='x', y_axis_label='sin(x)')\n",
        "\n",
        "# Add a line renderer with a legend and line thickness\n",
        "p.line(x, y, legend_label=\"Sine Wave\", line_width=2)\n",
        "\n",
        "# Add grid lines\n",
        "p.grid.visible = True\n",
        "\n",
        "# Show the plot\n",
        "show(p)\n"
      ]
    },
    {
      "cell_type": "markdown",
      "id": "b8a9b54e-ad17-4978-aa3f-1d98f16e89ea",
      "metadata": {
        "id": "b8a9b54e-ad17-4978-aa3f-1d98f16e89ea"
      },
      "source": [
        "# q19\n",
        "Using Bokeh, generate a bar chart of randomly generated categorical data, color bars based on their\n",
        "values, add hover tooltips to display exact values, label the axes, and set the title as 'Random Categorical\n",
        "Bar Chart'"
      ]
    },
    {
      "cell_type": "code",
      "execution_count": null,
      "id": "b1595f49-5f0b-4012-996a-fa641828dfab",
      "metadata": {
        "id": "b1595f49-5f0b-4012-996a-fa641828dfab",
        "outputId": "c8dd55e6-82ea-4015-a10f-37c20f19995b"
      },
      "outputs": [
        {
          "data": {
            "text/html": [
              "<style>\n",
              "        .bk-notebook-logo {\n",
              "            display: block;\n",
              "            width: 20px;\n",
              "            height: 20px;\n",
              "            background-image: url(data:image/png;base64,iVBORw0KGgoAAAANSUhEUgAAABQAAAAUCAYAAACNiR0NAAAABHNCSVQICAgIfAhkiAAAAAlwSFlzAAALEgAACxIB0t1+/AAAABx0RVh0U29mdHdhcmUAQWRvYmUgRmlyZXdvcmtzIENTNui8sowAAAOkSURBVDiNjZRtaJVlGMd/1/08zzln5zjP1LWcU9N0NkN8m2CYjpgQYQXqSs0I84OLIC0hkEKoPtiH3gmKoiJDU7QpLgoLjLIQCpEsNJ1vqUOdO7ppbuec5+V+rj4ctwzd8IIbbi6u+8f1539dt3A78eXC7QizUF7gyV1fD1Yqg4JWz84yffhm0qkFqBogB9rM8tZdtwVsPUhWhGcFJngGeWrPzHm5oaMmkfEg1usvLFyc8jLRqDOMru7AyC8saQr7GG7f5fvDeH7Ej8CM66nIF+8yngt6HWaKh7k49Soy9nXurCi1o3qUbS3zWfrYeQDTB/Qj6kX6Ybhw4B+bOYoLKCC9H3Nu/leUTZ1JdRWkkn2ldcCamzrcf47KKXdAJllSlxAOkRgyHsGC/zRday5Qld9DyoM4/q/rUoy/CXh3jzOu3bHUVZeU+DEn8FInkPBFlu3+nW3Nw0mk6vCDiWg8CeJaxEwuHS3+z5RgY+YBR6V1Z1nxSOfoaPa4LASWxxdNp+VWTk7+4vzaou8v8PN+xo+KY2xsw6une2frhw05CTYOmQvsEhjhWjn0bmXPjpE1+kplmmkP3suftwTubK9Vq22qKmrBhpY4jvd5afdRA3wGjFAgcnTK2s4hY0/GPNIb0nErGMCRxWOOX64Z8RAC4oCXdklmEvcL8o0BfkNK4lUg9HTl+oPlQxdNo3Mg4Nv175e/1LDGzZen30MEjRUtmXSfiTVu1kK8W4txyV6BMKlbgk3lMwYCiusNy9fVfvvwMxv8Ynl6vxoByANLTWplvuj/nF9m2+PDtt1eiHPBr1oIfhCChQMBw6Aw0UulqTKZdfVvfG7VcfIqLG9bcldL/+pdWTLxLUy8Qq38heUIjh4XlzZxzQm19lLFlr8vdQ97rjZVOLf8nclzckbcD4wxXMidpX30sFd37Fv/GtwwhzhxGVAprjbg0gCAEeIgwCZyTV2Z1REEW8O4py0wsjeloKoMr6iCY6dP92H6Vw/oTyICIthibxjm/DfN9lVz8IqtqKYLUXfoKVMVQVVJOElGjrnnUt9T9wbgp8AyYKaGlqingHZU/uG2NTZSVqwHQTWkx9hxjkpWDaCg6Ckj5qebgBVbT3V3NNXMSiWSDdGV3hrtzla7J+duwPOToIg42ChPQOQjspnSlp1V+Gjdged7+8UN5CRAV7a5EdFNwCjEaBR27b3W890TE7g24NAP/mMDXRWrGoFPQI9ls/MWO2dWFAar/xcOIImbbpA3zgAAAABJRU5ErkJggg==);\n",
              "        }\n",
              "    </style>\n",
              "    <div>\n",
              "        <a href=\"https://bokeh.org\" target=\"_blank\" class=\"bk-notebook-logo\"></a>\n",
              "        <span id=\"p1156\">Loading BokehJS ...</span>\n",
              "    </div>\n"
            ]
          },
          "metadata": {},
          "output_type": "display_data"
        },
        {
          "data": {
            "application/javascript": [
              "(function(root) {\n",
              "  function now() {\n",
              "    return new Date();\n",
              "  }\n",
              "\n",
              "  const force = true;\n",
              "\n",
              "  if (typeof root._bokeh_onload_callbacks === \"undefined\" || force === true) {\n",
              "    root._bokeh_onload_callbacks = [];\n",
              "    root._bokeh_is_loading = undefined;\n",
              "  }\n",
              "\n",
              "const JS_MIME_TYPE = 'application/javascript';\n",
              "  const HTML_MIME_TYPE = 'text/html';\n",
              "  const EXEC_MIME_TYPE = 'application/vnd.bokehjs_exec.v0+json';\n",
              "  const CLASS_NAME = 'output_bokeh rendered_html';\n",
              "\n",
              "  /**\n",
              "   * Render data to the DOM node\n",
              "   */\n",
              "  function render(props, node) {\n",
              "    const script = document.createElement(\"script\");\n",
              "    node.appendChild(script);\n",
              "  }\n",
              "\n",
              "  /**\n",
              "   * Handle when an output is cleared or removed\n",
              "   */\n",
              "  function handleClearOutput(event, handle) {\n",
              "    const cell = handle.cell;\n",
              "\n",
              "    const id = cell.output_area._bokeh_element_id;\n",
              "    const server_id = cell.output_area._bokeh_server_id;\n",
              "    // Clean up Bokeh references\n",
              "    if (id != null && id in Bokeh.index) {\n",
              "      Bokeh.index[id].model.document.clear();\n",
              "      delete Bokeh.index[id];\n",
              "    }\n",
              "\n",
              "    if (server_id !== undefined) {\n",
              "      // Clean up Bokeh references\n",
              "      const cmd_clean = \"from bokeh.io.state import curstate; print(curstate().uuid_to_server['\" + server_id + \"'].get_sessions()[0].document.roots[0]._id)\";\n",
              "      cell.notebook.kernel.execute(cmd_clean, {\n",
              "        iopub: {\n",
              "          output: function(msg) {\n",
              "            const id = msg.content.text.trim();\n",
              "            if (id in Bokeh.index) {\n",
              "              Bokeh.index[id].model.document.clear();\n",
              "              delete Bokeh.index[id];\n",
              "            }\n",
              "          }\n",
              "        }\n",
              "      });\n",
              "      // Destroy server and session\n",
              "      const cmd_destroy = \"import bokeh.io.notebook as ion; ion.destroy_server('\" + server_id + \"')\";\n",
              "      cell.notebook.kernel.execute(cmd_destroy);\n",
              "    }\n",
              "  }\n",
              "\n",
              "  /**\n",
              "   * Handle when a new output is added\n",
              "   */\n",
              "  function handleAddOutput(event, handle) {\n",
              "    const output_area = handle.output_area;\n",
              "    const output = handle.output;\n",
              "\n",
              "    // limit handleAddOutput to display_data with EXEC_MIME_TYPE content only\n",
              "    if ((output.output_type != \"display_data\") || (!Object.prototype.hasOwnProperty.call(output.data, EXEC_MIME_TYPE))) {\n",
              "      return\n",
              "    }\n",
              "\n",
              "    const toinsert = output_area.element.find(\".\" + CLASS_NAME.split(' ')[0]);\n",
              "\n",
              "    if (output.metadata[EXEC_MIME_TYPE][\"id\"] !== undefined) {\n",
              "      toinsert[toinsert.length - 1].firstChild.textContent = output.data[JS_MIME_TYPE];\n",
              "      // store reference to embed id on output_area\n",
              "      output_area._bokeh_element_id = output.metadata[EXEC_MIME_TYPE][\"id\"];\n",
              "    }\n",
              "    if (output.metadata[EXEC_MIME_TYPE][\"server_id\"] !== undefined) {\n",
              "      const bk_div = document.createElement(\"div\");\n",
              "      bk_div.innerHTML = output.data[HTML_MIME_TYPE];\n",
              "      const script_attrs = bk_div.children[0].attributes;\n",
              "      for (let i = 0; i < script_attrs.length; i++) {\n",
              "        toinsert[toinsert.length - 1].firstChild.setAttribute(script_attrs[i].name, script_attrs[i].value);\n",
              "        toinsert[toinsert.length - 1].firstChild.textContent = bk_div.children[0].textContent\n",
              "      }\n",
              "      // store reference to server id on output_area\n",
              "      output_area._bokeh_server_id = output.metadata[EXEC_MIME_TYPE][\"server_id\"];\n",
              "    }\n",
              "  }\n",
              "\n",
              "  function register_renderer(events, OutputArea) {\n",
              "\n",
              "    function append_mime(data, metadata, element) {\n",
              "      // create a DOM node to render to\n",
              "      const toinsert = this.create_output_subarea(\n",
              "        metadata,\n",
              "        CLASS_NAME,\n",
              "        EXEC_MIME_TYPE\n",
              "      );\n",
              "      this.keyboard_manager.register_events(toinsert);\n",
              "      // Render to node\n",
              "      const props = {data: data, metadata: metadata[EXEC_MIME_TYPE]};\n",
              "      render(props, toinsert[toinsert.length - 1]);\n",
              "      element.append(toinsert);\n",
              "      return toinsert\n",
              "    }\n",
              "\n",
              "    /* Handle when an output is cleared or removed */\n",
              "    events.on('clear_output.CodeCell', handleClearOutput);\n",
              "    events.on('delete.Cell', handleClearOutput);\n",
              "\n",
              "    /* Handle when a new output is added */\n",
              "    events.on('output_added.OutputArea', handleAddOutput);\n",
              "\n",
              "    /**\n",
              "     * Register the mime type and append_mime function with output_area\n",
              "     */\n",
              "    OutputArea.prototype.register_mime_type(EXEC_MIME_TYPE, append_mime, {\n",
              "      /* Is output safe? */\n",
              "      safe: true,\n",
              "      /* Index of renderer in `output_area.display_order` */\n",
              "      index: 0\n",
              "    });\n",
              "  }\n",
              "\n",
              "  // register the mime type if in Jupyter Notebook environment and previously unregistered\n",
              "  if (root.Jupyter !== undefined) {\n",
              "    const events = require('base/js/events');\n",
              "    const OutputArea = require('notebook/js/outputarea').OutputArea;\n",
              "\n",
              "    if (OutputArea.prototype.mime_types().indexOf(EXEC_MIME_TYPE) == -1) {\n",
              "      register_renderer(events, OutputArea);\n",
              "    }\n",
              "  }\n",
              "  if (typeof (root._bokeh_timeout) === \"undefined\" || force === true) {\n",
              "    root._bokeh_timeout = Date.now() + 5000;\n",
              "    root._bokeh_failed_load = false;\n",
              "  }\n",
              "\n",
              "  const NB_LOAD_WARNING = {'data': {'text/html':\n",
              "     \"<div style='background-color: #fdd'>\\n\"+\n",
              "     \"<p>\\n\"+\n",
              "     \"BokehJS does not appear to have successfully loaded. If loading BokehJS from CDN, this \\n\"+\n",
              "     \"may be due to a slow or bad network connection. Possible fixes:\\n\"+\n",
              "     \"</p>\\n\"+\n",
              "     \"<ul>\\n\"+\n",
              "     \"<li>re-rerun `output_notebook()` to attempt to load from CDN again, or</li>\\n\"+\n",
              "     \"<li>use INLINE resources instead, as so:</li>\\n\"+\n",
              "     \"</ul>\\n\"+\n",
              "     \"<code>\\n\"+\n",
              "     \"from bokeh.resources import INLINE\\n\"+\n",
              "     \"output_notebook(resources=INLINE)\\n\"+\n",
              "     \"</code>\\n\"+\n",
              "     \"</div>\"}};\n",
              "\n",
              "  function display_loaded() {\n",
              "    const el = document.getElementById(\"p1156\");\n",
              "    if (el != null) {\n",
              "      el.textContent = \"BokehJS is loading...\";\n",
              "    }\n",
              "    if (root.Bokeh !== undefined) {\n",
              "      if (el != null) {\n",
              "        el.textContent = \"BokehJS \" + root.Bokeh.version + \" successfully loaded.\";\n",
              "      }\n",
              "    } else if (Date.now() < root._bokeh_timeout) {\n",
              "      setTimeout(display_loaded, 100)\n",
              "    }\n",
              "  }\n",
              "\n",
              "  function run_callbacks() {\n",
              "    try {\n",
              "      root._bokeh_onload_callbacks.forEach(function(callback) {\n",
              "        if (callback != null)\n",
              "          callback();\n",
              "      });\n",
              "    } finally {\n",
              "      delete root._bokeh_onload_callbacks\n",
              "    }\n",
              "    console.debug(\"Bokeh: all callbacks have finished\");\n",
              "  }\n",
              "\n",
              "  function load_libs(css_urls, js_urls, callback) {\n",
              "    if (css_urls == null) css_urls = [];\n",
              "    if (js_urls == null) js_urls = [];\n",
              "\n",
              "    root._bokeh_onload_callbacks.push(callback);\n",
              "    if (root._bokeh_is_loading > 0) {\n",
              "      console.debug(\"Bokeh: BokehJS is being loaded, scheduling callback at\", now());\n",
              "      return null;\n",
              "    }\n",
              "    if (js_urls == null || js_urls.length === 0) {\n",
              "      run_callbacks();\n",
              "      return null;\n",
              "    }\n",
              "    console.debug(\"Bokeh: BokehJS not loaded, scheduling load and callback at\", now());\n",
              "    root._bokeh_is_loading = css_urls.length + js_urls.length;\n",
              "\n",
              "    function on_load() {\n",
              "      root._bokeh_is_loading--;\n",
              "      if (root._bokeh_is_loading === 0) {\n",
              "        console.debug(\"Bokeh: all BokehJS libraries/stylesheets loaded\");\n",
              "        run_callbacks()\n",
              "      }\n",
              "    }\n",
              "\n",
              "    function on_error(url) {\n",
              "      console.error(\"failed to load \" + url);\n",
              "    }\n",
              "\n",
              "    for (let i = 0; i < css_urls.length; i++) {\n",
              "      const url = css_urls[i];\n",
              "      const element = document.createElement(\"link\");\n",
              "      element.onload = on_load;\n",
              "      element.onerror = on_error.bind(null, url);\n",
              "      element.rel = \"stylesheet\";\n",
              "      element.type = \"text/css\";\n",
              "      element.href = url;\n",
              "      console.debug(\"Bokeh: injecting link tag for BokehJS stylesheet: \", url);\n",
              "      document.body.appendChild(element);\n",
              "    }\n",
              "\n",
              "    for (let i = 0; i < js_urls.length; i++) {\n",
              "      const url = js_urls[i];\n",
              "      const element = document.createElement('script');\n",
              "      element.onload = on_load;\n",
              "      element.onerror = on_error.bind(null, url);\n",
              "      element.async = false;\n",
              "      element.src = url;\n",
              "      console.debug(\"Bokeh: injecting script tag for BokehJS library: \", url);\n",
              "      document.head.appendChild(element);\n",
              "    }\n",
              "  };\n",
              "\n",
              "  function inject_raw_css(css) {\n",
              "    const element = document.createElement(\"style\");\n",
              "    element.appendChild(document.createTextNode(css));\n",
              "    document.body.appendChild(element);\n",
              "  }\n",
              "\n",
              "  const js_urls = [\"https://cdn.bokeh.org/bokeh/release/bokeh-3.0.3.min.js\", \"https://cdn.bokeh.org/bokeh/release/bokeh-gl-3.0.3.min.js\", \"https://cdn.bokeh.org/bokeh/release/bokeh-widgets-3.0.3.min.js\", \"https://cdn.bokeh.org/bokeh/release/bokeh-tables-3.0.3.min.js\", \"https://cdn.bokeh.org/bokeh/release/bokeh-mathjax-3.0.3.min.js\"];\n",
              "  const css_urls = [];\n",
              "\n",
              "  const inline_js = [    function(Bokeh) {\n",
              "      Bokeh.set_log_level(\"info\");\n",
              "    },\n",
              "function(Bokeh) {\n",
              "    }\n",
              "  ];\n",
              "\n",
              "  function run_inline_js() {\n",
              "    if (root.Bokeh !== undefined || force === true) {\n",
              "          for (let i = 0; i < inline_js.length; i++) {\n",
              "      inline_js[i].call(root, root.Bokeh);\n",
              "    }\n",
              "if (force === true) {\n",
              "        display_loaded();\n",
              "      }} else if (Date.now() < root._bokeh_timeout) {\n",
              "      setTimeout(run_inline_js, 100);\n",
              "    } else if (!root._bokeh_failed_load) {\n",
              "      console.log(\"Bokeh: BokehJS failed to load within specified timeout.\");\n",
              "      root._bokeh_failed_load = true;\n",
              "    } else if (force !== true) {\n",
              "      const cell = $(document.getElementById(\"p1156\")).parents('.cell').data().cell;\n",
              "      cell.output_area.append_execute_result(NB_LOAD_WARNING)\n",
              "    }\n",
              "  }\n",
              "\n",
              "  if (root._bokeh_is_loading === 0) {\n",
              "    console.debug(\"Bokeh: BokehJS loaded, going straight to plotting\");\n",
              "    run_inline_js();\n",
              "  } else {\n",
              "    load_libs(css_urls, js_urls, function() {\n",
              "      console.debug(\"Bokeh: BokehJS plotting callback run at\", now());\n",
              "      run_inline_js();\n",
              "    });\n",
              "  }\n",
              "}(window));"
            ],
            "application/vnd.bokehjs_load.v0+json": "(function(root) {\n  function now() {\n    return new Date();\n  }\n\n  const force = true;\n\n  if (typeof root._bokeh_onload_callbacks === \"undefined\" || force === true) {\n    root._bokeh_onload_callbacks = [];\n    root._bokeh_is_loading = undefined;\n  }\n\n\n  if (typeof (root._bokeh_timeout) === \"undefined\" || force === true) {\n    root._bokeh_timeout = Date.now() + 5000;\n    root._bokeh_failed_load = false;\n  }\n\n  const NB_LOAD_WARNING = {'data': {'text/html':\n     \"<div style='background-color: #fdd'>\\n\"+\n     \"<p>\\n\"+\n     \"BokehJS does not appear to have successfully loaded. If loading BokehJS from CDN, this \\n\"+\n     \"may be due to a slow or bad network connection. Possible fixes:\\n\"+\n     \"</p>\\n\"+\n     \"<ul>\\n\"+\n     \"<li>re-rerun `output_notebook()` to attempt to load from CDN again, or</li>\\n\"+\n     \"<li>use INLINE resources instead, as so:</li>\\n\"+\n     \"</ul>\\n\"+\n     \"<code>\\n\"+\n     \"from bokeh.resources import INLINE\\n\"+\n     \"output_notebook(resources=INLINE)\\n\"+\n     \"</code>\\n\"+\n     \"</div>\"}};\n\n  function display_loaded() {\n    const el = document.getElementById(\"p1156\");\n    if (el != null) {\n      el.textContent = \"BokehJS is loading...\";\n    }\n    if (root.Bokeh !== undefined) {\n      if (el != null) {\n        el.textContent = \"BokehJS \" + root.Bokeh.version + \" successfully loaded.\";\n      }\n    } else if (Date.now() < root._bokeh_timeout) {\n      setTimeout(display_loaded, 100)\n    }\n  }\n\n  function run_callbacks() {\n    try {\n      root._bokeh_onload_callbacks.forEach(function(callback) {\n        if (callback != null)\n          callback();\n      });\n    } finally {\n      delete root._bokeh_onload_callbacks\n    }\n    console.debug(\"Bokeh: all callbacks have finished\");\n  }\n\n  function load_libs(css_urls, js_urls, callback) {\n    if (css_urls == null) css_urls = [];\n    if (js_urls == null) js_urls = [];\n\n    root._bokeh_onload_callbacks.push(callback);\n    if (root._bokeh_is_loading > 0) {\n      console.debug(\"Bokeh: BokehJS is being loaded, scheduling callback at\", now());\n      return null;\n    }\n    if (js_urls == null || js_urls.length === 0) {\n      run_callbacks();\n      return null;\n    }\n    console.debug(\"Bokeh: BokehJS not loaded, scheduling load and callback at\", now());\n    root._bokeh_is_loading = css_urls.length + js_urls.length;\n\n    function on_load() {\n      root._bokeh_is_loading--;\n      if (root._bokeh_is_loading === 0) {\n        console.debug(\"Bokeh: all BokehJS libraries/stylesheets loaded\");\n        run_callbacks()\n      }\n    }\n\n    function on_error(url) {\n      console.error(\"failed to load \" + url);\n    }\n\n    for (let i = 0; i < css_urls.length; i++) {\n      const url = css_urls[i];\n      const element = document.createElement(\"link\");\n      element.onload = on_load;\n      element.onerror = on_error.bind(null, url);\n      element.rel = \"stylesheet\";\n      element.type = \"text/css\";\n      element.href = url;\n      console.debug(\"Bokeh: injecting link tag for BokehJS stylesheet: \", url);\n      document.body.appendChild(element);\n    }\n\n    for (let i = 0; i < js_urls.length; i++) {\n      const url = js_urls[i];\n      const element = document.createElement('script');\n      element.onload = on_load;\n      element.onerror = on_error.bind(null, url);\n      element.async = false;\n      element.src = url;\n      console.debug(\"Bokeh: injecting script tag for BokehJS library: \", url);\n      document.head.appendChild(element);\n    }\n  };\n\n  function inject_raw_css(css) {\n    const element = document.createElement(\"style\");\n    element.appendChild(document.createTextNode(css));\n    document.body.appendChild(element);\n  }\n\n  const js_urls = [\"https://cdn.bokeh.org/bokeh/release/bokeh-3.0.3.min.js\", \"https://cdn.bokeh.org/bokeh/release/bokeh-gl-3.0.3.min.js\", \"https://cdn.bokeh.org/bokeh/release/bokeh-widgets-3.0.3.min.js\", \"https://cdn.bokeh.org/bokeh/release/bokeh-tables-3.0.3.min.js\", \"https://cdn.bokeh.org/bokeh/release/bokeh-mathjax-3.0.3.min.js\"];\n  const css_urls = [];\n\n  const inline_js = [    function(Bokeh) {\n      Bokeh.set_log_level(\"info\");\n    },\nfunction(Bokeh) {\n    }\n  ];\n\n  function run_inline_js() {\n    if (root.Bokeh !== undefined || force === true) {\n          for (let i = 0; i < inline_js.length; i++) {\n      inline_js[i].call(root, root.Bokeh);\n    }\nif (force === true) {\n        display_loaded();\n      }} else if (Date.now() < root._bokeh_timeout) {\n      setTimeout(run_inline_js, 100);\n    } else if (!root._bokeh_failed_load) {\n      console.log(\"Bokeh: BokehJS failed to load within specified timeout.\");\n      root._bokeh_failed_load = true;\n    } else if (force !== true) {\n      const cell = $(document.getElementById(\"p1156\")).parents('.cell').data().cell;\n      cell.output_area.append_execute_result(NB_LOAD_WARNING)\n    }\n  }\n\n  if (root._bokeh_is_loading === 0) {\n    console.debug(\"Bokeh: BokehJS loaded, going straight to plotting\");\n    run_inline_js();\n  } else {\n    load_libs(css_urls, js_urls, function() {\n      console.debug(\"Bokeh: BokehJS plotting callback run at\", now());\n      run_inline_js();\n    });\n  }\n}(window));"
          },
          "metadata": {},
          "output_type": "display_data"
        },
        {
          "data": {
            "text/html": [
              "\n",
              "  <div id=\"8147e214-2fde-4a39-8b13-70c8b4e07495\" data-root-id=\"p1160\" style=\"display: contents;\"></div>\n"
            ]
          },
          "metadata": {},
          "output_type": "display_data"
        },
        {
          "data": {
            "application/javascript": [
              "(function(root) {\n",
              "  function embed_document(root) {\n",
              "  const docs_json = {\"21e86326-fcb4-47a3-94e0-78fc41aadc29\":{\"version\":\"3.0.3\",\"title\":\"Bokeh Application\",\"defs\":[],\"roots\":[{\"type\":\"object\",\"name\":\"Figure\",\"id\":\"p1160\",\"attributes\":{\"height\":400,\"x_range\":{\"type\":\"object\",\"name\":\"FactorRange\",\"id\":\"p1170\",\"attributes\":{\"factors\":[\"Category 0\",\"Category 1\",\"Category 2\",\"Category 3\",\"Category 4\",\"Category 5\",\"Category 6\",\"Category 7\",\"Category 8\",\"Category 9\"]}},\"y_range\":{\"type\":\"object\",\"name\":\"DataRange1d\",\"id\":\"p1162\",\"attributes\":{\"start\":0}},\"x_scale\":{\"type\":\"object\",\"name\":\"CategoricalScale\",\"id\":\"p1174\"},\"y_scale\":{\"type\":\"object\",\"name\":\"LinearScale\",\"id\":\"p1176\"},\"title\":{\"type\":\"object\",\"name\":\"Title\",\"id\":\"p1163\",\"attributes\":{\"text\":\"Random Categorical Bar Chart\"}},\"renderers\":[{\"type\":\"object\",\"name\":\"GlyphRenderer\",\"id\":\"p1198\",\"attributes\":{\"data_source\":{\"type\":\"object\",\"name\":\"ColumnDataSource\",\"id\":\"p1157\",\"attributes\":{\"selected\":{\"type\":\"object\",\"name\":\"Selection\",\"id\":\"p1159\",\"attributes\":{\"indices\":[],\"line_indices\":[]}},\"selection_policy\":{\"type\":\"object\",\"name\":\"UnionRenderers\",\"id\":\"p1158\"},\"data\":{\"type\":\"map\",\"entries\":[[\"index\",{\"type\":\"ndarray\",\"array\":{\"type\":\"bytes\",\"data\":\"AAAAAAEAAAACAAAAAwAAAAQAAAAFAAAABgAAAAcAAAAIAAAACQAAAA==\"},\"shape\":[10],\"dtype\":\"int32\",\"order\":\"little\"}],[\"Category\",{\"type\":\"ndarray\",\"array\":[\"Category 0\",\"Category 1\",\"Category 2\",\"Category 3\",\"Category 4\",\"Category 5\",\"Category 6\",\"Category 7\",\"Category 8\",\"Category 9\"],\"shape\":[10],\"dtype\":\"object\",\"order\":\"little\"}],[\"Value\",{\"type\":\"ndarray\",\"array\":{\"type\":\"bytes\",\"data\":\"NgAAADkAAABKAAAATQAAAE0AAAATAAAAXQAAAB8AAAAuAAAAYQAAAA==\"},\"shape\":[10],\"dtype\":\"int32\",\"order\":\"little\"}]]}}},\"view\":{\"type\":\"object\",\"name\":\"CDSView\",\"id\":\"p1199\",\"attributes\":{\"filter\":{\"type\":\"object\",\"name\":\"AllIndices\",\"id\":\"p1200\"}}},\"glyph\":{\"type\":\"object\",\"name\":\"VBar\",\"id\":\"p1195\",\"attributes\":{\"x\":{\"type\":\"field\",\"field\":\"Category\"},\"width\":{\"type\":\"value\",\"value\":0.9},\"top\":{\"type\":\"field\",\"field\":\"Value\"},\"line_color\":{\"type\":\"value\",\"value\":\"blue\"},\"fill_color\":{\"type\":\"value\",\"value\":\"blue\"},\"hatch_color\":{\"type\":\"value\",\"value\":\"blue\"}}},\"nonselection_glyph\":{\"type\":\"object\",\"name\":\"VBar\",\"id\":\"p1196\",\"attributes\":{\"x\":{\"type\":\"field\",\"field\":\"Category\"},\"width\":{\"type\":\"value\",\"value\":0.9},\"top\":{\"type\":\"field\",\"field\":\"Value\"},\"line_color\":{\"type\":\"value\",\"value\":\"blue\"},\"line_alpha\":{\"type\":\"value\",\"value\":0.1},\"fill_color\":{\"type\":\"value\",\"value\":\"blue\"},\"fill_alpha\":{\"type\":\"value\",\"value\":0.1},\"hatch_color\":{\"type\":\"value\",\"value\":\"blue\"},\"hatch_alpha\":{\"type\":\"value\",\"value\":0.1}}},\"muted_glyph\":{\"type\":\"object\",\"name\":\"VBar\",\"id\":\"p1197\",\"attributes\":{\"x\":{\"type\":\"field\",\"field\":\"Category\"},\"width\":{\"type\":\"value\",\"value\":0.9},\"top\":{\"type\":\"field\",\"field\":\"Value\"},\"line_color\":{\"type\":\"value\",\"value\":\"blue\"},\"line_alpha\":{\"type\":\"value\",\"value\":0.2},\"fill_color\":{\"type\":\"value\",\"value\":\"blue\"},\"fill_alpha\":{\"type\":\"value\",\"value\":0.2},\"hatch_color\":{\"type\":\"value\",\"value\":\"blue\"},\"hatch_alpha\":{\"type\":\"value\",\"value\":0.2}}}}}],\"toolbar\":{\"type\":\"object\",\"name\":\"Toolbar\",\"id\":\"p1168\",\"attributes\":{\"tools\":[{\"type\":\"object\",\"name\":\"HoverTool\",\"id\":\"p1215\",\"attributes\":{\"renderers\":\"auto\",\"tooltips\":[[\"Category\",\"@Category\"],[\"Value\",\"@Value\"]]}}]}},\"toolbar_location\":null,\"left\":[{\"type\":\"object\",\"name\":\"LinearAxis\",\"id\":\"p1184\",\"attributes\":{\"ticker\":{\"type\":\"object\",\"name\":\"BasicTicker\",\"id\":\"p1186\",\"attributes\":{\"mantissas\":[1,2,5]}},\"formatter\":{\"type\":\"object\",\"name\":\"BasicTickFormatter\",\"id\":\"p1187\"},\"axis_label\":\"Value\",\"axis_label_standoff\":12,\"major_label_policy\":{\"type\":\"object\",\"name\":\"AllLabels\",\"id\":\"p1185\"}}}],\"below\":[{\"type\":\"object\",\"name\":\"CategoricalAxis\",\"id\":\"p1178\",\"attributes\":{\"ticker\":{\"type\":\"object\",\"name\":\"CategoricalTicker\",\"id\":\"p1180\"},\"formatter\":{\"type\":\"object\",\"name\":\"CategoricalTickFormatter\",\"id\":\"p1181\"},\"axis_label\":\"Category\",\"major_label_policy\":{\"type\":\"object\",\"name\":\"AllLabels\",\"id\":\"p1179\"}}}],\"center\":[{\"type\":\"object\",\"name\":\"Grid\",\"id\":\"p1183\",\"attributes\":{\"axis\":{\"id\":\"p1178\"},\"grid_line_color\":null}},{\"type\":\"object\",\"name\":\"Grid\",\"id\":\"p1190\",\"attributes\":{\"dimension\":1,\"axis\":{\"id\":\"p1184\"}}},{\"type\":\"object\",\"name\":\"Legend\",\"id\":\"p1213\",\"attributes\":{\"location\":\"top_left\",\"orientation\":\"horizontal\",\"title\":\"Category\",\"items\":[{\"type\":\"object\",\"name\":\"LegendItem\",\"id\":\"p1214\",\"attributes\":{\"label\":{\"type\":\"field\",\"field\":\"Category\"},\"renderers\":[{\"id\":\"p1198\"}]}}]}}]}}]}};\n",
              "  const render_items = [{\"docid\":\"21e86326-fcb4-47a3-94e0-78fc41aadc29\",\"roots\":{\"p1160\":\"8147e214-2fde-4a39-8b13-70c8b4e07495\"},\"root_ids\":[\"p1160\"]}];\n",
              "  root.Bokeh.embed.embed_items_notebook(docs_json, render_items);\n",
              "  }\n",
              "  if (root.Bokeh !== undefined) {\n",
              "    embed_document(root);\n",
              "  } else {\n",
              "    let attempts = 0;\n",
              "    const timer = setInterval(function(root) {\n",
              "      if (root.Bokeh !== undefined) {\n",
              "        clearInterval(timer);\n",
              "        embed_document(root);\n",
              "      } else {\n",
              "        attempts++;\n",
              "        if (attempts > 100) {\n",
              "          clearInterval(timer);\n",
              "          console.log(\"Bokeh: ERROR: Unable to run BokehJS code because BokehJS library is missing\");\n",
              "        }\n",
              "      }\n",
              "    }, 10, root)\n",
              "  }\n",
              "})(window);"
            ],
            "application/vnd.bokehjs_exec.v0+json": ""
          },
          "metadata": {
            "application/vnd.bokehjs_exec.v0+json": {
              "id": "p1160"
            }
          },
          "output_type": "display_data"
        }
      ],
      "source": [
        "import numpy as np\n",
        "import pandas as pd\n",
        "from bokeh.plotting import figure, show, output_notebook\n",
        "from bokeh.models import ColumnDataSource, HoverTool\n",
        "\n",
        "# Set up the output to display in a Jupyter notebook\n",
        "output_notebook()\n",
        "\n",
        "# Generate random categorical data\n",
        "np.random.seed(0)  # For reproducibility\n",
        "categories = [f'Category {i}' for i in range(10)]  # 10 categories\n",
        "values = np.random.randint(10, 100, size=len(categories))  # Random values for each category\n",
        "\n",
        "# Create a DataFrame\n",
        "df = pd.DataFrame({\n",
        "    'Category': categories,\n",
        "    'Value': values\n",
        "})\n",
        "\n",
        "source = ColumnDataSource(df)\n",
        "\n",
        "# Create a new plot with title and axis labels\n",
        "p = figure(x_range=df['Category'], height=400, title=\"Random Categorical Bar Chart\",\n",
        "           x_axis_label='Category', y_axis_label='Value', toolbar_location=None, tools=\"\")\n",
        "\n",
        "p.vbar(x='Category', top='Value', width=0.9, source=source, color='blue', legend_field='Category')\n",
        "\n",
        "# Add hover tooltips\n",
        "hover = HoverTool()\n",
        "hover.tooltips = [(\"Category\", \"@Category\"), (\"Value\", \"@Value\")]\n",
        "p.add_tools(hover)\n",
        "\n",
        "p.xgrid.grid_line_color = None\n",
        "p.y_range.start = 0\n",
        "p.yaxis.axis_label_standoff = 12\n",
        "\n",
        "# Add the legend\n",
        "p.legend.title = 'Category'\n",
        "p.legend.location = 'top_left'\n",
        "p.legend.orientation = 'horizontal'\n",
        "\n",
        "# Show the plot\n",
        "show(p)\n"
      ]
    },
    {
      "cell_type": "markdown",
      "id": "58cb56cd-a4f5-43e0-b1e5-b57b18561a29",
      "metadata": {
        "id": "58cb56cd-a4f5-43e0-b1e5-b57b18561a29"
      },
      "source": [
        "# q20\n",
        "Using Plotly, create a basic line plot of a randomly generated dataset, label the axes, and set the title as\n",
        "'Simple Line Plot'"
      ]
    },
    {
      "cell_type": "code",
      "execution_count": 2,
      "id": "79dd16e3-2667-4523-acc5-d79af3c49e79",
      "metadata": {
        "id": "79dd16e3-2667-4523-acc5-d79af3c49e79"
      },
      "outputs": [],
      "source": [
        "x = np.linspace(1,10,100)"
      ]
    },
    {
      "cell_type": "code",
      "execution_count": 3,
      "id": "272e5c1e-b02b-4a91-a600-98c9c659e9fe",
      "metadata": {
        "id": "272e5c1e-b02b-4a91-a600-98c9c659e9fe"
      },
      "outputs": [],
      "source": [
        "y = np.random.random(100)"
      ]
    },
    {
      "cell_type": "code",
      "execution_count": 4,
      "id": "648cfe67-579d-41ad-a539-7b1f1ba7942d",
      "metadata": {
        "colab": {
          "base_uri": "https://localhost:8080/",
          "height": 542
        },
        "id": "648cfe67-579d-41ad-a539-7b1f1ba7942d",
        "outputId": "9043f43b-e3f1-4982-cea6-83beeb7c9ed1"
      },
      "outputs": [
        {
          "output_type": "display_data",
          "data": {
            "text/html": [
              "<html>\n",
              "<head><meta charset=\"utf-8\" /></head>\n",
              "<body>\n",
              "    <div>            <script src=\"https://cdnjs.cloudflare.com/ajax/libs/mathjax/2.7.5/MathJax.js?config=TeX-AMS-MML_SVG\"></script><script type=\"text/javascript\">if (window.MathJax && window.MathJax.Hub && window.MathJax.Hub.Config) {window.MathJax.Hub.Config({SVG: {font: \"STIX-Web\"}});}</script>                <script type=\"text/javascript\">window.PlotlyConfig = {MathJaxConfig: 'local'};</script>\n",
              "        <script charset=\"utf-8\" src=\"https://cdn.plot.ly/plotly-2.24.1.min.js\"></script>                <div id=\"faec1d57-6059-42ad-a0ed-915f26a8a687\" class=\"plotly-graph-div\" style=\"height:525px; width:100%;\"></div>            <script type=\"text/javascript\">                                    window.PLOTLYENV=window.PLOTLYENV || {};                                    if (document.getElementById(\"faec1d57-6059-42ad-a0ed-915f26a8a687\")) {                    Plotly.newPlot(                        \"faec1d57-6059-42ad-a0ed-915f26a8a687\",                        [{\"x\":[1.0,1.0909090909090908,1.1818181818181819,1.2727272727272727,1.3636363636363638,1.4545454545454546,1.5454545454545454,1.6363636363636362,1.7272727272727273,1.8181818181818183,1.9090909090909092,2.0,2.090909090909091,2.1818181818181817,2.2727272727272725,2.3636363636363638,2.4545454545454546,2.5454545454545454,2.6363636363636367,2.7272727272727275,2.8181818181818183,2.909090909090909,3.0,3.090909090909091,3.1818181818181817,3.272727272727273,3.3636363636363638,3.4545454545454546,3.5454545454545454,3.6363636363636362,3.7272727272727275,3.8181818181818183,3.909090909090909,4.0,4.090909090909091,4.181818181818182,4.272727272727273,4.363636363636363,4.454545454545455,4.545454545454545,4.636363636363637,4.7272727272727275,4.818181818181818,4.909090909090909,5.0,5.090909090909091,5.181818181818182,5.2727272727272725,5.363636363636363,5.454545454545455,5.545454545454546,5.636363636363637,5.7272727272727275,5.818181818181818,5.909090909090909,6.0,6.090909090909091,6.181818181818182,6.2727272727272725,6.363636363636364,6.454545454545455,6.545454545454546,6.636363636363637,6.7272727272727275,6.818181818181818,6.909090909090909,7.0,7.090909090909091,7.181818181818182,7.2727272727272725,7.363636363636364,7.454545454545455,7.545454545454546,7.636363636363637,7.7272727272727275,7.818181818181818,7.909090909090909,8.0,8.09090909090909,8.181818181818182,8.272727272727273,8.363636363636363,8.454545454545455,8.545454545454547,8.636363636363637,8.727272727272727,8.818181818181818,8.90909090909091,9.0,9.090909090909092,9.181818181818182,9.272727272727273,9.363636363636363,9.454545454545455,9.545454545454545,9.636363636363637,9.727272727272727,9.818181818181818,9.90909090909091,10.0],\"y\":[0.6235636967859723,0.3843817072926998,0.2975346065444723,0.05671297731744318,0.2726562945801132,0.47766511732134986,0.8121687287754932,0.4799771723750573,0.3927847961008297,0.8360787635373775,0.3373961604172684,0.6481718720511972,0.36824153984054797,0.9571551589530464,0.14035078041264515,0.8700872583584364,0.4736080452737105,0.8009107519796442,0.5204774795512048,0.6788795301189603,0.7206326547259168,0.5820197920751071,0.5373732294490107,0.7586156243223572,0.10590760718779213,0.4736004193466574,0.18633234332675996,0.7369181771289581,0.21655035442437187,0.13521817340545206,0.3241410077932141,0.14967486718368317,0.22232138825158765,0.38648898112586194,0.9025984755294046,0.4499499899112276,0.6130634578841324,0.9023485831739843,0.09928035035897387,0.9698090677467488,0.6531400357979377,0.17090958513604515,0.358152166969525,0.7506861412184562,0.6078306687154678,0.3250472290083525,0.038425426472734725,0.634274057957335,0.9589492686245203,0.6527903170054908,0.6350588736035638,0.9952995676778876,0.5818503294385343,0.4143685882263688,0.4746975022884129,0.6235101011318682,0.33800761483889175,0.6747523222590207,0.3172017420692961,0.778345482025909,0.9495710534507421,0.6625268669500443,0.013571635612109834,0.6228460955466695,0.6736596308357894,0.9719450024996658,0.878193471347177,0.5096243767199001,0.05571469370160631,0.4511592145209281,0.019987665408758737,0.44171092124884537,0.9795867288127285,0.3594444639693215,0.4808935308361628,0.6886611828057704,0.8804758892525955,0.9182354663621447,0.21682213762754288,0.5651888666048753,0.865102561305385,0.5089689606670145,0.9167229540194608,0.9211576102371998,0.08311249263060239,0.27771856128103245,0.009356704856532616,0.842342079667731,0.6471741401875555,0.8413861191973544,0.26473016428344964,0.39782075275862905,0.5528214798875715,0.16494046024188413,0.36980809274834003,0.14644176272911225,0.5696184059233067,0.7037372792899163,0.28847643704852866,0.43328806198204406],\"type\":\"scatter\"}],                        {\"template\":{\"data\":{\"histogram2dcontour\":[{\"type\":\"histogram2dcontour\",\"colorbar\":{\"outlinewidth\":0,\"ticks\":\"\"},\"colorscale\":[[0.0,\"#0d0887\"],[0.1111111111111111,\"#46039f\"],[0.2222222222222222,\"#7201a8\"],[0.3333333333333333,\"#9c179e\"],[0.4444444444444444,\"#bd3786\"],[0.5555555555555556,\"#d8576b\"],[0.6666666666666666,\"#ed7953\"],[0.7777777777777778,\"#fb9f3a\"],[0.8888888888888888,\"#fdca26\"],[1.0,\"#f0f921\"]]}],\"choropleth\":[{\"type\":\"choropleth\",\"colorbar\":{\"outlinewidth\":0,\"ticks\":\"\"}}],\"histogram2d\":[{\"type\":\"histogram2d\",\"colorbar\":{\"outlinewidth\":0,\"ticks\":\"\"},\"colorscale\":[[0.0,\"#0d0887\"],[0.1111111111111111,\"#46039f\"],[0.2222222222222222,\"#7201a8\"],[0.3333333333333333,\"#9c179e\"],[0.4444444444444444,\"#bd3786\"],[0.5555555555555556,\"#d8576b\"],[0.6666666666666666,\"#ed7953\"],[0.7777777777777778,\"#fb9f3a\"],[0.8888888888888888,\"#fdca26\"],[1.0,\"#f0f921\"]]}],\"heatmap\":[{\"type\":\"heatmap\",\"colorbar\":{\"outlinewidth\":0,\"ticks\":\"\"},\"colorscale\":[[0.0,\"#0d0887\"],[0.1111111111111111,\"#46039f\"],[0.2222222222222222,\"#7201a8\"],[0.3333333333333333,\"#9c179e\"],[0.4444444444444444,\"#bd3786\"],[0.5555555555555556,\"#d8576b\"],[0.6666666666666666,\"#ed7953\"],[0.7777777777777778,\"#fb9f3a\"],[0.8888888888888888,\"#fdca26\"],[1.0,\"#f0f921\"]]}],\"heatmapgl\":[{\"type\":\"heatmapgl\",\"colorbar\":{\"outlinewidth\":0,\"ticks\":\"\"},\"colorscale\":[[0.0,\"#0d0887\"],[0.1111111111111111,\"#46039f\"],[0.2222222222222222,\"#7201a8\"],[0.3333333333333333,\"#9c179e\"],[0.4444444444444444,\"#bd3786\"],[0.5555555555555556,\"#d8576b\"],[0.6666666666666666,\"#ed7953\"],[0.7777777777777778,\"#fb9f3a\"],[0.8888888888888888,\"#fdca26\"],[1.0,\"#f0f921\"]]}],\"contourcarpet\":[{\"type\":\"contourcarpet\",\"colorbar\":{\"outlinewidth\":0,\"ticks\":\"\"}}],\"contour\":[{\"type\":\"contour\",\"colorbar\":{\"outlinewidth\":0,\"ticks\":\"\"},\"colorscale\":[[0.0,\"#0d0887\"],[0.1111111111111111,\"#46039f\"],[0.2222222222222222,\"#7201a8\"],[0.3333333333333333,\"#9c179e\"],[0.4444444444444444,\"#bd3786\"],[0.5555555555555556,\"#d8576b\"],[0.6666666666666666,\"#ed7953\"],[0.7777777777777778,\"#fb9f3a\"],[0.8888888888888888,\"#fdca26\"],[1.0,\"#f0f921\"]]}],\"surface\":[{\"type\":\"surface\",\"colorbar\":{\"outlinewidth\":0,\"ticks\":\"\"},\"colorscale\":[[0.0,\"#0d0887\"],[0.1111111111111111,\"#46039f\"],[0.2222222222222222,\"#7201a8\"],[0.3333333333333333,\"#9c179e\"],[0.4444444444444444,\"#bd3786\"],[0.5555555555555556,\"#d8576b\"],[0.6666666666666666,\"#ed7953\"],[0.7777777777777778,\"#fb9f3a\"],[0.8888888888888888,\"#fdca26\"],[1.0,\"#f0f921\"]]}],\"mesh3d\":[{\"type\":\"mesh3d\",\"colorbar\":{\"outlinewidth\":0,\"ticks\":\"\"}}],\"scatter\":[{\"fillpattern\":{\"fillmode\":\"overlay\",\"size\":10,\"solidity\":0.2},\"type\":\"scatter\"}],\"parcoords\":[{\"type\":\"parcoords\",\"line\":{\"colorbar\":{\"outlinewidth\":0,\"ticks\":\"\"}}}],\"scatterpolargl\":[{\"type\":\"scatterpolargl\",\"marker\":{\"colorbar\":{\"outlinewidth\":0,\"ticks\":\"\"}}}],\"bar\":[{\"error_x\":{\"color\":\"#2a3f5f\"},\"error_y\":{\"color\":\"#2a3f5f\"},\"marker\":{\"line\":{\"color\":\"#E5ECF6\",\"width\":0.5},\"pattern\":{\"fillmode\":\"overlay\",\"size\":10,\"solidity\":0.2}},\"type\":\"bar\"}],\"scattergeo\":[{\"type\":\"scattergeo\",\"marker\":{\"colorbar\":{\"outlinewidth\":0,\"ticks\":\"\"}}}],\"scatterpolar\":[{\"type\":\"scatterpolar\",\"marker\":{\"colorbar\":{\"outlinewidth\":0,\"ticks\":\"\"}}}],\"histogram\":[{\"marker\":{\"pattern\":{\"fillmode\":\"overlay\",\"size\":10,\"solidity\":0.2}},\"type\":\"histogram\"}],\"scattergl\":[{\"type\":\"scattergl\",\"marker\":{\"colorbar\":{\"outlinewidth\":0,\"ticks\":\"\"}}}],\"scatter3d\":[{\"type\":\"scatter3d\",\"line\":{\"colorbar\":{\"outlinewidth\":0,\"ticks\":\"\"}},\"marker\":{\"colorbar\":{\"outlinewidth\":0,\"ticks\":\"\"}}}],\"scattermapbox\":[{\"type\":\"scattermapbox\",\"marker\":{\"colorbar\":{\"outlinewidth\":0,\"ticks\":\"\"}}}],\"scatterternary\":[{\"type\":\"scatterternary\",\"marker\":{\"colorbar\":{\"outlinewidth\":0,\"ticks\":\"\"}}}],\"scattercarpet\":[{\"type\":\"scattercarpet\",\"marker\":{\"colorbar\":{\"outlinewidth\":0,\"ticks\":\"\"}}}],\"carpet\":[{\"aaxis\":{\"endlinecolor\":\"#2a3f5f\",\"gridcolor\":\"white\",\"linecolor\":\"white\",\"minorgridcolor\":\"white\",\"startlinecolor\":\"#2a3f5f\"},\"baxis\":{\"endlinecolor\":\"#2a3f5f\",\"gridcolor\":\"white\",\"linecolor\":\"white\",\"minorgridcolor\":\"white\",\"startlinecolor\":\"#2a3f5f\"},\"type\":\"carpet\"}],\"table\":[{\"cells\":{\"fill\":{\"color\":\"#EBF0F8\"},\"line\":{\"color\":\"white\"}},\"header\":{\"fill\":{\"color\":\"#C8D4E3\"},\"line\":{\"color\":\"white\"}},\"type\":\"table\"}],\"barpolar\":[{\"marker\":{\"line\":{\"color\":\"#E5ECF6\",\"width\":0.5},\"pattern\":{\"fillmode\":\"overlay\",\"size\":10,\"solidity\":0.2}},\"type\":\"barpolar\"}],\"pie\":[{\"automargin\":true,\"type\":\"pie\"}]},\"layout\":{\"autotypenumbers\":\"strict\",\"colorway\":[\"#636efa\",\"#EF553B\",\"#00cc96\",\"#ab63fa\",\"#FFA15A\",\"#19d3f3\",\"#FF6692\",\"#B6E880\",\"#FF97FF\",\"#FECB52\"],\"font\":{\"color\":\"#2a3f5f\"},\"hovermode\":\"closest\",\"hoverlabel\":{\"align\":\"left\"},\"paper_bgcolor\":\"white\",\"plot_bgcolor\":\"#E5ECF6\",\"polar\":{\"bgcolor\":\"#E5ECF6\",\"angularaxis\":{\"gridcolor\":\"white\",\"linecolor\":\"white\",\"ticks\":\"\"},\"radialaxis\":{\"gridcolor\":\"white\",\"linecolor\":\"white\",\"ticks\":\"\"}},\"ternary\":{\"bgcolor\":\"#E5ECF6\",\"aaxis\":{\"gridcolor\":\"white\",\"linecolor\":\"white\",\"ticks\":\"\"},\"baxis\":{\"gridcolor\":\"white\",\"linecolor\":\"white\",\"ticks\":\"\"},\"caxis\":{\"gridcolor\":\"white\",\"linecolor\":\"white\",\"ticks\":\"\"}},\"coloraxis\":{\"colorbar\":{\"outlinewidth\":0,\"ticks\":\"\"}},\"colorscale\":{\"sequential\":[[0.0,\"#0d0887\"],[0.1111111111111111,\"#46039f\"],[0.2222222222222222,\"#7201a8\"],[0.3333333333333333,\"#9c179e\"],[0.4444444444444444,\"#bd3786\"],[0.5555555555555556,\"#d8576b\"],[0.6666666666666666,\"#ed7953\"],[0.7777777777777778,\"#fb9f3a\"],[0.8888888888888888,\"#fdca26\"],[1.0,\"#f0f921\"]],\"sequentialminus\":[[0.0,\"#0d0887\"],[0.1111111111111111,\"#46039f\"],[0.2222222222222222,\"#7201a8\"],[0.3333333333333333,\"#9c179e\"],[0.4444444444444444,\"#bd3786\"],[0.5555555555555556,\"#d8576b\"],[0.6666666666666666,\"#ed7953\"],[0.7777777777777778,\"#fb9f3a\"],[0.8888888888888888,\"#fdca26\"],[1.0,\"#f0f921\"]],\"diverging\":[[0,\"#8e0152\"],[0.1,\"#c51b7d\"],[0.2,\"#de77ae\"],[0.3,\"#f1b6da\"],[0.4,\"#fde0ef\"],[0.5,\"#f7f7f7\"],[0.6,\"#e6f5d0\"],[0.7,\"#b8e186\"],[0.8,\"#7fbc41\"],[0.9,\"#4d9221\"],[1,\"#276419\"]]},\"xaxis\":{\"gridcolor\":\"white\",\"linecolor\":\"white\",\"ticks\":\"\",\"title\":{\"standoff\":15},\"zerolinecolor\":\"white\",\"automargin\":true,\"zerolinewidth\":2},\"yaxis\":{\"gridcolor\":\"white\",\"linecolor\":\"white\",\"ticks\":\"\",\"title\":{\"standoff\":15},\"zerolinecolor\":\"white\",\"automargin\":true,\"zerolinewidth\":2},\"scene\":{\"xaxis\":{\"backgroundcolor\":\"#E5ECF6\",\"gridcolor\":\"white\",\"linecolor\":\"white\",\"showbackground\":true,\"ticks\":\"\",\"zerolinecolor\":\"white\",\"gridwidth\":2},\"yaxis\":{\"backgroundcolor\":\"#E5ECF6\",\"gridcolor\":\"white\",\"linecolor\":\"white\",\"showbackground\":true,\"ticks\":\"\",\"zerolinecolor\":\"white\",\"gridwidth\":2},\"zaxis\":{\"backgroundcolor\":\"#E5ECF6\",\"gridcolor\":\"white\",\"linecolor\":\"white\",\"showbackground\":true,\"ticks\":\"\",\"zerolinecolor\":\"white\",\"gridwidth\":2}},\"shapedefaults\":{\"line\":{\"color\":\"#2a3f5f\"}},\"annotationdefaults\":{\"arrowcolor\":\"#2a3f5f\",\"arrowhead\":0,\"arrowwidth\":1},\"geo\":{\"bgcolor\":\"white\",\"landcolor\":\"#E5ECF6\",\"subunitcolor\":\"white\",\"showland\":true,\"showlakes\":true,\"lakecolor\":\"white\"},\"title\":{\"x\":0.05},\"mapbox\":{\"style\":\"light\"}}}},                        {\"responsive\": true}                    ).then(function(){\n",
              "                            \n",
              "var gd = document.getElementById('faec1d57-6059-42ad-a0ed-915f26a8a687');\n",
              "var x = new MutationObserver(function (mutations, observer) {{\n",
              "        var display = window.getComputedStyle(gd).display;\n",
              "        if (!display || display === 'none') {{\n",
              "            console.log([gd, 'removed!']);\n",
              "            Plotly.purge(gd);\n",
              "            observer.disconnect();\n",
              "        }}\n",
              "}});\n",
              "\n",
              "// Listen for the removal of the full notebook cells\n",
              "var notebookContainer = gd.closest('#notebook-container');\n",
              "if (notebookContainer) {{\n",
              "    x.observe(notebookContainer, {childList: true});\n",
              "}}\n",
              "\n",
              "// Listen for the clearing of the current output cell\n",
              "var outputEl = gd.closest('.output');\n",
              "if (outputEl) {{\n",
              "    x.observe(outputEl, {childList: true});\n",
              "}}\n",
              "\n",
              "                        })                };                            </script>        </div>\n",
              "</body>\n",
              "</html>"
            ]
          },
          "metadata": {}
        }
      ],
      "source": [
        "\n",
        "import numpy as np\n",
        "import plotly.graph_objects as go\n",
        "fig = go.Figure(data=go.Scatter(x = x, y = y))\n",
        "fig.show()"
      ]
    },
    {
      "cell_type": "markdown",
      "id": "ad9829eb-417e-4234-885d-a640df76f328",
      "metadata": {
        "id": "ad9829eb-417e-4234-885d-a640df76f328"
      },
      "source": [
        "# q21\n",
        "Using Plotly, create an interactive pie chart of randomly generated data, add labels and percentages, set\n",
        "the title as 'Interactive Pie Chart'."
      ]
    },
    {
      "cell_type": "code",
      "execution_count": 1,
      "id": "519e8407-56c6-47e7-b249-7bded2c7aa16",
      "metadata": {
        "colab": {
          "base_uri": "https://localhost:8080/",
          "height": 542
        },
        "id": "519e8407-56c6-47e7-b249-7bded2c7aa16",
        "outputId": "ff84d1c9-9b4f-41c5-c718-b03126581d00"
      },
      "outputs": [
        {
          "output_type": "display_data",
          "data": {
            "text/html": [
              "<html>\n",
              "<head><meta charset=\"utf-8\" /></head>\n",
              "<body>\n",
              "    <div>            <script src=\"https://cdnjs.cloudflare.com/ajax/libs/mathjax/2.7.5/MathJax.js?config=TeX-AMS-MML_SVG\"></script><script type=\"text/javascript\">if (window.MathJax && window.MathJax.Hub && window.MathJax.Hub.Config) {window.MathJax.Hub.Config({SVG: {font: \"STIX-Web\"}});}</script>                <script type=\"text/javascript\">window.PlotlyConfig = {MathJaxConfig: 'local'};</script>\n",
              "        <script charset=\"utf-8\" src=\"https://cdn.plot.ly/plotly-2.24.1.min.js\"></script>                <div id=\"a81aef30-7d52-469b-b88c-99f1fd53016d\" class=\"plotly-graph-div\" style=\"height:525px; width:100%;\"></div>            <script type=\"text/javascript\">                                    window.PLOTLYENV=window.PLOTLYENV || {};                                    if (document.getElementById(\"a81aef30-7d52-469b-b88c-99f1fd53016d\")) {                    Plotly.newPlot(                        \"a81aef30-7d52-469b-b88c-99f1fd53016d\",                        [{\"insidetextorientation\":\"radial\",\"labels\":[\"Category 0\",\"Category 1\",\"Category 2\",\"Category 3\",\"Category 4\",\"Category 5\"],\"textinfo\":\"label+percent\",\"values\":[54,57,74,77,77,19],\"type\":\"pie\"}],                        {\"template\":{\"data\":{\"histogram2dcontour\":[{\"type\":\"histogram2dcontour\",\"colorbar\":{\"outlinewidth\":0,\"ticks\":\"\"},\"colorscale\":[[0.0,\"#0d0887\"],[0.1111111111111111,\"#46039f\"],[0.2222222222222222,\"#7201a8\"],[0.3333333333333333,\"#9c179e\"],[0.4444444444444444,\"#bd3786\"],[0.5555555555555556,\"#d8576b\"],[0.6666666666666666,\"#ed7953\"],[0.7777777777777778,\"#fb9f3a\"],[0.8888888888888888,\"#fdca26\"],[1.0,\"#f0f921\"]]}],\"choropleth\":[{\"type\":\"choropleth\",\"colorbar\":{\"outlinewidth\":0,\"ticks\":\"\"}}],\"histogram2d\":[{\"type\":\"histogram2d\",\"colorbar\":{\"outlinewidth\":0,\"ticks\":\"\"},\"colorscale\":[[0.0,\"#0d0887\"],[0.1111111111111111,\"#46039f\"],[0.2222222222222222,\"#7201a8\"],[0.3333333333333333,\"#9c179e\"],[0.4444444444444444,\"#bd3786\"],[0.5555555555555556,\"#d8576b\"],[0.6666666666666666,\"#ed7953\"],[0.7777777777777778,\"#fb9f3a\"],[0.8888888888888888,\"#fdca26\"],[1.0,\"#f0f921\"]]}],\"heatmap\":[{\"type\":\"heatmap\",\"colorbar\":{\"outlinewidth\":0,\"ticks\":\"\"},\"colorscale\":[[0.0,\"#0d0887\"],[0.1111111111111111,\"#46039f\"],[0.2222222222222222,\"#7201a8\"],[0.3333333333333333,\"#9c179e\"],[0.4444444444444444,\"#bd3786\"],[0.5555555555555556,\"#d8576b\"],[0.6666666666666666,\"#ed7953\"],[0.7777777777777778,\"#fb9f3a\"],[0.8888888888888888,\"#fdca26\"],[1.0,\"#f0f921\"]]}],\"heatmapgl\":[{\"type\":\"heatmapgl\",\"colorbar\":{\"outlinewidth\":0,\"ticks\":\"\"},\"colorscale\":[[0.0,\"#0d0887\"],[0.1111111111111111,\"#46039f\"],[0.2222222222222222,\"#7201a8\"],[0.3333333333333333,\"#9c179e\"],[0.4444444444444444,\"#bd3786\"],[0.5555555555555556,\"#d8576b\"],[0.6666666666666666,\"#ed7953\"],[0.7777777777777778,\"#fb9f3a\"],[0.8888888888888888,\"#fdca26\"],[1.0,\"#f0f921\"]]}],\"contourcarpet\":[{\"type\":\"contourcarpet\",\"colorbar\":{\"outlinewidth\":0,\"ticks\":\"\"}}],\"contour\":[{\"type\":\"contour\",\"colorbar\":{\"outlinewidth\":0,\"ticks\":\"\"},\"colorscale\":[[0.0,\"#0d0887\"],[0.1111111111111111,\"#46039f\"],[0.2222222222222222,\"#7201a8\"],[0.3333333333333333,\"#9c179e\"],[0.4444444444444444,\"#bd3786\"],[0.5555555555555556,\"#d8576b\"],[0.6666666666666666,\"#ed7953\"],[0.7777777777777778,\"#fb9f3a\"],[0.8888888888888888,\"#fdca26\"],[1.0,\"#f0f921\"]]}],\"surface\":[{\"type\":\"surface\",\"colorbar\":{\"outlinewidth\":0,\"ticks\":\"\"},\"colorscale\":[[0.0,\"#0d0887\"],[0.1111111111111111,\"#46039f\"],[0.2222222222222222,\"#7201a8\"],[0.3333333333333333,\"#9c179e\"],[0.4444444444444444,\"#bd3786\"],[0.5555555555555556,\"#d8576b\"],[0.6666666666666666,\"#ed7953\"],[0.7777777777777778,\"#fb9f3a\"],[0.8888888888888888,\"#fdca26\"],[1.0,\"#f0f921\"]]}],\"mesh3d\":[{\"type\":\"mesh3d\",\"colorbar\":{\"outlinewidth\":0,\"ticks\":\"\"}}],\"scatter\":[{\"fillpattern\":{\"fillmode\":\"overlay\",\"size\":10,\"solidity\":0.2},\"type\":\"scatter\"}],\"parcoords\":[{\"type\":\"parcoords\",\"line\":{\"colorbar\":{\"outlinewidth\":0,\"ticks\":\"\"}}}],\"scatterpolargl\":[{\"type\":\"scatterpolargl\",\"marker\":{\"colorbar\":{\"outlinewidth\":0,\"ticks\":\"\"}}}],\"bar\":[{\"error_x\":{\"color\":\"#2a3f5f\"},\"error_y\":{\"color\":\"#2a3f5f\"},\"marker\":{\"line\":{\"color\":\"#E5ECF6\",\"width\":0.5},\"pattern\":{\"fillmode\":\"overlay\",\"size\":10,\"solidity\":0.2}},\"type\":\"bar\"}],\"scattergeo\":[{\"type\":\"scattergeo\",\"marker\":{\"colorbar\":{\"outlinewidth\":0,\"ticks\":\"\"}}}],\"scatterpolar\":[{\"type\":\"scatterpolar\",\"marker\":{\"colorbar\":{\"outlinewidth\":0,\"ticks\":\"\"}}}],\"histogram\":[{\"marker\":{\"pattern\":{\"fillmode\":\"overlay\",\"size\":10,\"solidity\":0.2}},\"type\":\"histogram\"}],\"scattergl\":[{\"type\":\"scattergl\",\"marker\":{\"colorbar\":{\"outlinewidth\":0,\"ticks\":\"\"}}}],\"scatter3d\":[{\"type\":\"scatter3d\",\"line\":{\"colorbar\":{\"outlinewidth\":0,\"ticks\":\"\"}},\"marker\":{\"colorbar\":{\"outlinewidth\":0,\"ticks\":\"\"}}}],\"scattermapbox\":[{\"type\":\"scattermapbox\",\"marker\":{\"colorbar\":{\"outlinewidth\":0,\"ticks\":\"\"}}}],\"scatterternary\":[{\"type\":\"scatterternary\",\"marker\":{\"colorbar\":{\"outlinewidth\":0,\"ticks\":\"\"}}}],\"scattercarpet\":[{\"type\":\"scattercarpet\",\"marker\":{\"colorbar\":{\"outlinewidth\":0,\"ticks\":\"\"}}}],\"carpet\":[{\"aaxis\":{\"endlinecolor\":\"#2a3f5f\",\"gridcolor\":\"white\",\"linecolor\":\"white\",\"minorgridcolor\":\"white\",\"startlinecolor\":\"#2a3f5f\"},\"baxis\":{\"endlinecolor\":\"#2a3f5f\",\"gridcolor\":\"white\",\"linecolor\":\"white\",\"minorgridcolor\":\"white\",\"startlinecolor\":\"#2a3f5f\"},\"type\":\"carpet\"}],\"table\":[{\"cells\":{\"fill\":{\"color\":\"#EBF0F8\"},\"line\":{\"color\":\"white\"}},\"header\":{\"fill\":{\"color\":\"#C8D4E3\"},\"line\":{\"color\":\"white\"}},\"type\":\"table\"}],\"barpolar\":[{\"marker\":{\"line\":{\"color\":\"#E5ECF6\",\"width\":0.5},\"pattern\":{\"fillmode\":\"overlay\",\"size\":10,\"solidity\":0.2}},\"type\":\"barpolar\"}],\"pie\":[{\"automargin\":true,\"type\":\"pie\"}]},\"layout\":{\"autotypenumbers\":\"strict\",\"colorway\":[\"#636efa\",\"#EF553B\",\"#00cc96\",\"#ab63fa\",\"#FFA15A\",\"#19d3f3\",\"#FF6692\",\"#B6E880\",\"#FF97FF\",\"#FECB52\"],\"font\":{\"color\":\"#2a3f5f\"},\"hovermode\":\"closest\",\"hoverlabel\":{\"align\":\"left\"},\"paper_bgcolor\":\"white\",\"plot_bgcolor\":\"#E5ECF6\",\"polar\":{\"bgcolor\":\"#E5ECF6\",\"angularaxis\":{\"gridcolor\":\"white\",\"linecolor\":\"white\",\"ticks\":\"\"},\"radialaxis\":{\"gridcolor\":\"white\",\"linecolor\":\"white\",\"ticks\":\"\"}},\"ternary\":{\"bgcolor\":\"#E5ECF6\",\"aaxis\":{\"gridcolor\":\"white\",\"linecolor\":\"white\",\"ticks\":\"\"},\"baxis\":{\"gridcolor\":\"white\",\"linecolor\":\"white\",\"ticks\":\"\"},\"caxis\":{\"gridcolor\":\"white\",\"linecolor\":\"white\",\"ticks\":\"\"}},\"coloraxis\":{\"colorbar\":{\"outlinewidth\":0,\"ticks\":\"\"}},\"colorscale\":{\"sequential\":[[0.0,\"#0d0887\"],[0.1111111111111111,\"#46039f\"],[0.2222222222222222,\"#7201a8\"],[0.3333333333333333,\"#9c179e\"],[0.4444444444444444,\"#bd3786\"],[0.5555555555555556,\"#d8576b\"],[0.6666666666666666,\"#ed7953\"],[0.7777777777777778,\"#fb9f3a\"],[0.8888888888888888,\"#fdca26\"],[1.0,\"#f0f921\"]],\"sequentialminus\":[[0.0,\"#0d0887\"],[0.1111111111111111,\"#46039f\"],[0.2222222222222222,\"#7201a8\"],[0.3333333333333333,\"#9c179e\"],[0.4444444444444444,\"#bd3786\"],[0.5555555555555556,\"#d8576b\"],[0.6666666666666666,\"#ed7953\"],[0.7777777777777778,\"#fb9f3a\"],[0.8888888888888888,\"#fdca26\"],[1.0,\"#f0f921\"]],\"diverging\":[[0,\"#8e0152\"],[0.1,\"#c51b7d\"],[0.2,\"#de77ae\"],[0.3,\"#f1b6da\"],[0.4,\"#fde0ef\"],[0.5,\"#f7f7f7\"],[0.6,\"#e6f5d0\"],[0.7,\"#b8e186\"],[0.8,\"#7fbc41\"],[0.9,\"#4d9221\"],[1,\"#276419\"]]},\"xaxis\":{\"gridcolor\":\"white\",\"linecolor\":\"white\",\"ticks\":\"\",\"title\":{\"standoff\":15},\"zerolinecolor\":\"white\",\"automargin\":true,\"zerolinewidth\":2},\"yaxis\":{\"gridcolor\":\"white\",\"linecolor\":\"white\",\"ticks\":\"\",\"title\":{\"standoff\":15},\"zerolinecolor\":\"white\",\"automargin\":true,\"zerolinewidth\":2},\"scene\":{\"xaxis\":{\"backgroundcolor\":\"#E5ECF6\",\"gridcolor\":\"white\",\"linecolor\":\"white\",\"showbackground\":true,\"ticks\":\"\",\"zerolinecolor\":\"white\",\"gridwidth\":2},\"yaxis\":{\"backgroundcolor\":\"#E5ECF6\",\"gridcolor\":\"white\",\"linecolor\":\"white\",\"showbackground\":true,\"ticks\":\"\",\"zerolinecolor\":\"white\",\"gridwidth\":2},\"zaxis\":{\"backgroundcolor\":\"#E5ECF6\",\"gridcolor\":\"white\",\"linecolor\":\"white\",\"showbackground\":true,\"ticks\":\"\",\"zerolinecolor\":\"white\",\"gridwidth\":2}},\"shapedefaults\":{\"line\":{\"color\":\"#2a3f5f\"}},\"annotationdefaults\":{\"arrowcolor\":\"#2a3f5f\",\"arrowhead\":0,\"arrowwidth\":1},\"geo\":{\"bgcolor\":\"white\",\"landcolor\":\"#E5ECF6\",\"subunitcolor\":\"white\",\"showland\":true,\"showlakes\":true,\"lakecolor\":\"white\"},\"title\":{\"x\":0.05},\"mapbox\":{\"style\":\"light\"}}},\"title\":{\"text\":\"Interactive Pie Chart\"}},                        {\"responsive\": true}                    ).then(function(){\n",
              "                            \n",
              "var gd = document.getElementById('a81aef30-7d52-469b-b88c-99f1fd53016d');\n",
              "var x = new MutationObserver(function (mutations, observer) {{\n",
              "        var display = window.getComputedStyle(gd).display;\n",
              "        if (!display || display === 'none') {{\n",
              "            console.log([gd, 'removed!']);\n",
              "            Plotly.purge(gd);\n",
              "            observer.disconnect();\n",
              "        }}\n",
              "}});\n",
              "\n",
              "// Listen for the removal of the full notebook cells\n",
              "var notebookContainer = gd.closest('#notebook-container');\n",
              "if (notebookContainer) {{\n",
              "    x.observe(notebookContainer, {childList: true});\n",
              "}}\n",
              "\n",
              "// Listen for the clearing of the current output cell\n",
              "var outputEl = gd.closest('.output');\n",
              "if (outputEl) {{\n",
              "    x.observe(outputEl, {childList: true});\n",
              "}}\n",
              "\n",
              "                        })                };                            </script>        </div>\n",
              "</body>\n",
              "</html>"
            ]
          },
          "metadata": {}
        }
      ],
      "source": [
        "import numpy as np\n",
        "import plotly.graph_objects as go\n",
        "\n",
        "# Generate random data\n",
        "np.random.seed(0)  # For reproducibility\n",
        "labels = [f'Category {i}' for i in range(6)]  # 6 categories\n",
        "values = np.random.randint(10, 100, size=len(labels))  # Random values for each category\n",
        "\n",
        "# Create a pie chart using Plotly\n",
        "fig = go.Figure(data=[go.Pie(\n",
        "    labels=labels,\n",
        "    values=values,\n",
        "    textinfo='label+percent',  # Show labels and percentages\n",
        "    insidetextorientation='radial'  # Ensure labels are readable\n",
        ")])\n",
        "\n",
        "# Update layout with title\n",
        "fig.update_layout(\n",
        "    title='Interactive Pie Chart'\n",
        ")\n",
        "\n",
        "# Show the plot\n",
        "fig.show()\n"
      ]
    },
    {
      "cell_type": "code",
      "source": [],
      "metadata": {
        "id": "EtBqXsxkJd_E"
      },
      "id": "EtBqXsxkJd_E",
      "execution_count": null,
      "outputs": []
    }
  ],
  "metadata": {
    "kernelspec": {
      "display_name": "Python 3 (ipykernel)",
      "language": "python",
      "name": "python3"
    },
    "language_info": {
      "codemirror_mode": {
        "name": "ipython",
        "version": 3
      },
      "file_extension": ".py",
      "mimetype": "text/x-python",
      "name": "python",
      "nbconvert_exporter": "python",
      "pygments_lexer": "ipython3",
      "version": "3.10.8"
    },
    "colab": {
      "provenance": []
    }
  },
  "nbformat": 4,
  "nbformat_minor": 5
}